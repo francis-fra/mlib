{
 "cells": [
  {
   "cell_type": "code",
   "execution_count": 1,
   "metadata": {},
   "outputs": [],
   "source": [
    "import pandas as pd\n",
    "import sys\n",
    "mylib = '/home/fra/Project/pyProj/mlib'"
   ]
  },
  {
   "cell_type": "code",
   "execution_count": 2,
   "metadata": {},
   "outputs": [],
   "source": [
    "sys.path.append(mylib)"
   ]
  },
  {
   "cell_type": "code",
   "execution_count": 3,
   "metadata": {},
   "outputs": [],
   "source": [
    "data_folder = \"/home/fra/DataMart/datacentre/olddata/\"\n",
    "train_filename = 'ccbt_train.csv'"
   ]
  },
  {
   "cell_type": "code",
   "execution_count": 4,
   "metadata": {},
   "outputs": [
    {
     "data": {
      "text/html": [
       "<div>\n",
       "<style scoped>\n",
       "    .dataframe tbody tr th:only-of-type {\n",
       "        vertical-align: middle;\n",
       "    }\n",
       "\n",
       "    .dataframe tbody tr th {\n",
       "        vertical-align: top;\n",
       "    }\n",
       "\n",
       "    .dataframe thead th {\n",
       "        text-align: right;\n",
       "    }\n",
       "</style>\n",
       "<table border=\"1\" class=\"dataframe\">\n",
       "  <thead>\n",
       "    <tr style=\"text-align: right;\">\n",
       "      <th></th>\n",
       "      <th>target_f</th>\n",
       "      <th>GCIS_KEY</th>\n",
       "      <th>DATA_DT</th>\n",
       "      <th>CUNCZZ_AGE_YEARS</th>\n",
       "      <th>CUBCZZ_PERSONAL_CUST_IND</th>\n",
       "      <th>CUBCZZ_ALLOW_ADVERT_MAIL</th>\n",
       "      <th>CUBCZZ_ALLOW_PHONE_CONTACT</th>\n",
       "      <th>CUBCZZ_REL_MGT_IND</th>\n",
       "      <th>CUNCZZ_CUST_TENURE</th>\n",
       "      <th>CUCCZZ_CUST_GENDER</th>\n",
       "      <th>...</th>\n",
       "      <th>AFBCZZ_LOAN_OFFSET_IND</th>\n",
       "      <th>AFBCZZ_TD_IND</th>\n",
       "      <th>AFNCZZ_TD_BAL_AMT</th>\n",
       "      <th>AFBCZZ_TD_MATURE_IN_1M</th>\n",
       "      <th>AFBCZZ_TD_MATURE_IN_3M</th>\n",
       "      <th>AFBCZZ_TD_MATURE_IN_6M</th>\n",
       "      <th>AFBCZZ_FR_LOAN_MATURE_IN_3M</th>\n",
       "      <th>AFBCZZ_FR_LOAN_MATURE_IN_6M</th>\n",
       "      <th>AFBCZZ_FR_LOAN_MATURE_IN_12M</th>\n",
       "      <th>PROCESS_DTTM</th>\n",
       "    </tr>\n",
       "  </thead>\n",
       "  <tbody>\n",
       "    <tr>\n",
       "      <th>0</th>\n",
       "      <td>0</td>\n",
       "      <td>55349465</td>\n",
       "      <td>31/10/2017</td>\n",
       "      <td>0</td>\n",
       "      <td>0</td>\n",
       "      <td>0</td>\n",
       "      <td>0</td>\n",
       "      <td>1</td>\n",
       "      <td>1.0</td>\n",
       "      <td>NaN</td>\n",
       "      <td>...</td>\n",
       "      <td>0</td>\n",
       "      <td>0</td>\n",
       "      <td>0.0</td>\n",
       "      <td>0</td>\n",
       "      <td>0</td>\n",
       "      <td>0</td>\n",
       "      <td>0</td>\n",
       "      <td>0</td>\n",
       "      <td>0</td>\n",
       "      <td>27:01.4</td>\n",
       "    </tr>\n",
       "    <tr>\n",
       "      <th>1</th>\n",
       "      <td>1</td>\n",
       "      <td>55510132</td>\n",
       "      <td>30/11/2017</td>\n",
       "      <td>33</td>\n",
       "      <td>1</td>\n",
       "      <td>0</td>\n",
       "      <td>0</td>\n",
       "      <td>0</td>\n",
       "      <td>1.0</td>\n",
       "      <td>F</td>\n",
       "      <td>...</td>\n",
       "      <td>1</td>\n",
       "      <td>0</td>\n",
       "      <td>0.0</td>\n",
       "      <td>0</td>\n",
       "      <td>0</td>\n",
       "      <td>0</td>\n",
       "      <td>0</td>\n",
       "      <td>0</td>\n",
       "      <td>0</td>\n",
       "      <td>37:10.8</td>\n",
       "    </tr>\n",
       "    <tr>\n",
       "      <th>2</th>\n",
       "      <td>0</td>\n",
       "      <td>50260882</td>\n",
       "      <td>30/11/2017</td>\n",
       "      <td>58</td>\n",
       "      <td>1</td>\n",
       "      <td>0</td>\n",
       "      <td>0</td>\n",
       "      <td>0</td>\n",
       "      <td>18.0</td>\n",
       "      <td>F</td>\n",
       "      <td>...</td>\n",
       "      <td>0</td>\n",
       "      <td>0</td>\n",
       "      <td>0.0</td>\n",
       "      <td>0</td>\n",
       "      <td>0</td>\n",
       "      <td>0</td>\n",
       "      <td>0</td>\n",
       "      <td>0</td>\n",
       "      <td>0</td>\n",
       "      <td>37:10.8</td>\n",
       "    </tr>\n",
       "    <tr>\n",
       "      <th>3</th>\n",
       "      <td>0</td>\n",
       "      <td>52934020</td>\n",
       "      <td>31/07/2017</td>\n",
       "      <td>46</td>\n",
       "      <td>1</td>\n",
       "      <td>1</td>\n",
       "      <td>1</td>\n",
       "      <td>0</td>\n",
       "      <td>9.0</td>\n",
       "      <td>F</td>\n",
       "      <td>...</td>\n",
       "      <td>0</td>\n",
       "      <td>0</td>\n",
       "      <td>0.0</td>\n",
       "      <td>0</td>\n",
       "      <td>0</td>\n",
       "      <td>0</td>\n",
       "      <td>0</td>\n",
       "      <td>0</td>\n",
       "      <td>0</td>\n",
       "      <td>07:09.2</td>\n",
       "    </tr>\n",
       "    <tr>\n",
       "      <th>4</th>\n",
       "      <td>0</td>\n",
       "      <td>54700818</td>\n",
       "      <td>31/05/2018</td>\n",
       "      <td>0</td>\n",
       "      <td>0</td>\n",
       "      <td>0</td>\n",
       "      <td>0</td>\n",
       "      <td>1</td>\n",
       "      <td>4.0</td>\n",
       "      <td>NaN</td>\n",
       "      <td>...</td>\n",
       "      <td>0</td>\n",
       "      <td>0</td>\n",
       "      <td>0.0</td>\n",
       "      <td>0</td>\n",
       "      <td>0</td>\n",
       "      <td>0</td>\n",
       "      <td>0</td>\n",
       "      <td>0</td>\n",
       "      <td>1</td>\n",
       "      <td>07:24.8</td>\n",
       "    </tr>\n",
       "  </tbody>\n",
       "</table>\n",
       "<p>5 rows × 365 columns</p>\n",
       "</div>"
      ],
      "text/plain": [
       "   target_f  GCIS_KEY     DATA_DT  CUNCZZ_AGE_YEARS  CUBCZZ_PERSONAL_CUST_IND  \\\n",
       "0         0  55349465  31/10/2017                 0                         0   \n",
       "1         1  55510132  30/11/2017                33                         1   \n",
       "2         0  50260882  30/11/2017                58                         1   \n",
       "3         0  52934020  31/07/2017                46                         1   \n",
       "4         0  54700818  31/05/2018                 0                         0   \n",
       "\n",
       "   CUBCZZ_ALLOW_ADVERT_MAIL  CUBCZZ_ALLOW_PHONE_CONTACT  CUBCZZ_REL_MGT_IND  \\\n",
       "0                         0                           0                   1   \n",
       "1                         0                           0                   0   \n",
       "2                         0                           0                   0   \n",
       "3                         1                           1                   0   \n",
       "4                         0                           0                   1   \n",
       "\n",
       "   CUNCZZ_CUST_TENURE CUCCZZ_CUST_GENDER  ... AFBCZZ_LOAN_OFFSET_IND  \\\n",
       "0                 1.0                NaN  ...                      0   \n",
       "1                 1.0                  F  ...                      1   \n",
       "2                18.0                  F  ...                      0   \n",
       "3                 9.0                  F  ...                      0   \n",
       "4                 4.0                NaN  ...                      0   \n",
       "\n",
       "   AFBCZZ_TD_IND  AFNCZZ_TD_BAL_AMT AFBCZZ_TD_MATURE_IN_1M  \\\n",
       "0              0                0.0                      0   \n",
       "1              0                0.0                      0   \n",
       "2              0                0.0                      0   \n",
       "3              0                0.0                      0   \n",
       "4              0                0.0                      0   \n",
       "\n",
       "   AFBCZZ_TD_MATURE_IN_3M AFBCZZ_TD_MATURE_IN_6M AFBCZZ_FR_LOAN_MATURE_IN_3M  \\\n",
       "0                       0                      0                           0   \n",
       "1                       0                      0                           0   \n",
       "2                       0                      0                           0   \n",
       "3                       0                      0                           0   \n",
       "4                       0                      0                           0   \n",
       "\n",
       "  AFBCZZ_FR_LOAN_MATURE_IN_6M AFBCZZ_FR_LOAN_MATURE_IN_12M  PROCESS_DTTM  \n",
       "0                           0                            0       27:01.4  \n",
       "1                           0                            0       37:10.8  \n",
       "2                           0                            0       37:10.8  \n",
       "3                           0                            0       07:09.2  \n",
       "4                           0                            1       07:24.8  \n",
       "\n",
       "[5 rows x 365 columns]"
      ]
     },
     "execution_count": 4,
     "metadata": {},
     "output_type": "execute_result"
    }
   ],
   "source": [
    "df = pd.read_csv(data_folder + train_filename, skipinitialspace=True)\n",
    "df.head()"
   ]
  },
  {
   "cell_type": "code",
   "execution_count": 5,
   "metadata": {},
   "outputs": [],
   "source": [
    "import utility as util\n",
    "import explore as ex\n",
    "import pipeline as pl\n",
    "import transform as trf\n",
    "from imp import reload"
   ]
  },
  {
   "cell_type": "code",
   "execution_count": 6,
   "metadata": {},
   "outputs": [],
   "source": [
    "exclusions=['DATA_DT', 'PROCESS_DTTM', 'GCIS_KEY']\n",
    "target_col = 'TARGET_F'"
   ]
  },
  {
   "cell_type": "code",
   "execution_count": 7,
   "metadata": {},
   "outputs": [],
   "source": [
    "(X, y, features, py, px) = pl.binary_classfication_preprocess(df, target_col, exclusions)"
   ]
  },
  {
   "cell_type": "code",
   "execution_count": 8,
   "metadata": {},
   "outputs": [
    {
     "data": {
      "text/plain": [
       "((40675, 361), (40675,), (361,))"
      ]
     },
     "execution_count": 8,
     "metadata": {},
     "output_type": "execute_result"
    }
   ],
   "source": [
    "X.shape, y.shape, features.shape"
   ]
  },
  {
   "cell_type": "markdown",
   "metadata": {},
   "source": [
    "### Out of sample: WOE"
   ]
  },
  {
   "cell_type": "code",
   "execution_count": 12,
   "metadata": {},
   "outputs": [],
   "source": [
    "from sklearn.model_selection import train_test_split\n",
    "(traindf, testdf) = train_test_split(df, test_size=0.3)"
   ]
  },
  {
   "cell_type": "code",
   "execution_count": 13,
   "metadata": {},
   "outputs": [],
   "source": [
    "(X, y, features, py, px) = pl.binary_classfication_preprocess(traindf, target_col, exclusions)"
   ]
  },
  {
   "cell_type": "code",
   "execution_count": 14,
   "metadata": {},
   "outputs": [],
   "source": [
    "import xgboost as xgb\n",
    "model = xgb.XGBClassifier().fit(X, y)"
   ]
  },
  {
   "cell_type": "code",
   "execution_count": 16,
   "metadata": {},
   "outputs": [],
   "source": [
    "ytest = py.transform(testdf)\n",
    "Xtest = px.transform(testdf)"
   ]
  },
  {
   "cell_type": "code",
   "execution_count": 21,
   "metadata": {},
   "outputs": [],
   "source": [
    "from sklearn.metrics import accuracy_score\n",
    "from sklearn.metrics import roc_auc_score\n",
    "from sklearn.metrics import roc_curve\n",
    "from sklearn.metrics import confusion_matrix"
   ]
  },
  {
   "cell_type": "code",
   "execution_count": 18,
   "metadata": {},
   "outputs": [],
   "source": [
    "def print_model_performance(model, X_test, y_test):\n",
    "    predictions = model.predict(X_test)\n",
    "    pred_prob = model.predict_proba(X_test)\n",
    "\n",
    "    print(\"Accuracy: %f\" % accuracy_score(y_test, predictions))\n",
    "    print(\"Confustion Matrix: \")\n",
    "    print(confusion_matrix(y_true=y_test, y_pred=predictions))\n",
    "    print(\"AUC Score: %f\" % roc_auc_score(y_test, pred_prob[:,1]))\n",
    "    print(\"GINI Coefficient: %f\" % (roc_auc_score(y_test, pred_prob[:,1])*2-1))"
   ]
  },
  {
   "cell_type": "code",
   "execution_count": 22,
   "metadata": {},
   "outputs": [
    {
     "name": "stdout",
     "output_type": "stream",
     "text": [
      "Accuracy: 0.645333\n",
      "Confustion Matrix: \n",
      "[[4171 2152]\n",
      " [2176 3704]]\n",
      "AUC Score: 0.708112\n",
      "GINI Coefficient: 0.416224\n"
     ]
    }
   ],
   "source": [
    "print_model_performance(model, Xtest.to_numpy(), ytest)"
   ]
  },
  {
   "cell_type": "markdown",
   "metadata": {},
   "source": [
    "### Out of sample: Dummy"
   ]
  },
  {
   "cell_type": "code",
   "execution_count": 23,
   "metadata": {},
   "outputs": [],
   "source": [
    "(dX, dy, dfeatures, dpy, dpx) = pl.dummy_feature_preprocess(traindf, target_col,exclusions)"
   ]
  },
  {
   "cell_type": "code",
   "execution_count": 24,
   "metadata": {},
   "outputs": [],
   "source": [
    "# modelling\n",
    "xgbmodel = xgb.XGBClassifier().fit(dX, dy)"
   ]
  },
  {
   "cell_type": "code",
   "execution_count": 25,
   "metadata": {},
   "outputs": [],
   "source": [
    "ytest = dpy.transform(testdf)\n",
    "Xtest = dpx.transform(testdf)"
   ]
  },
  {
   "cell_type": "code",
   "execution_count": 28,
   "metadata": {},
   "outputs": [
    {
     "data": {
      "text/plain": [
       "<module 'utility' from '/home/fra/Project/pyProj/mlib/utility.py'>"
      ]
     },
     "execution_count": 28,
     "metadata": {},
     "output_type": "execute_result"
    }
   ],
   "source": [
    "reload(util)"
   ]
  },
  {
   "cell_type": "code",
   "execution_count": 29,
   "metadata": {},
   "outputs": [],
   "source": [
    "# prepare test data set\n",
    "XX = util.reframe(Xtest, dfeatures)"
   ]
  },
  {
   "cell_type": "code",
   "execution_count": 30,
   "metadata": {},
   "outputs": [
    {
     "name": "stdout",
     "output_type": "stream",
     "text": [
      "Accuracy: 0.545440\n",
      "Confustion Matrix: \n",
      "[[1107 5216]\n",
      " [ 331 5549]]\n",
      "AUC Score: 0.672046\n",
      "GINI Coefficient: 0.344092\n"
     ]
    }
   ],
   "source": [
    "print_model_performance(xgbmodel, XX.to_numpy(), ytest)"
   ]
  },
  {
   "cell_type": "markdown",
   "metadata": {},
   "source": [
    "### OUt of sample: standard"
   ]
  },
  {
   "cell_type": "code",
   "execution_count": 31,
   "metadata": {},
   "outputs": [],
   "source": [
    "from sklearn.preprocessing import StandardScaler, OrdinalEncoder"
   ]
  },
  {
   "cell_type": "code",
   "execution_count": 40,
   "metadata": {},
   "outputs": [],
   "source": [
    "ntransformer = StandardScaler\n",
    "ctransformer = OrdinalEncoder\n",
    "(X, y, features, py, px) = pl.standard_feature_preprocess(traindf, target_col, ntransformer, ctransformer, exclusions)"
   ]
  },
  {
   "cell_type": "code",
   "execution_count": 41,
   "metadata": {},
   "outputs": [],
   "source": [
    "# modelling\n",
    "xgbmodel = xgb.XGBClassifier().fit(X, y)"
   ]
  },
  {
   "cell_type": "code",
   "execution_count": 42,
   "metadata": {},
   "outputs": [],
   "source": [
    "ytest = py.transform(testdf)\n",
    "Xtest = px.transform(testdf)"
   ]
  },
  {
   "cell_type": "code",
   "execution_count": 43,
   "metadata": {},
   "outputs": [],
   "source": [
    "XX = util.reframe(Xtest, features)"
   ]
  },
  {
   "cell_type": "code",
   "execution_count": 44,
   "metadata": {},
   "outputs": [
    {
     "name": "stdout",
     "output_type": "stream",
     "text": [
      "Accuracy: 0.570433\n",
      "Confustion Matrix: \n",
      "[[1890 4433]\n",
      " [ 809 5071]]\n",
      "AUC Score: 0.660365\n",
      "GINI Coefficient: 0.320730\n"
     ]
    }
   ],
   "source": [
    "print_model_performance(xgbmodel, XX.to_numpy(), ytest)"
   ]
  },
  {
   "cell_type": "code",
   "execution_count": null,
   "metadata": {},
   "outputs": [],
   "source": []
  }
 ],
 "metadata": {
  "kernelspec": {
   "display_name": "Python 3",
   "language": "python",
   "name": "python3"
  },
  "language_info": {
   "codemirror_mode": {
    "name": "ipython",
    "version": 3
   },
   "file_extension": ".py",
   "mimetype": "text/x-python",
   "name": "python",
   "nbconvert_exporter": "python",
   "pygments_lexer": "ipython3",
   "version": "3.6.9"
  }
 },
 "nbformat": 4,
 "nbformat_minor": 4
}
