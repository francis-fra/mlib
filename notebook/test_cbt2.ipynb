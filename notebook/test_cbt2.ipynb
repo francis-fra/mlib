{
 "cells": [
  {
   "cell_type": "code",
   "execution_count": 1,
   "metadata": {},
   "outputs": [],
   "source": [
    "import pandas as pd\n",
    "import sys\n",
    "mylib = '/home/fra/Project/pyProj/mlib'"
   ]
  },
  {
   "cell_type": "code",
   "execution_count": 2,
   "metadata": {},
   "outputs": [],
   "source": [
    "sys.path.append(mylib)"
   ]
  },
  {
   "cell_type": "code",
   "execution_count": 3,
   "metadata": {},
   "outputs": [],
   "source": [
    "data_folder = \"/home/fra/DataMart/datacentre/olddata/\"\n",
    "train_filename = 'ccbt_train.csv'"
   ]
  },
  {
   "cell_type": "code",
   "execution_count": 4,
   "metadata": {},
   "outputs": [
    {
     "data": {
      "text/html": [
       "<div>\n",
       "<style scoped>\n",
       "    .dataframe tbody tr th:only-of-type {\n",
       "        vertical-align: middle;\n",
       "    }\n",
       "\n",
       "    .dataframe tbody tr th {\n",
       "        vertical-align: top;\n",
       "    }\n",
       "\n",
       "    .dataframe thead th {\n",
       "        text-align: right;\n",
       "    }\n",
       "</style>\n",
       "<table border=\"1\" class=\"dataframe\">\n",
       "  <thead>\n",
       "    <tr style=\"text-align: right;\">\n",
       "      <th></th>\n",
       "      <th>target_f</th>\n",
       "      <th>GCIS_KEY</th>\n",
       "      <th>DATA_DT</th>\n",
       "      <th>CUNCZZ_AGE_YEARS</th>\n",
       "      <th>CUBCZZ_PERSONAL_CUST_IND</th>\n",
       "      <th>CUBCZZ_ALLOW_ADVERT_MAIL</th>\n",
       "      <th>CUBCZZ_ALLOW_PHONE_CONTACT</th>\n",
       "      <th>CUBCZZ_REL_MGT_IND</th>\n",
       "      <th>CUNCZZ_CUST_TENURE</th>\n",
       "      <th>CUCCZZ_CUST_GENDER</th>\n",
       "      <th>...</th>\n",
       "      <th>AFBCZZ_LOAN_OFFSET_IND</th>\n",
       "      <th>AFBCZZ_TD_IND</th>\n",
       "      <th>AFNCZZ_TD_BAL_AMT</th>\n",
       "      <th>AFBCZZ_TD_MATURE_IN_1M</th>\n",
       "      <th>AFBCZZ_TD_MATURE_IN_3M</th>\n",
       "      <th>AFBCZZ_TD_MATURE_IN_6M</th>\n",
       "      <th>AFBCZZ_FR_LOAN_MATURE_IN_3M</th>\n",
       "      <th>AFBCZZ_FR_LOAN_MATURE_IN_6M</th>\n",
       "      <th>AFBCZZ_FR_LOAN_MATURE_IN_12M</th>\n",
       "      <th>PROCESS_DTTM</th>\n",
       "    </tr>\n",
       "  </thead>\n",
       "  <tbody>\n",
       "    <tr>\n",
       "      <th>0</th>\n",
       "      <td>0</td>\n",
       "      <td>55349465</td>\n",
       "      <td>31/10/2017</td>\n",
       "      <td>0</td>\n",
       "      <td>0</td>\n",
       "      <td>0</td>\n",
       "      <td>0</td>\n",
       "      <td>1</td>\n",
       "      <td>1.0</td>\n",
       "      <td>NaN</td>\n",
       "      <td>...</td>\n",
       "      <td>0</td>\n",
       "      <td>0</td>\n",
       "      <td>0.0</td>\n",
       "      <td>0</td>\n",
       "      <td>0</td>\n",
       "      <td>0</td>\n",
       "      <td>0</td>\n",
       "      <td>0</td>\n",
       "      <td>0</td>\n",
       "      <td>27:01.4</td>\n",
       "    </tr>\n",
       "    <tr>\n",
       "      <th>1</th>\n",
       "      <td>1</td>\n",
       "      <td>55510132</td>\n",
       "      <td>30/11/2017</td>\n",
       "      <td>33</td>\n",
       "      <td>1</td>\n",
       "      <td>0</td>\n",
       "      <td>0</td>\n",
       "      <td>0</td>\n",
       "      <td>1.0</td>\n",
       "      <td>F</td>\n",
       "      <td>...</td>\n",
       "      <td>1</td>\n",
       "      <td>0</td>\n",
       "      <td>0.0</td>\n",
       "      <td>0</td>\n",
       "      <td>0</td>\n",
       "      <td>0</td>\n",
       "      <td>0</td>\n",
       "      <td>0</td>\n",
       "      <td>0</td>\n",
       "      <td>37:10.8</td>\n",
       "    </tr>\n",
       "    <tr>\n",
       "      <th>2</th>\n",
       "      <td>0</td>\n",
       "      <td>50260882</td>\n",
       "      <td>30/11/2017</td>\n",
       "      <td>58</td>\n",
       "      <td>1</td>\n",
       "      <td>0</td>\n",
       "      <td>0</td>\n",
       "      <td>0</td>\n",
       "      <td>18.0</td>\n",
       "      <td>F</td>\n",
       "      <td>...</td>\n",
       "      <td>0</td>\n",
       "      <td>0</td>\n",
       "      <td>0.0</td>\n",
       "      <td>0</td>\n",
       "      <td>0</td>\n",
       "      <td>0</td>\n",
       "      <td>0</td>\n",
       "      <td>0</td>\n",
       "      <td>0</td>\n",
       "      <td>37:10.8</td>\n",
       "    </tr>\n",
       "    <tr>\n",
       "      <th>3</th>\n",
       "      <td>0</td>\n",
       "      <td>52934020</td>\n",
       "      <td>31/07/2017</td>\n",
       "      <td>46</td>\n",
       "      <td>1</td>\n",
       "      <td>1</td>\n",
       "      <td>1</td>\n",
       "      <td>0</td>\n",
       "      <td>9.0</td>\n",
       "      <td>F</td>\n",
       "      <td>...</td>\n",
       "      <td>0</td>\n",
       "      <td>0</td>\n",
       "      <td>0.0</td>\n",
       "      <td>0</td>\n",
       "      <td>0</td>\n",
       "      <td>0</td>\n",
       "      <td>0</td>\n",
       "      <td>0</td>\n",
       "      <td>0</td>\n",
       "      <td>07:09.2</td>\n",
       "    </tr>\n",
       "    <tr>\n",
       "      <th>4</th>\n",
       "      <td>0</td>\n",
       "      <td>54700818</td>\n",
       "      <td>31/05/2018</td>\n",
       "      <td>0</td>\n",
       "      <td>0</td>\n",
       "      <td>0</td>\n",
       "      <td>0</td>\n",
       "      <td>1</td>\n",
       "      <td>4.0</td>\n",
       "      <td>NaN</td>\n",
       "      <td>...</td>\n",
       "      <td>0</td>\n",
       "      <td>0</td>\n",
       "      <td>0.0</td>\n",
       "      <td>0</td>\n",
       "      <td>0</td>\n",
       "      <td>0</td>\n",
       "      <td>0</td>\n",
       "      <td>0</td>\n",
       "      <td>1</td>\n",
       "      <td>07:24.8</td>\n",
       "    </tr>\n",
       "  </tbody>\n",
       "</table>\n",
       "<p>5 rows × 365 columns</p>\n",
       "</div>"
      ],
      "text/plain": [
       "   target_f  GCIS_KEY     DATA_DT  CUNCZZ_AGE_YEARS  CUBCZZ_PERSONAL_CUST_IND  \\\n",
       "0         0  55349465  31/10/2017                 0                         0   \n",
       "1         1  55510132  30/11/2017                33                         1   \n",
       "2         0  50260882  30/11/2017                58                         1   \n",
       "3         0  52934020  31/07/2017                46                         1   \n",
       "4         0  54700818  31/05/2018                 0                         0   \n",
       "\n",
       "   CUBCZZ_ALLOW_ADVERT_MAIL  CUBCZZ_ALLOW_PHONE_CONTACT  CUBCZZ_REL_MGT_IND  \\\n",
       "0                         0                           0                   1   \n",
       "1                         0                           0                   0   \n",
       "2                         0                           0                   0   \n",
       "3                         1                           1                   0   \n",
       "4                         0                           0                   1   \n",
       "\n",
       "   CUNCZZ_CUST_TENURE CUCCZZ_CUST_GENDER  ... AFBCZZ_LOAN_OFFSET_IND  \\\n",
       "0                 1.0                NaN  ...                      0   \n",
       "1                 1.0                  F  ...                      1   \n",
       "2                18.0                  F  ...                      0   \n",
       "3                 9.0                  F  ...                      0   \n",
       "4                 4.0                NaN  ...                      0   \n",
       "\n",
       "   AFBCZZ_TD_IND  AFNCZZ_TD_BAL_AMT AFBCZZ_TD_MATURE_IN_1M  \\\n",
       "0              0                0.0                      0   \n",
       "1              0                0.0                      0   \n",
       "2              0                0.0                      0   \n",
       "3              0                0.0                      0   \n",
       "4              0                0.0                      0   \n",
       "\n",
       "   AFBCZZ_TD_MATURE_IN_3M AFBCZZ_TD_MATURE_IN_6M AFBCZZ_FR_LOAN_MATURE_IN_3M  \\\n",
       "0                       0                      0                           0   \n",
       "1                       0                      0                           0   \n",
       "2                       0                      0                           0   \n",
       "3                       0                      0                           0   \n",
       "4                       0                      0                           0   \n",
       "\n",
       "  AFBCZZ_FR_LOAN_MATURE_IN_6M AFBCZZ_FR_LOAN_MATURE_IN_12M  PROCESS_DTTM  \n",
       "0                           0                            0       27:01.4  \n",
       "1                           0                            0       37:10.8  \n",
       "2                           0                            0       37:10.8  \n",
       "3                           0                            0       07:09.2  \n",
       "4                           0                            1       07:24.8  \n",
       "\n",
       "[5 rows x 365 columns]"
      ]
     },
     "execution_count": 4,
     "metadata": {},
     "output_type": "execute_result"
    }
   ],
   "source": [
    "df = pd.read_csv(data_folder + train_filename, skipinitialspace=True)\n",
    "df.head()"
   ]
  },
  {
   "cell_type": "code",
   "execution_count": 5,
   "metadata": {},
   "outputs": [],
   "source": [
    "import utility as util\n",
    "import explore as ex\n",
    "import pipeline as pl\n",
    "import transform as trf"
   ]
  },
  {
   "cell_type": "code",
   "execution_count": 6,
   "metadata": {},
   "outputs": [],
   "source": [
    "from imp import reload"
   ]
  },
  {
   "cell_type": "code",
   "execution_count": 7,
   "metadata": {},
   "outputs": [],
   "source": [
    "from sklearn.preprocessing import StandardScaler, OrdinalEncoder\n",
    "ntransformer = StandardScaler\n",
    "ctransformer = OrdinalEncoder"
   ]
  },
  {
   "cell_type": "markdown",
   "metadata": {},
   "source": [
    "### Pipeline"
   ]
  },
  {
   "cell_type": "code",
   "execution_count": 8,
   "metadata": {},
   "outputs": [],
   "source": [
    "exclusions=['DATA_DT', 'PROCESS_DTTM', 'GCIS_KEY']"
   ]
  },
  {
   "cell_type": "code",
   "execution_count": 9,
   "metadata": {},
   "outputs": [],
   "source": [
    "target_col = 'TARGET_F'"
   ]
  },
  {
   "cell_type": "code",
   "execution_count": 10,
   "metadata": {},
   "outputs": [],
   "source": [
    "(X, y, features, py, px) = pl.standard_feature_preprocess(df, target_col, ntransformer, ctransformer, exclusions=['DATA_DT', 'PROCESS_DTTM', 'GCIS_KEY'])"
   ]
  },
  {
   "cell_type": "code",
   "execution_count": 11,
   "metadata": {},
   "outputs": [
    {
     "data": {
      "text/plain": [
       "((40675, 361), (40675,), (361,))"
      ]
     },
     "execution_count": 11,
     "metadata": {},
     "output_type": "execute_result"
    }
   ],
   "source": [
    "X.shape, y.shape, features.shape"
   ]
  },
  {
   "cell_type": "markdown",
   "metadata": {},
   "source": [
    "### Modelling"
   ]
  },
  {
   "cell_type": "code",
   "execution_count": 12,
   "metadata": {},
   "outputs": [],
   "source": [
    "# split train / test\n",
    "from sklearn.model_selection import train_test_split\n",
    "features = df.columns\n",
    "X_train, X_test, y_train, y_test = train_test_split(X, y, test_size=0.3)"
   ]
  },
  {
   "cell_type": "code",
   "execution_count": 13,
   "metadata": {},
   "outputs": [],
   "source": [
    "import xgboost as xgb\n",
    "model = xgb.XGBClassifier().fit(X_train, y_train)"
   ]
  },
  {
   "cell_type": "code",
   "execution_count": 14,
   "metadata": {},
   "outputs": [],
   "source": [
    "def print_model_performance(model, X_test, y_test):\n",
    "    predictions = model.predict(X_test)\n",
    "    pred_prob = model.predict_proba(X_test)\n",
    "\n",
    "    print(\"Accuracy: %f\" % accuracy_score(y_test, predictions))\n",
    "    print(\"Confustion Matrix: \")\n",
    "    print(confusion_matrix(y_true=y_test, y_pred=predictions))\n",
    "    print(\"AUC Score: %f\" % roc_auc_score(y_test, pred_prob[:,1]))\n",
    "    print(\"GINI Coefficient: %f\" % (roc_auc_score(y_test, pred_prob[:,1])*2-1))\n"
   ]
  },
  {
   "cell_type": "code",
   "execution_count": 15,
   "metadata": {},
   "outputs": [],
   "source": [
    "from sklearn.metrics import accuracy_score\n",
    "from sklearn.metrics import roc_auc_score\n",
    "from sklearn.metrics import roc_curve\n",
    "from sklearn.metrics import confusion_matrix"
   ]
  },
  {
   "cell_type": "code",
   "execution_count": 16,
   "metadata": {},
   "outputs": [
    {
     "name": "stdout",
     "output_type": "stream",
     "text": [
      "Accuracy: 0.658854\n",
      "Confustion Matrix: \n",
      "[[4317 2069]\n",
      " [2094 3723]]\n",
      "AUC Score: 0.725428\n",
      "GINI Coefficient: 0.450857\n"
     ]
    }
   ],
   "source": [
    "print_model_performance(model, X_test, y_test)"
   ]
  },
  {
   "cell_type": "markdown",
   "metadata": {},
   "source": [
    "### Dummy Transform"
   ]
  },
  {
   "cell_type": "code",
   "execution_count": 19,
   "metadata": {},
   "outputs": [],
   "source": [
    "(dX, dy, dfeatures, dpy, dpx) = pl.dummy_feature_preprocess(df, target_col,exclusions=['DATA_DT', 'PROCESS_DTTM', 'GCIS_KEY'])"
   ]
  },
  {
   "cell_type": "code",
   "execution_count": 20,
   "metadata": {},
   "outputs": [],
   "source": [
    "# split train / test\n",
    "from sklearn.model_selection import train_test_split\n",
    "features = df.columns\n",
    "X_train, X_test, y_train, y_test = train_test_split(dX, dy, test_size=0.3)"
   ]
  },
  {
   "cell_type": "code",
   "execution_count": 21,
   "metadata": {},
   "outputs": [],
   "source": [
    "dummy_model = xgb.XGBClassifier().fit(X_train, y_train)"
   ]
  },
  {
   "cell_type": "code",
   "execution_count": 23,
   "metadata": {},
   "outputs": [
    {
     "name": "stdout",
     "output_type": "stream",
     "text": [
      "Accuracy: 0.650824\n",
      "Confustion Matrix: \n",
      "[[4242 2131]\n",
      " [2130 3700]]\n",
      "AUC Score: 0.714111\n",
      "GINI Coefficient: 0.428222\n"
     ]
    }
   ],
   "source": [
    "print_model_performance(dummy_model, X_test, y_test)"
   ]
  },
  {
   "cell_type": "markdown",
   "metadata": {},
   "source": [
    "### Guided pipeline"
   ]
  },
  {
   "cell_type": "code",
   "execution_count": 30,
   "metadata": {},
   "outputs": [],
   "source": [
    "from category_encoders.woe import WOEEncoder"
   ]
  },
  {
   "cell_type": "code",
   "execution_count": 32,
   "metadata": {},
   "outputs": [],
   "source": [
    "transformer = WOEEncoder\n",
    "(dX, dy, dfeatures, dpy, dpx) = pl.target_guided_feature_preprocess(df, target_col, transformer, exclusions=['DATA_DT', 'PROCESS_DTTM', 'GCIS_KEY'])"
   ]
  },
  {
   "cell_type": "code",
   "execution_count": 33,
   "metadata": {},
   "outputs": [],
   "source": [
    "# split train / test\n",
    "from sklearn.model_selection import train_test_split\n",
    "features = df.columns\n",
    "X_train, X_test, y_train, y_test = train_test_split(dX, dy, test_size=0.3)"
   ]
  },
  {
   "cell_type": "code",
   "execution_count": 34,
   "metadata": {},
   "outputs": [],
   "source": [
    "supervised_model = xgb.XGBClassifier().fit(X_train, y_train)"
   ]
  },
  {
   "cell_type": "code",
   "execution_count": 35,
   "metadata": {},
   "outputs": [
    {
     "name": "stdout",
     "output_type": "stream",
     "text": [
      "Accuracy: 0.662296\n",
      "Confustion Matrix: \n",
      "[[4254 2069]\n",
      " [2052 3828]]\n",
      "AUC Score: 0.732340\n",
      "GINI Coefficient: 0.464680\n"
     ]
    }
   ],
   "source": [
    "print_model_performance(supervised_model, X_test, y_test)"
   ]
  },
  {
   "cell_type": "markdown",
   "metadata": {},
   "source": [
    "### Out of sample - WOE"
   ]
  },
  {
   "cell_type": "code",
   "execution_count": 36,
   "metadata": {},
   "outputs": [],
   "source": [
    "(traindf, testdf) = train_test_split(df, test_size=0.3)"
   ]
  },
  {
   "cell_type": "code",
   "execution_count": 37,
   "metadata": {},
   "outputs": [
    {
     "data": {
      "text/plain": [
       "((28472, 365), (12203, 365))"
      ]
     },
     "execution_count": 37,
     "metadata": {},
     "output_type": "execute_result"
    }
   ],
   "source": [
    "traindf.shape, testdf.shape"
   ]
  },
  {
   "cell_type": "code",
   "execution_count": 38,
   "metadata": {},
   "outputs": [],
   "source": [
    "transformer = WOEEncoder\n",
    "(dX, dy, dfeatures, dpy, dpx) = pl.target_guided_feature_preprocess(traindf, target_col, transformer, exclusions=['DATA_DT', 'PROCESS_DTTM', 'GCIS_KEY'])"
   ]
  },
  {
   "cell_type": "code",
   "execution_count": 39,
   "metadata": {},
   "outputs": [],
   "source": [
    "# modelling\n",
    "xgbmodel = xgb.XGBClassifier().fit(dX, dy)"
   ]
  },
  {
   "cell_type": "code",
   "execution_count": 40,
   "metadata": {},
   "outputs": [],
   "source": [
    "ytest = dpy.transform(testdf)"
   ]
  },
  {
   "cell_type": "code",
   "execution_count": 41,
   "metadata": {},
   "outputs": [],
   "source": [
    "Xtest = dpx.transform(testdf)"
   ]
  },
  {
   "cell_type": "code",
   "execution_count": 42,
   "metadata": {},
   "outputs": [
    {
     "name": "stdout",
     "output_type": "stream",
     "text": [
      "Accuracy: 0.642055\n",
      "Confustion Matrix: \n",
      "[[4193 2108]\n",
      " [2260 3642]]\n",
      "AUC Score: 0.706333\n",
      "GINI Coefficient: 0.412667\n"
     ]
    }
   ],
   "source": [
    "print_model_performance(xgbmodel, Xtest.to_numpy(), ytest)"
   ]
  },
  {
   "cell_type": "markdown",
   "metadata": {},
   "source": [
    "### Out of sample - Dummy"
   ]
  },
  {
   "cell_type": "code",
   "execution_count": 112,
   "metadata": {},
   "outputs": [
    {
     "data": {
      "text/plain": [
       "<module 'pipeline' from '/home/fra/Project/pyProj/mlib/pipeline.py'>"
      ]
     },
     "execution_count": 112,
     "metadata": {},
     "output_type": "execute_result"
    }
   ],
   "source": [
    "reload(trf)\n",
    "reload(pl)"
   ]
  },
  {
   "cell_type": "code",
   "execution_count": 113,
   "metadata": {},
   "outputs": [],
   "source": [
    "(dX, dy, dfeatures, dpy, dpx) = pl.dummy_feature_preprocess(traindf, target_col,exclusions=['DATA_DT', 'PROCESS_DTTM', 'GCIS_KEY'])"
   ]
  },
  {
   "cell_type": "code",
   "execution_count": 114,
   "metadata": {},
   "outputs": [
    {
     "data": {
      "text/plain": [
       "((28472, 2318), (28472,), (2318,))"
      ]
     },
     "execution_count": 114,
     "metadata": {},
     "output_type": "execute_result"
    }
   ],
   "source": [
    "dX.shape, dy.shape, dfeatures.shape"
   ]
  },
  {
   "cell_type": "code",
   "execution_count": 115,
   "metadata": {},
   "outputs": [],
   "source": [
    "# modelling\n",
    "xgbmodel = xgb.XGBClassifier().fit(dX, dy)"
   ]
  },
  {
   "cell_type": "code",
   "execution_count": 116,
   "metadata": {},
   "outputs": [],
   "source": [
    "ytest = dpy.transform(testdf)"
   ]
  },
  {
   "cell_type": "code",
   "execution_count": 117,
   "metadata": {},
   "outputs": [],
   "source": [
    "Xtest = dpx.transform(testdf)"
   ]
  },
  {
   "cell_type": "code",
   "execution_count": 118,
   "metadata": {},
   "outputs": [],
   "source": [
    "emptydf = pd.DataFrame(columns=dfeatures)"
   ]
  },
  {
   "cell_type": "code",
   "execution_count": 119,
   "metadata": {},
   "outputs": [],
   "source": [
    "tdf = emptydf.append(Xtest)[dfeatures]"
   ]
  },
  {
   "cell_type": "code",
   "execution_count": 120,
   "metadata": {},
   "outputs": [
    {
     "data": {
      "text/plain": [
       "set()"
      ]
     },
     "execution_count": 120,
     "metadata": {},
     "output_type": "execute_result"
    }
   ],
   "source": [
    "set(tdf).difference(dfeatures)"
   ]
  },
  {
   "cell_type": "code",
   "execution_count": 121,
   "metadata": {},
   "outputs": [
    {
     "data": {
      "text/plain": [
       "set()"
      ]
     },
     "execution_count": 121,
     "metadata": {},
     "output_type": "execute_result"
    }
   ],
   "source": [
    "set(dfeatures).difference(tdf)"
   ]
  },
  {
   "cell_type": "code",
   "execution_count": 122,
   "metadata": {},
   "outputs": [
    {
     "name": "stdout",
     "output_type": "stream",
     "text": [
      "Accuracy: 0.574777\n",
      "Confustion Matrix: \n",
      "[[1933 4368]\n",
      " [ 821 5081]]\n",
      "AUC Score: 0.655528\n",
      "GINI Coefficient: 0.311056\n"
     ]
    }
   ],
   "source": [
    "print_model_performance(xgbmodel, tdf.to_numpy(), ytest)"
   ]
  },
  {
   "cell_type": "code",
   "execution_count": null,
   "metadata": {},
   "outputs": [],
   "source": []
  },
  {
   "cell_type": "markdown",
   "metadata": {},
   "source": [
    "### Out of sample: Standard"
   ]
  },
  {
   "cell_type": "code",
   "execution_count": 63,
   "metadata": {},
   "outputs": [],
   "source": [
    "ntransformer = StandardScaler\n",
    "ctransformer = OrdinalEncoder\n",
    "(X, y, features, py, px) = pl.standard_feature_preprocess(traindf, target_col, ntransformer, ctransformer, exclusions=['DATA_DT', 'PROCESS_DTTM', 'GCIS_KEY'])"
   ]
  },
  {
   "cell_type": "code",
   "execution_count": 64,
   "metadata": {},
   "outputs": [
    {
     "data": {
      "text/plain": [
       "((28472, 361), (28472,), (361,))"
      ]
     },
     "execution_count": 64,
     "metadata": {},
     "output_type": "execute_result"
    }
   ],
   "source": [
    "X.shape, y.shape, features.shape"
   ]
  },
  {
   "cell_type": "code",
   "execution_count": 65,
   "metadata": {},
   "outputs": [],
   "source": [
    "# modelling\n",
    "xgbmodel = xgb.XGBClassifier().fit(X, y)"
   ]
  },
  {
   "cell_type": "code",
   "execution_count": 66,
   "metadata": {},
   "outputs": [],
   "source": [
    "ytest = py.transform(testdf)"
   ]
  },
  {
   "cell_type": "code",
   "execution_count": 67,
   "metadata": {},
   "outputs": [],
   "source": [
    "Xtest = px.transform(testdf)"
   ]
  },
  {
   "cell_type": "code",
   "execution_count": 68,
   "metadata": {},
   "outputs": [
    {
     "name": "stdout",
     "output_type": "stream",
     "text": [
      "Accuracy: 0.574613\n",
      "Confustion Matrix: \n",
      "[[1997 4304]\n",
      " [ 887 5015]]\n",
      "AUC Score: 0.649384\n",
      "GINI Coefficient: 0.298768\n"
     ]
    }
   ],
   "source": [
    "print_model_performance(xgbmodel, Xtest.to_numpy(), ytest)"
   ]
  },
  {
   "cell_type": "code",
   "execution_count": null,
   "metadata": {},
   "outputs": [],
   "source": []
  }
 ],
 "metadata": {
  "kernelspec": {
   "display_name": "Python 3",
   "language": "python",
   "name": "python3"
  },
  "language_info": {
   "codemirror_mode": {
    "name": "ipython",
    "version": 3
   },
   "file_extension": ".py",
   "mimetype": "text/x-python",
   "name": "python",
   "nbconvert_exporter": "python",
   "pygments_lexer": "ipython3",
   "version": "3.6.9"
  }
 },
 "nbformat": 4,
 "nbformat_minor": 4
}
