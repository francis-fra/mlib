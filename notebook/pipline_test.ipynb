{
 "cells": [
  {
   "cell_type": "code",
   "execution_count": 1,
   "id": "1cdf7b09",
   "metadata": {},
   "outputs": [
    {
     "data": {
      "text/html": [
       "<div>\n",
       "<style scoped>\n",
       "    .dataframe tbody tr th:only-of-type {\n",
       "        vertical-align: middle;\n",
       "    }\n",
       "\n",
       "    .dataframe tbody tr th {\n",
       "        vertical-align: top;\n",
       "    }\n",
       "\n",
       "    .dataframe thead th {\n",
       "        text-align: right;\n",
       "    }\n",
       "</style>\n",
       "<table border=\"1\" class=\"dataframe\">\n",
       "  <thead>\n",
       "    <tr style=\"text-align: right;\">\n",
       "      <th></th>\n",
       "      <th>GCIS_KEY</th>\n",
       "      <th>PERIOD_ID</th>\n",
       "      <th>TARGET_F</th>\n",
       "      <th>MBNCZZ_CUST_INIT_TRAN_COUNT</th>\n",
       "      <th>MBNCZZ_CUR_OTH_DEP_AMT</th>\n",
       "      <th>CINCZZ_EXPLICIT_INCOME</th>\n",
       "      <th>MBNCZZ_CUR_SAL_CREDIT_AMT</th>\n",
       "      <th>MBNCZZ_ABS_SPOT_AMT</th>\n",
       "      <th>CPNCZZ_MFI_TRAN_COUNT</th>\n",
       "      <th>CUNCZZ_AGE_YEARS</th>\n",
       "      <th>...</th>\n",
       "      <th>CPBCZZ_ACCT_CLOSE_IND</th>\n",
       "      <th>MBNHMI_AVG_OTH_DEP_AMT</th>\n",
       "      <th>MBBHMI_EVERYDAY_BANKER_IND</th>\n",
       "      <th>TRNHDL_AVG_DEPOSIT_AMT</th>\n",
       "      <th>MBOHDL_QUALITY_DEP_IND</th>\n",
       "      <th>CONHDL_SECURITY_AMT</th>\n",
       "      <th>CFNHDL_CURRENT_LVR</th>\n",
       "      <th>MBNHIC_AVG_CUST_INIT_TRAN_C</th>\n",
       "      <th>CMNHDL_FULL_FI_AMT</th>\n",
       "      <th>TRNHSL_TOT_WITHDRAWAL_CNT</th>\n",
       "    </tr>\n",
       "  </thead>\n",
       "  <tbody>\n",
       "    <tr>\n",
       "      <th>0</th>\n",
       "      <td>40554726</td>\n",
       "      <td>201805</td>\n",
       "      <td>0</td>\n",
       "      <td>41</td>\n",
       "      <td>380.00</td>\n",
       "      <td>3855.06</td>\n",
       "      <td>9272.93</td>\n",
       "      <td>14156.20</td>\n",
       "      <td>41</td>\n",
       "      <td>68</td>\n",
       "      <td>...</td>\n",
       "      <td>0</td>\n",
       "      <td>197.83</td>\n",
       "      <td>1</td>\n",
       "      <td>-154.18</td>\n",
       "      <td>0</td>\n",
       "      <td>0</td>\n",
       "      <td>0.0</td>\n",
       "      <td>40.83</td>\n",
       "      <td>-2.68</td>\n",
       "      <td>-2.91</td>\n",
       "    </tr>\n",
       "    <tr>\n",
       "      <th>1</th>\n",
       "      <td>91914018</td>\n",
       "      <td>201806</td>\n",
       "      <td>0</td>\n",
       "      <td>45</td>\n",
       "      <td>492.15</td>\n",
       "      <td>3174.62</td>\n",
       "      <td>11111.17</td>\n",
       "      <td>1935.03</td>\n",
       "      <td>45</td>\n",
       "      <td>58</td>\n",
       "      <td>...</td>\n",
       "      <td>0</td>\n",
       "      <td>818.96</td>\n",
       "      <td>1</td>\n",
       "      <td>-413.56</td>\n",
       "      <td>0</td>\n",
       "      <td>0</td>\n",
       "      <td>0.0</td>\n",
       "      <td>38.84</td>\n",
       "      <td>7.23</td>\n",
       "      <td>1.91</td>\n",
       "    </tr>\n",
       "    <tr>\n",
       "      <th>2</th>\n",
       "      <td>52451704</td>\n",
       "      <td>201807</td>\n",
       "      <td>0</td>\n",
       "      <td>106</td>\n",
       "      <td>0.00</td>\n",
       "      <td>0.00</td>\n",
       "      <td>1442.01</td>\n",
       "      <td>21127.10</td>\n",
       "      <td>106</td>\n",
       "      <td>40</td>\n",
       "      <td>...</td>\n",
       "      <td>0</td>\n",
       "      <td>192.70</td>\n",
       "      <td>1</td>\n",
       "      <td>-124.93</td>\n",
       "      <td>0</td>\n",
       "      <td>0</td>\n",
       "      <td>0.0</td>\n",
       "      <td>40.53</td>\n",
       "      <td>289.63</td>\n",
       "      <td>13.49</td>\n",
       "    </tr>\n",
       "    <tr>\n",
       "      <th>3</th>\n",
       "      <td>52296646</td>\n",
       "      <td>201807</td>\n",
       "      <td>0</td>\n",
       "      <td>121</td>\n",
       "      <td>2129.78</td>\n",
       "      <td>2107.72</td>\n",
       "      <td>11676.53</td>\n",
       "      <td>1748.23</td>\n",
       "      <td>118</td>\n",
       "      <td>47</td>\n",
       "      <td>...</td>\n",
       "      <td>0</td>\n",
       "      <td>1203.33</td>\n",
       "      <td>1</td>\n",
       "      <td>-212.11</td>\n",
       "      <td>0</td>\n",
       "      <td>0</td>\n",
       "      <td>0.0</td>\n",
       "      <td>72.17</td>\n",
       "      <td>10.20</td>\n",
       "      <td>9.17</td>\n",
       "    </tr>\n",
       "    <tr>\n",
       "      <th>4</th>\n",
       "      <td>55713846</td>\n",
       "      <td>201806</td>\n",
       "      <td>1</td>\n",
       "      <td>19</td>\n",
       "      <td>156.00</td>\n",
       "      <td>346.78</td>\n",
       "      <td>2901.22</td>\n",
       "      <td>151.83</td>\n",
       "      <td>19</td>\n",
       "      <td>42</td>\n",
       "      <td>...</td>\n",
       "      <td>0</td>\n",
       "      <td>20.00</td>\n",
       "      <td>1</td>\n",
       "      <td>-787.75</td>\n",
       "      <td>0</td>\n",
       "      <td>0</td>\n",
       "      <td>0.0</td>\n",
       "      <td>30.99</td>\n",
       "      <td>2.66</td>\n",
       "      <td>-9.34</td>\n",
       "    </tr>\n",
       "  </tbody>\n",
       "</table>\n",
       "<p>5 rows × 23 columns</p>\n",
       "</div>"
      ],
      "text/plain": [
       "   GCIS_KEY  PERIOD_ID  TARGET_F  MBNCZZ_CUST_INIT_TRAN_COUNT  \\\n",
       "0  40554726     201805         0                           41   \n",
       "1  91914018     201806         0                           45   \n",
       "2  52451704     201807         0                          106   \n",
       "3  52296646     201807         0                          121   \n",
       "4  55713846     201806         1                           19   \n",
       "\n",
       "   MBNCZZ_CUR_OTH_DEP_AMT  CINCZZ_EXPLICIT_INCOME  MBNCZZ_CUR_SAL_CREDIT_AMT  \\\n",
       "0                  380.00                 3855.06                    9272.93   \n",
       "1                  492.15                 3174.62                   11111.17   \n",
       "2                    0.00                    0.00                    1442.01   \n",
       "3                 2129.78                 2107.72                   11676.53   \n",
       "4                  156.00                  346.78                    2901.22   \n",
       "\n",
       "   MBNCZZ_ABS_SPOT_AMT  CPNCZZ_MFI_TRAN_COUNT  CUNCZZ_AGE_YEARS  ...  \\\n",
       "0             14156.20                     41                68  ...   \n",
       "1              1935.03                     45                58  ...   \n",
       "2             21127.10                    106                40  ...   \n",
       "3              1748.23                    118                47  ...   \n",
       "4               151.83                     19                42  ...   \n",
       "\n",
       "   CPBCZZ_ACCT_CLOSE_IND  MBNHMI_AVG_OTH_DEP_AMT  MBBHMI_EVERYDAY_BANKER_IND  \\\n",
       "0                      0                  197.83                           1   \n",
       "1                      0                  818.96                           1   \n",
       "2                      0                  192.70                           1   \n",
       "3                      0                 1203.33                           1   \n",
       "4                      0                   20.00                           1   \n",
       "\n",
       "   TRNHDL_AVG_DEPOSIT_AMT  MBOHDL_QUALITY_DEP_IND  CONHDL_SECURITY_AMT  \\\n",
       "0                 -154.18                       0                    0   \n",
       "1                 -413.56                       0                    0   \n",
       "2                 -124.93                       0                    0   \n",
       "3                 -212.11                       0                    0   \n",
       "4                 -787.75                       0                    0   \n",
       "\n",
       "   CFNHDL_CURRENT_LVR  MBNHIC_AVG_CUST_INIT_TRAN_C  CMNHDL_FULL_FI_AMT  \\\n",
       "0                 0.0                        40.83               -2.68   \n",
       "1                 0.0                        38.84                7.23   \n",
       "2                 0.0                        40.53              289.63   \n",
       "3                 0.0                        72.17               10.20   \n",
       "4                 0.0                        30.99                2.66   \n",
       "\n",
       "   TRNHSL_TOT_WITHDRAWAL_CNT  \n",
       "0                      -2.91  \n",
       "1                       1.91  \n",
       "2                      13.49  \n",
       "3                       9.17  \n",
       "4                      -9.34  \n",
       "\n",
       "[5 rows x 23 columns]"
      ]
     },
     "execution_count": 1,
     "metadata": {},
     "output_type": "execute_result"
    }
   ],
   "source": [
    "import pandas as pd\n",
    "\n",
    "data_source = \"/home/fra/Project/pyProj/mlib/data/\"\n",
    "train_file = \"data.csv\"\n",
    "\n",
    "# load data\n",
    "df = pd.read_csv(data_source + train_file, na_values=['?'])\n",
    "df.head()"
   ]
  },
  {
   "cell_type": "code",
   "execution_count": 2,
   "id": "b7fa301a",
   "metadata": {},
   "outputs": [],
   "source": [
    "exclusions=['DATA_DT', 'PROCESS_DTTM', 'GCIS_KEY', 'CUSTOMER_ID', 'PERIOD_ID']\n",
    "target_col =\"TARGET_F\""
   ]
  },
  {
   "cell_type": "code",
   "execution_count": 3,
   "id": "ad6a74e0",
   "metadata": {},
   "outputs": [],
   "source": [
    "import sys\n",
    "mylib = '/home/fra/Project/pyProj/mlib'\n",
    "sys.path.append(mylib)"
   ]
  },
  {
   "cell_type": "code",
   "execution_count": 4,
   "id": "697f96e0",
   "metadata": {},
   "outputs": [],
   "source": [
    "import utility as ut\n",
    "import explore as ex \n",
    "import model as ml\n",
    "import pipeline as pl"
   ]
  },
  {
   "cell_type": "markdown",
   "id": "649b527f",
   "metadata": {},
   "source": [
    "### Binary classification pipeline"
   ]
  },
  {
   "cell_type": "code",
   "execution_count": 5,
   "id": "71a607fe",
   "metadata": {},
   "outputs": [],
   "source": [
    "# names need to be in upper case\n",
    "base_pipeline = pl.make_base_pipeline(target_col, exclusions)"
   ]
  },
  {
   "cell_type": "code",
   "execution_count": 6,
   "id": "031f38be",
   "metadata": {},
   "outputs": [
    {
     "data": {
      "text/plain": [
       "['MBNHIC_AVG_CUST_INIT_TRAN_C', 'TRNHSL_TOT_WITHDRAWAL_CNT']"
      ]
     },
     "execution_count": 6,
     "metadata": {},
     "output_type": "execute_result"
    }
   ],
   "source": [
    "ex.get_missing_columns(df)"
   ]
  },
  {
   "cell_type": "code",
   "execution_count": 7,
   "id": "d32c7e01",
   "metadata": {},
   "outputs": [
    {
     "data": {
      "text/plain": [
       "{'int64': ['GCIS_KEY',\n",
       "  'PERIOD_ID',\n",
       "  'TARGET_F',\n",
       "  'MBNCZZ_CUST_INIT_TRAN_COUNT',\n",
       "  'CPNCZZ_MFI_TRAN_COUNT',\n",
       "  'CUNCZZ_AGE_YEARS',\n",
       "  'CPNCZZ_REL_AGE_IN_MTH',\n",
       "  'CPBCZZ_ACCT_CLOSE_IND',\n",
       "  'MBBHMI_EVERYDAY_BANKER_IND',\n",
       "  'MBOHDL_QUALITY_DEP_IND',\n",
       "  'CONHDL_SECURITY_AMT'],\n",
       " 'float64': ['MBNCZZ_CUR_OTH_DEP_AMT',\n",
       "  'CINCZZ_EXPLICIT_INCOME',\n",
       "  'MBNCZZ_CUR_SAL_CREDIT_AMT',\n",
       "  'MBNCZZ_ABS_SPOT_AMT',\n",
       "  'MBNCZZ_DEP_SPOT_BAL_AMT',\n",
       "  'CFNCZZ_ACC_TO_FUNDS',\n",
       "  'MBNHMI_AVG_OTH_DEP_AMT',\n",
       "  'TRNHDL_AVG_DEPOSIT_AMT',\n",
       "  'CFNHDL_CURRENT_LVR',\n",
       "  'MBNHIC_AVG_CUST_INIT_TRAN_C',\n",
       "  'CMNHDL_FULL_FI_AMT',\n",
       "  'TRNHSL_TOT_WITHDRAWAL_CNT']}"
      ]
     },
     "execution_count": 7,
     "metadata": {},
     "output_type": "execute_result"
    }
   ],
   "source": [
    "ex.get_type_dict(df)"
   ]
  },
  {
   "cell_type": "markdown",
   "id": "08fea4b7",
   "metadata": {},
   "source": [
    "### Standard Pipeline"
   ]
  },
  {
   "cell_type": "code",
   "execution_count": 8,
   "id": "65abc197",
   "metadata": {},
   "outputs": [],
   "source": [
    "from sklearn.preprocessing import StandardScaler, OrdinalEncoder"
   ]
  },
  {
   "cell_type": "code",
   "execution_count": 9,
   "id": "5148626b",
   "metadata": {},
   "outputs": [],
   "source": [
    "stdpl = pl.StandardPipeline(target_col, exclusions)\n",
    "# apply transformer separately for numerical and categorical data columns\n",
    "stdpl.make_pipeline(ntransformer=StandardScaler, ctransformer=OrdinalEncoder)"
   ]
  },
  {
   "cell_type": "code",
   "execution_count": 10,
   "id": "1bbcc7d0",
   "metadata": {},
   "outputs": [],
   "source": [
    "(X_train, y_train) = stdpl.fit_transform(df)"
   ]
  },
  {
   "cell_type": "code",
   "execution_count": 11,
   "id": "d262abfe",
   "metadata": {},
   "outputs": [
    {
     "data": {
      "text/plain": [
       "array([[-0.16902506, -0.14190721,  0.16743098, ..., -0.16345682,\n",
       "        -0.08758616, -0.47779737],\n",
       "       [-0.09655987, -0.14107953,  0.10403948, ..., -0.20027702,\n",
       "        -0.00272012,  0.24422246],\n",
       "       [ 1.00853434, -0.14471167, -0.19171611, ..., -0.1690076 ,\n",
       "         2.41566218,  1.9788676 ],\n",
       "       ...,\n",
       "       [-0.15090877,  0.22429574, -0.19171611, ..., -0.30389166,\n",
       "         0.26917661,  0.06446648],\n",
       "       [-0.74874662, -0.13594589, -0.10734814, ..., -0.67782951,\n",
       "        -0.07097263, -0.49127907],\n",
       "       [-0.76686291, -0.13706111, -0.19171611, ..., -0.82548038,\n",
       "        -0.08176286, -0.16622035]])"
      ]
     },
     "execution_count": 11,
     "metadata": {},
     "output_type": "execute_result"
    }
   ],
   "source": [
    "X_train"
   ]
  },
  {
   "cell_type": "code",
   "execution_count": 12,
   "id": "35b9a19a",
   "metadata": {},
   "outputs": [
    {
     "data": {
      "text/plain": [
       "array([0, 0, 0, ..., 1, 1, 1])"
      ]
     },
     "execution_count": 12,
     "metadata": {},
     "output_type": "execute_result"
    }
   ],
   "source": [
    "y_train"
   ]
  },
  {
   "cell_type": "code",
   "execution_count": 13,
   "id": "d5224c53",
   "metadata": {},
   "outputs": [
    {
     "data": {
      "text/plain": [
       "{0: 0, 1: 1}"
      ]
     },
     "execution_count": 13,
     "metadata": {},
     "output_type": "execute_result"
    }
   ],
   "source": [
    "stdpl.mapping"
   ]
  },
  {
   "cell_type": "code",
   "execution_count": 14,
   "id": "7be88804",
   "metadata": {},
   "outputs": [
    {
     "data": {
      "text/plain": [
       "'TARGET_F'"
      ]
     },
     "execution_count": 14,
     "metadata": {},
     "output_type": "execute_result"
    }
   ],
   "source": [
    "stdpl.target_col"
   ]
  },
  {
   "cell_type": "code",
   "execution_count": null,
   "id": "fa7db35a",
   "metadata": {},
   "outputs": [],
   "source": []
  },
  {
   "cell_type": "code",
   "execution_count": null,
   "id": "2a210b0e",
   "metadata": {},
   "outputs": [],
   "source": []
  },
  {
   "cell_type": "code",
   "execution_count": null,
   "id": "e2c2f955",
   "metadata": {},
   "outputs": [],
   "source": [
    "base_pipeline.fit_transform()"
   ]
  }
 ],
 "metadata": {
  "kernelspec": {
   "display_name": "Python 3 (ipykernel)",
   "language": "python",
   "name": "python3"
  },
  "language_info": {
   "codemirror_mode": {
    "name": "ipython",
    "version": 3
   },
   "file_extension": ".py",
   "mimetype": "text/x-python",
   "name": "python",
   "nbconvert_exporter": "python",
   "pygments_lexer": "ipython3",
   "version": "3.8.10"
  }
 },
 "nbformat": 4,
 "nbformat_minor": 5
}
