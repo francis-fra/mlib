{
 "cells": [
  {
   "cell_type": "code",
   "execution_count": 1,
   "id": "1c39144a",
   "metadata": {},
   "outputs": [],
   "source": [
    "import pandas as pd\n",
    "import os, sys\n",
    "mlibpath = '/home/fra/Project/pyProj/mlib'\n",
    "sys.path.append(mlibpath)"
   ]
  },
  {
   "cell_type": "code",
   "execution_count": 2,
   "id": "b95793f9",
   "metadata": {},
   "outputs": [],
   "source": [
    "import explore as ex"
   ]
  },
  {
   "cell_type": "code",
   "execution_count": 3,
   "id": "5da98a1f",
   "metadata": {},
   "outputs": [],
   "source": [
    "from varprofile import Profiler "
   ]
  },
  {
   "cell_type": "code",
   "execution_count": 4,
   "id": "a785aa7a",
   "metadata": {},
   "outputs": [
    {
     "data": {
      "text/html": [
       "<div>\n",
       "<style scoped>\n",
       "    .dataframe tbody tr th:only-of-type {\n",
       "        vertical-align: middle;\n",
       "    }\n",
       "\n",
       "    .dataframe tbody tr th {\n",
       "        vertical-align: top;\n",
       "    }\n",
       "\n",
       "    .dataframe thead th {\n",
       "        text-align: right;\n",
       "    }\n",
       "</style>\n",
       "<table border=\"1\" class=\"dataframe\">\n",
       "  <thead>\n",
       "    <tr style=\"text-align: right;\">\n",
       "      <th></th>\n",
       "      <th>GCIS_KEY</th>\n",
       "      <th>PERIOD_ID</th>\n",
       "      <th>TARGET_F</th>\n",
       "      <th>MBNCZZ_CUST_INIT_TRAN_COUNT</th>\n",
       "      <th>MBNCZZ_CUR_OTH_DEP_AMT</th>\n",
       "      <th>CINCZZ_EXPLICIT_INCOME</th>\n",
       "      <th>MBNCZZ_CUR_SAL_CREDIT_AMT</th>\n",
       "      <th>MBNCZZ_ABS_SPOT_AMT</th>\n",
       "      <th>CPNCZZ_MFI_TRAN_COUNT</th>\n",
       "      <th>CUNCZZ_AGE_YEARS</th>\n",
       "      <th>...</th>\n",
       "      <th>CPBCZZ_ACCT_CLOSE_IND</th>\n",
       "      <th>MBNHMI_AVG_OTH_DEP_AMT</th>\n",
       "      <th>MBBHMI_EVERYDAY_BANKER_IND</th>\n",
       "      <th>TRNHDL_AVG_DEPOSIT_AMT</th>\n",
       "      <th>MBOHDL_QUALITY_DEP_IND</th>\n",
       "      <th>CONHDL_SECURITY_AMT</th>\n",
       "      <th>CFNHDL_CURRENT_LVR</th>\n",
       "      <th>MBNHIC_AVG_CUST_INIT_TRAN_C</th>\n",
       "      <th>CMNHDL_FULL_FI_AMT</th>\n",
       "      <th>TRNHSL_TOT_WITHDRAWAL_CNT</th>\n",
       "    </tr>\n",
       "  </thead>\n",
       "  <tbody>\n",
       "    <tr>\n",
       "      <th>0</th>\n",
       "      <td>40554726</td>\n",
       "      <td>201805</td>\n",
       "      <td>0</td>\n",
       "      <td>41</td>\n",
       "      <td>380.00</td>\n",
       "      <td>3855.06</td>\n",
       "      <td>9272.93</td>\n",
       "      <td>14156.20</td>\n",
       "      <td>41</td>\n",
       "      <td>68</td>\n",
       "      <td>...</td>\n",
       "      <td>0</td>\n",
       "      <td>197.83</td>\n",
       "      <td>1</td>\n",
       "      <td>-154.18</td>\n",
       "      <td>0</td>\n",
       "      <td>0</td>\n",
       "      <td>0.0</td>\n",
       "      <td>40.83</td>\n",
       "      <td>-2.68</td>\n",
       "      <td>-2.91</td>\n",
       "    </tr>\n",
       "    <tr>\n",
       "      <th>1</th>\n",
       "      <td>91914018</td>\n",
       "      <td>201806</td>\n",
       "      <td>0</td>\n",
       "      <td>45</td>\n",
       "      <td>492.15</td>\n",
       "      <td>3174.62</td>\n",
       "      <td>11111.17</td>\n",
       "      <td>1935.03</td>\n",
       "      <td>45</td>\n",
       "      <td>58</td>\n",
       "      <td>...</td>\n",
       "      <td>0</td>\n",
       "      <td>818.96</td>\n",
       "      <td>1</td>\n",
       "      <td>-413.56</td>\n",
       "      <td>0</td>\n",
       "      <td>0</td>\n",
       "      <td>0.0</td>\n",
       "      <td>38.84</td>\n",
       "      <td>7.23</td>\n",
       "      <td>1.91</td>\n",
       "    </tr>\n",
       "    <tr>\n",
       "      <th>2</th>\n",
       "      <td>52451704</td>\n",
       "      <td>201807</td>\n",
       "      <td>0</td>\n",
       "      <td>106</td>\n",
       "      <td>0.00</td>\n",
       "      <td>0.00</td>\n",
       "      <td>1442.01</td>\n",
       "      <td>21127.10</td>\n",
       "      <td>106</td>\n",
       "      <td>40</td>\n",
       "      <td>...</td>\n",
       "      <td>0</td>\n",
       "      <td>192.70</td>\n",
       "      <td>1</td>\n",
       "      <td>-124.93</td>\n",
       "      <td>0</td>\n",
       "      <td>0</td>\n",
       "      <td>0.0</td>\n",
       "      <td>40.53</td>\n",
       "      <td>289.63</td>\n",
       "      <td>13.49</td>\n",
       "    </tr>\n",
       "    <tr>\n",
       "      <th>3</th>\n",
       "      <td>52296646</td>\n",
       "      <td>201807</td>\n",
       "      <td>0</td>\n",
       "      <td>121</td>\n",
       "      <td>2129.78</td>\n",
       "      <td>2107.72</td>\n",
       "      <td>11676.53</td>\n",
       "      <td>1748.23</td>\n",
       "      <td>118</td>\n",
       "      <td>47</td>\n",
       "      <td>...</td>\n",
       "      <td>0</td>\n",
       "      <td>1203.33</td>\n",
       "      <td>1</td>\n",
       "      <td>-212.11</td>\n",
       "      <td>0</td>\n",
       "      <td>0</td>\n",
       "      <td>0.0</td>\n",
       "      <td>72.17</td>\n",
       "      <td>10.20</td>\n",
       "      <td>9.17</td>\n",
       "    </tr>\n",
       "    <tr>\n",
       "      <th>4</th>\n",
       "      <td>55713846</td>\n",
       "      <td>201806</td>\n",
       "      <td>1</td>\n",
       "      <td>19</td>\n",
       "      <td>156.00</td>\n",
       "      <td>346.78</td>\n",
       "      <td>2901.22</td>\n",
       "      <td>151.83</td>\n",
       "      <td>19</td>\n",
       "      <td>42</td>\n",
       "      <td>...</td>\n",
       "      <td>0</td>\n",
       "      <td>20.00</td>\n",
       "      <td>1</td>\n",
       "      <td>-787.75</td>\n",
       "      <td>0</td>\n",
       "      <td>0</td>\n",
       "      <td>0.0</td>\n",
       "      <td>30.99</td>\n",
       "      <td>2.66</td>\n",
       "      <td>-9.34</td>\n",
       "    </tr>\n",
       "  </tbody>\n",
       "</table>\n",
       "<p>5 rows × 23 columns</p>\n",
       "</div>"
      ],
      "text/plain": [
       "   GCIS_KEY  PERIOD_ID  TARGET_F  MBNCZZ_CUST_INIT_TRAN_COUNT  \\\n",
       "0  40554726     201805         0                           41   \n",
       "1  91914018     201806         0                           45   \n",
       "2  52451704     201807         0                          106   \n",
       "3  52296646     201807         0                          121   \n",
       "4  55713846     201806         1                           19   \n",
       "\n",
       "   MBNCZZ_CUR_OTH_DEP_AMT  CINCZZ_EXPLICIT_INCOME  MBNCZZ_CUR_SAL_CREDIT_AMT  \\\n",
       "0                  380.00                 3855.06                    9272.93   \n",
       "1                  492.15                 3174.62                   11111.17   \n",
       "2                    0.00                    0.00                    1442.01   \n",
       "3                 2129.78                 2107.72                   11676.53   \n",
       "4                  156.00                  346.78                    2901.22   \n",
       "\n",
       "   MBNCZZ_ABS_SPOT_AMT  CPNCZZ_MFI_TRAN_COUNT  CUNCZZ_AGE_YEARS  ...  \\\n",
       "0             14156.20                     41                68  ...   \n",
       "1              1935.03                     45                58  ...   \n",
       "2             21127.10                    106                40  ...   \n",
       "3              1748.23                    118                47  ...   \n",
       "4               151.83                     19                42  ...   \n",
       "\n",
       "   CPBCZZ_ACCT_CLOSE_IND  MBNHMI_AVG_OTH_DEP_AMT  MBBHMI_EVERYDAY_BANKER_IND  \\\n",
       "0                      0                  197.83                           1   \n",
       "1                      0                  818.96                           1   \n",
       "2                      0                  192.70                           1   \n",
       "3                      0                 1203.33                           1   \n",
       "4                      0                   20.00                           1   \n",
       "\n",
       "   TRNHDL_AVG_DEPOSIT_AMT  MBOHDL_QUALITY_DEP_IND  CONHDL_SECURITY_AMT  \\\n",
       "0                 -154.18                       0                    0   \n",
       "1                 -413.56                       0                    0   \n",
       "2                 -124.93                       0                    0   \n",
       "3                 -212.11                       0                    0   \n",
       "4                 -787.75                       0                    0   \n",
       "\n",
       "   CFNHDL_CURRENT_LVR  MBNHIC_AVG_CUST_INIT_TRAN_C  CMNHDL_FULL_FI_AMT  \\\n",
       "0                 0.0                        40.83               -2.68   \n",
       "1                 0.0                        38.84                7.23   \n",
       "2                 0.0                        40.53              289.63   \n",
       "3                 0.0                        72.17               10.20   \n",
       "4                 0.0                        30.99                2.66   \n",
       "\n",
       "   TRNHSL_TOT_WITHDRAWAL_CNT  \n",
       "0                      -2.91  \n",
       "1                       1.91  \n",
       "2                      13.49  \n",
       "3                       9.17  \n",
       "4                      -9.34  \n",
       "\n",
       "[5 rows x 23 columns]"
      ]
     },
     "execution_count": 4,
     "metadata": {},
     "output_type": "execute_result"
    }
   ],
   "source": [
    "data_file = \"/home/fra/Project/pyProj/mlib/data/data.csv\"\n",
    "\n",
    "df = pd.read_csv(data_file, na_values=['?'])\n",
    "df.head()"
   ]
  },
  {
   "cell_type": "code",
   "execution_count": 6,
   "id": "ed296c2c",
   "metadata": {},
   "outputs": [],
   "source": [
    "profiler = Profiler(df, 'TARGET_F')"
   ]
  },
  {
   "cell_type": "code",
   "execution_count": 7,
   "id": "6a21ccb4",
   "metadata": {},
   "outputs": [
    {
     "data": {
      "text/plain": [
       "{'GCIS_KEY': 2000,\n",
       " 'PERIOD_ID': 5,\n",
       " 'TARGET_F': 2,\n",
       " 'MBNCZZ_CUST_INIT_TRAN_COUNT': 222,\n",
       " 'MBNCZZ_CUR_OTH_DEP_AMT': 1444,\n",
       " 'CINCZZ_EXPLICIT_INCOME': 876,\n",
       " 'MBNCZZ_CUR_SAL_CREDIT_AMT': 923,\n",
       " 'MBNCZZ_ABS_SPOT_AMT': 1988,\n",
       " 'CPNCZZ_MFI_TRAN_COUNT': 223,\n",
       " 'CUNCZZ_AGE_YEARS': 95,\n",
       " 'CPNCZZ_REL_AGE_IN_MTH': 456,\n",
       " 'MBNCZZ_DEP_SPOT_BAL_AMT': 1892,\n",
       " 'CFNCZZ_ACC_TO_FUNDS': 1952,\n",
       " 'CPBCZZ_ACCT_CLOSE_IND': 2,\n",
       " 'MBNHMI_AVG_OTH_DEP_AMT': 1412,\n",
       " 'MBBHMI_EVERYDAY_BANKER_IND': 2,\n",
       " 'TRNHDL_AVG_DEPOSIT_AMT': 1850,\n",
       " 'MBOHDL_QUALITY_DEP_IND': 3,\n",
       " 'CONHDL_SECURITY_AMT': 111,\n",
       " 'CFNHDL_CURRENT_LVR': 97,\n",
       " 'MBNHIC_AVG_CUST_INIT_TRAN_C': 1728,\n",
       " 'CMNHDL_FULL_FI_AMT': 1325,\n",
       " 'TRNHSL_TOT_WITHDRAWAL_CNT': 618}"
      ]
     },
     "execution_count": 7,
     "metadata": {},
     "output_type": "execute_result"
    }
   ],
   "source": [
    "profiler.count_unique_values()"
   ]
  },
  {
   "cell_type": "code",
   "execution_count": 8,
   "id": "aae77b21",
   "metadata": {},
   "outputs": [
    {
     "data": {
      "text/plain": [
       "['TARGET_F',\n",
       " 'CPBCZZ_ACCT_CLOSE_IND',\n",
       " 'MBOHDL_QUALITY_DEP_IND',\n",
       " 'MBBHMI_EVERYDAY_BANKER_IND',\n",
       " 'PERIOD_ID']"
      ]
     },
     "execution_count": 8,
     "metadata": {},
     "output_type": "execute_result"
    }
   ],
   "source": [
    "profiler.get_categorical_column()"
   ]
  },
  {
   "cell_type": "code",
   "execution_count": 9,
   "id": "d524bdce",
   "metadata": {},
   "outputs": [
    {
     "name": "stdout",
     "output_type": "stream",
     "text": [
      "ERROR: skipping PERIOD_ID\n",
      "ERROR: skipping MBOHDL_QUALITY_DEP_IND\n"
     ]
    },
    {
     "data": {
      "text/html": [
       "<div>\n",
       "<style scoped>\n",
       "    .dataframe tbody tr th:only-of-type {\n",
       "        vertical-align: middle;\n",
       "    }\n",
       "\n",
       "    .dataframe tbody tr th {\n",
       "        vertical-align: top;\n",
       "    }\n",
       "\n",
       "    .dataframe thead th {\n",
       "        text-align: right;\n",
       "    }\n",
       "</style>\n",
       "<table border=\"1\" class=\"dataframe\">\n",
       "  <thead>\n",
       "    <tr style=\"text-align: right;\">\n",
       "      <th></th>\n",
       "      <th>iv</th>\n",
       "    </tr>\n",
       "  </thead>\n",
       "  <tbody>\n",
       "    <tr>\n",
       "      <th>MBBHMI_EVERYDAY_BANKER_IND</th>\n",
       "      <td>0.582583</td>\n",
       "    </tr>\n",
       "    <tr>\n",
       "      <th>CINCZZ_EXPLICIT_INCOME</th>\n",
       "      <td>0.570485</td>\n",
       "    </tr>\n",
       "    <tr>\n",
       "      <th>MBNCZZ_CUR_SAL_CREDIT_AMT</th>\n",
       "      <td>0.517526</td>\n",
       "    </tr>\n",
       "    <tr>\n",
       "      <th>MBNCZZ_CUST_INIT_TRAN_COUNT</th>\n",
       "      <td>0.284082</td>\n",
       "    </tr>\n",
       "    <tr>\n",
       "      <th>CPNCZZ_MFI_TRAN_COUNT</th>\n",
       "      <td>0.281876</td>\n",
       "    </tr>\n",
       "    <tr>\n",
       "      <th>MBNHIC_AVG_CUST_INIT_TRAN_C</th>\n",
       "      <td>0.275594</td>\n",
       "    </tr>\n",
       "    <tr>\n",
       "      <th>TRNHDL_AVG_DEPOSIT_AMT</th>\n",
       "      <td>0.212554</td>\n",
       "    </tr>\n",
       "    <tr>\n",
       "      <th>CPNCZZ_REL_AGE_IN_MTH</th>\n",
       "      <td>0.196881</td>\n",
       "    </tr>\n",
       "    <tr>\n",
       "      <th>MBNCZZ_DEP_SPOT_BAL_AMT</th>\n",
       "      <td>0.161691</td>\n",
       "    </tr>\n",
       "    <tr>\n",
       "      <th>MBNCZZ_ABS_SPOT_AMT</th>\n",
       "      <td>0.150209</td>\n",
       "    </tr>\n",
       "    <tr>\n",
       "      <th>CFNCZZ_ACC_TO_FUNDS</th>\n",
       "      <td>0.131770</td>\n",
       "    </tr>\n",
       "    <tr>\n",
       "      <th>MBNCZZ_CUR_OTH_DEP_AMT</th>\n",
       "      <td>0.129537</td>\n",
       "    </tr>\n",
       "    <tr>\n",
       "      <th>GCIS_KEY</th>\n",
       "      <td>0.123922</td>\n",
       "    </tr>\n",
       "    <tr>\n",
       "      <th>CUNCZZ_AGE_YEARS</th>\n",
       "      <td>0.109913</td>\n",
       "    </tr>\n",
       "    <tr>\n",
       "      <th>CMNHDL_FULL_FI_AMT</th>\n",
       "      <td>0.074914</td>\n",
       "    </tr>\n",
       "    <tr>\n",
       "      <th>MBNHMI_AVG_OTH_DEP_AMT</th>\n",
       "      <td>0.072481</td>\n",
       "    </tr>\n",
       "    <tr>\n",
       "      <th>CPBCZZ_ACCT_CLOSE_IND</th>\n",
       "      <td>0.060232</td>\n",
       "    </tr>\n",
       "    <tr>\n",
       "      <th>TRNHSL_TOT_WITHDRAWAL_CNT</th>\n",
       "      <td>0.046704</td>\n",
       "    </tr>\n",
       "    <tr>\n",
       "      <th>CFNHDL_CURRENT_LVR</th>\n",
       "      <td>0.044024</td>\n",
       "    </tr>\n",
       "    <tr>\n",
       "      <th>CONHDL_SECURITY_AMT</th>\n",
       "      <td>0.005217</td>\n",
       "    </tr>\n",
       "    <tr>\n",
       "      <th>PERIOD_ID</th>\n",
       "      <td>0.000000</td>\n",
       "    </tr>\n",
       "    <tr>\n",
       "      <th>MBOHDL_QUALITY_DEP_IND</th>\n",
       "      <td>0.000000</td>\n",
       "    </tr>\n",
       "  </tbody>\n",
       "</table>\n",
       "</div>"
      ],
      "text/plain": [
       "                                   iv\n",
       "MBBHMI_EVERYDAY_BANKER_IND   0.582583\n",
       "CINCZZ_EXPLICIT_INCOME       0.570485\n",
       "MBNCZZ_CUR_SAL_CREDIT_AMT    0.517526\n",
       "MBNCZZ_CUST_INIT_TRAN_COUNT  0.284082\n",
       "CPNCZZ_MFI_TRAN_COUNT        0.281876\n",
       "MBNHIC_AVG_CUST_INIT_TRAN_C  0.275594\n",
       "TRNHDL_AVG_DEPOSIT_AMT       0.212554\n",
       "CPNCZZ_REL_AGE_IN_MTH        0.196881\n",
       "MBNCZZ_DEP_SPOT_BAL_AMT      0.161691\n",
       "MBNCZZ_ABS_SPOT_AMT          0.150209\n",
       "CFNCZZ_ACC_TO_FUNDS          0.131770\n",
       "MBNCZZ_CUR_OTH_DEP_AMT       0.129537\n",
       "GCIS_KEY                     0.123922\n",
       "CUNCZZ_AGE_YEARS             0.109913\n",
       "CMNHDL_FULL_FI_AMT           0.074914\n",
       "MBNHMI_AVG_OTH_DEP_AMT       0.072481\n",
       "CPBCZZ_ACCT_CLOSE_IND        0.060232\n",
       "TRNHSL_TOT_WITHDRAWAL_CNT    0.046704\n",
       "CFNHDL_CURRENT_LVR           0.044024\n",
       "CONHDL_SECURITY_AMT          0.005217\n",
       "PERIOD_ID                    0.000000\n",
       "MBOHDL_QUALITY_DEP_IND       0.000000"
      ]
     },
     "execution_count": 9,
     "metadata": {},
     "output_type": "execute_result"
    }
   ],
   "source": [
    "profiler.iv_ranking()"
   ]
  },
  {
   "cell_type": "code",
   "execution_count": 10,
   "id": "f81b1cd0",
   "metadata": {},
   "outputs": [
    {
     "data": {
      "text/plain": [
       "GCIS_KEY                         int64\n",
       "PERIOD_ID                        int64\n",
       "TARGET_F                         int64\n",
       "MBNCZZ_CUST_INIT_TRAN_COUNT      int64\n",
       "MBNCZZ_CUR_OTH_DEP_AMT         float64\n",
       "CINCZZ_EXPLICIT_INCOME         float64\n",
       "MBNCZZ_CUR_SAL_CREDIT_AMT      float64\n",
       "MBNCZZ_ABS_SPOT_AMT            float64\n",
       "CPNCZZ_MFI_TRAN_COUNT            int64\n",
       "CUNCZZ_AGE_YEARS                 int64\n",
       "CPNCZZ_REL_AGE_IN_MTH            int64\n",
       "MBNCZZ_DEP_SPOT_BAL_AMT        float64\n",
       "CFNCZZ_ACC_TO_FUNDS            float64\n",
       "CPBCZZ_ACCT_CLOSE_IND            int64\n",
       "MBNHMI_AVG_OTH_DEP_AMT         float64\n",
       "MBBHMI_EVERYDAY_BANKER_IND       int64\n",
       "TRNHDL_AVG_DEPOSIT_AMT         float64\n",
       "MBOHDL_QUALITY_DEP_IND           int64\n",
       "CONHDL_SECURITY_AMT              int64\n",
       "CFNHDL_CURRENT_LVR             float64\n",
       "MBNHIC_AVG_CUST_INIT_TRAN_C    float64\n",
       "CMNHDL_FULL_FI_AMT             float64\n",
       "TRNHSL_TOT_WITHDRAWAL_CNT      float64\n",
       "dtype: object"
      ]
     },
     "execution_count": 10,
     "metadata": {},
     "output_type": "execute_result"
    }
   ],
   "source": [
    "df.dtypes"
   ]
  },
  {
   "cell_type": "code",
   "execution_count": 11,
   "id": "2ec9ec82",
   "metadata": {},
   "outputs": [
    {
     "data": {
      "text/plain": [
       "{'GCIS_KEY': 0,\n",
       " 'PERIOD_ID': 0,\n",
       " 'TARGET_F': 0,\n",
       " 'MBNCZZ_CUST_INIT_TRAN_COUNT': 0,\n",
       " 'MBNCZZ_CUR_OTH_DEP_AMT': 0,\n",
       " 'CINCZZ_EXPLICIT_INCOME': 0,\n",
       " 'MBNCZZ_CUR_SAL_CREDIT_AMT': 0,\n",
       " 'MBNCZZ_ABS_SPOT_AMT': 0,\n",
       " 'CPNCZZ_MFI_TRAN_COUNT': 0,\n",
       " 'CUNCZZ_AGE_YEARS': 0,\n",
       " 'CPNCZZ_REL_AGE_IN_MTH': 0,\n",
       " 'MBNCZZ_DEP_SPOT_BAL_AMT': 0,\n",
       " 'CFNCZZ_ACC_TO_FUNDS': 0,\n",
       " 'CPBCZZ_ACCT_CLOSE_IND': 0,\n",
       " 'MBNHMI_AVG_OTH_DEP_AMT': 0,\n",
       " 'MBBHMI_EVERYDAY_BANKER_IND': 0,\n",
       " 'TRNHDL_AVG_DEPOSIT_AMT': 0,\n",
       " 'MBOHDL_QUALITY_DEP_IND': 0,\n",
       " 'CONHDL_SECURITY_AMT': 0,\n",
       " 'CFNHDL_CURRENT_LVR': 0,\n",
       " 'MBNHIC_AVG_CUST_INIT_TRAN_C': 13,\n",
       " 'CMNHDL_FULL_FI_AMT': 0,\n",
       " 'TRNHSL_TOT_WITHDRAWAL_CNT': 13}"
      ]
     },
     "execution_count": 11,
     "metadata": {},
     "output_type": "execute_result"
    }
   ],
   "source": [
    "ex.count_missing(df)"
   ]
  },
  {
   "cell_type": "markdown",
   "id": "1d22bc59",
   "metadata": {},
   "source": [
    "### Non categorical profile"
   ]
  },
  {
   "cell_type": "code",
   "execution_count": 13,
   "id": "f9992ff4",
   "metadata": {},
   "outputs": [],
   "source": [
    "colname = 'MBNCZZ_CUR_SAL_CREDIT_AMT'"
   ]
  },
  {
   "cell_type": "code",
   "execution_count": 14,
   "id": "9f2ca915",
   "metadata": {},
   "outputs": [
    {
     "data": {
      "text/plain": [
       "GRP_0    0.565796\n",
       "GRP_1   -0.567130\n",
       "GRP_2   -0.700885\n",
       "GRP_3   -1.042118\n",
       "GRP_4   -1.325330\n",
       "Name: 1, dtype: float64"
      ]
     },
     "execution_count": 14,
     "metadata": {},
     "output_type": "execute_result"
    }
   ],
   "source": [
    "profiler.get_woe(colname, categorical=False)"
   ]
  },
  {
   "cell_type": "code",
   "execution_count": 15,
   "id": "75833b6e",
   "metadata": {},
   "outputs": [
    {
     "data": {
      "text/html": [
       "<div>\n",
       "<style scoped>\n",
       "    .dataframe tbody tr th:only-of-type {\n",
       "        vertical-align: middle;\n",
       "    }\n",
       "\n",
       "    .dataframe tbody tr th {\n",
       "        vertical-align: top;\n",
       "    }\n",
       "\n",
       "    .dataframe thead th {\n",
       "        text-align: right;\n",
       "    }\n",
       "</style>\n",
       "<table border=\"1\" class=\"dataframe\">\n",
       "  <thead>\n",
       "    <tr style=\"text-align: right;\">\n",
       "      <th></th>\n",
       "      <th>GRP_0</th>\n",
       "      <th>GRP_1</th>\n",
       "      <th>GRP_2</th>\n",
       "      <th>GRP_3</th>\n",
       "      <th>GRP_4</th>\n",
       "    </tr>\n",
       "    <tr>\n",
       "      <th>TARGET_F</th>\n",
       "      <th></th>\n",
       "      <th></th>\n",
       "      <th></th>\n",
       "      <th></th>\n",
       "      <th></th>\n",
       "    </tr>\n",
       "  </thead>\n",
       "  <tbody>\n",
       "    <tr>\n",
       "      <th>0</th>\n",
       "      <td>443</td>\n",
       "      <td>129</td>\n",
       "      <td>135</td>\n",
       "      <td>149</td>\n",
       "      <td>159</td>\n",
       "    </tr>\n",
       "    <tr>\n",
       "      <th>1</th>\n",
       "      <td>757</td>\n",
       "      <td>71</td>\n",
       "      <td>65</td>\n",
       "      <td>51</td>\n",
       "      <td>41</td>\n",
       "    </tr>\n",
       "  </tbody>\n",
       "</table>\n",
       "</div>"
      ],
      "text/plain": [
       "          GRP_0  GRP_1  GRP_2  GRP_3  GRP_4\n",
       "TARGET_F                                   \n",
       "0           443    129    135    149    159\n",
       "1           757     71     65     51     41"
      ]
     },
     "execution_count": 15,
     "metadata": {},
     "output_type": "execute_result"
    }
   ],
   "source": [
    "profiler.get_crosstab(colname, categorical=False)"
   ]
  },
  {
   "cell_type": "code",
   "execution_count": 16,
   "id": "f2650a7c",
   "metadata": {},
   "outputs": [
    {
     "data": {
      "text/plain": [
       "0.517526291517165"
      ]
     },
     "execution_count": 16,
     "metadata": {},
     "output_type": "execute_result"
    }
   ],
   "source": [
    "profiler.get_iv(colname, categorical=False)"
   ]
  },
  {
   "cell_type": "code",
   "execution_count": 18,
   "id": "40acfa35",
   "metadata": {},
   "outputs": [
    {
     "data": {
      "text/plain": [
       "(GRP_0    0.768528\n",
       " GRP_1    0.072081\n",
       " GRP_2    0.065990\n",
       " GRP_3    0.051777\n",
       " GRP_4    0.041624\n",
       " Name: 1, dtype: float64,\n",
       " GRP_0    0.436453\n",
       " GRP_1    0.127094\n",
       " GRP_2    0.133005\n",
       " GRP_3    0.146798\n",
       " GRP_4    0.156650\n",
       " Name: 0, dtype: float64)"
      ]
     },
     "execution_count": 18,
     "metadata": {},
     "output_type": "execute_result"
    }
   ],
   "source": [
    "profiler.get_distribution(colname, categorical=False)"
   ]
  },
  {
   "cell_type": "code",
   "execution_count": 19,
   "id": "8feccba4",
   "metadata": {},
   "outputs": [
    {
     "data": {
      "text/plain": [
       "2"
      ]
     },
     "execution_count": 19,
     "metadata": {},
     "output_type": "execute_result"
    }
   ],
   "source": [
    "profiler.num_target_class"
   ]
  },
  {
   "cell_type": "markdown",
   "id": "ea82f5a1",
   "metadata": {},
   "source": [
    "### Categorical profile"
   ]
  },
  {
   "cell_type": "code",
   "execution_count": 20,
   "id": "27844a33",
   "metadata": {},
   "outputs": [],
   "source": [
    "colname = 'MBBHMI_EVERYDAY_BANKER_IND'"
   ]
  },
  {
   "cell_type": "code",
   "execution_count": 21,
   "id": "7848bb56",
   "metadata": {},
   "outputs": [
    {
     "data": {
      "text/plain": [
       "MBBHMI_EVERYDAY_BANKER_IND\n",
       "0    1.348855\n",
       "1   -0.453424\n",
       "Name: 1, dtype: float64"
      ]
     },
     "execution_count": 21,
     "metadata": {},
     "output_type": "execute_result"
    }
   ],
   "source": [
    "profiler.get_woe(colname, categorical=True)"
   ]
  },
  {
   "cell_type": "code",
   "execution_count": 22,
   "id": "8623422e",
   "metadata": {},
   "outputs": [
    {
     "data": {
      "text/html": [
       "<div>\n",
       "<style scoped>\n",
       "    .dataframe tbody tr th:only-of-type {\n",
       "        vertical-align: middle;\n",
       "    }\n",
       "\n",
       "    .dataframe tbody tr th {\n",
       "        vertical-align: top;\n",
       "    }\n",
       "\n",
       "    .dataframe thead th {\n",
       "        text-align: right;\n",
       "    }\n",
       "</style>\n",
       "<table border=\"1\" class=\"dataframe\">\n",
       "  <thead>\n",
       "    <tr style=\"text-align: right;\">\n",
       "      <th>MBBHMI_EVERYDAY_BANKER_IND</th>\n",
       "      <th>0</th>\n",
       "      <th>1</th>\n",
       "    </tr>\n",
       "    <tr>\n",
       "      <th>TARGET_F</th>\n",
       "      <th></th>\n",
       "      <th></th>\n",
       "    </tr>\n",
       "  </thead>\n",
       "  <tbody>\n",
       "    <tr>\n",
       "      <th>0</th>\n",
       "      <td>115</td>\n",
       "      <td>900</td>\n",
       "    </tr>\n",
       "    <tr>\n",
       "      <th>1</th>\n",
       "      <td>430</td>\n",
       "      <td>555</td>\n",
       "    </tr>\n",
       "  </tbody>\n",
       "</table>\n",
       "</div>"
      ],
      "text/plain": [
       "MBBHMI_EVERYDAY_BANKER_IND    0    1\n",
       "TARGET_F                            \n",
       "0                           115  900\n",
       "1                           430  555"
      ]
     },
     "execution_count": 22,
     "metadata": {},
     "output_type": "execute_result"
    }
   ],
   "source": [
    "profiler.get_crosstab(colname, categorical=True)"
   ]
  },
  {
   "cell_type": "code",
   "execution_count": 23,
   "id": "abe95385",
   "metadata": {},
   "outputs": [
    {
     "data": {
      "text/plain": [
       "0.5825828328485454"
      ]
     },
     "execution_count": 23,
     "metadata": {},
     "output_type": "execute_result"
    }
   ],
   "source": [
    "profiler.get_iv(colname, categorical=True)"
   ]
  },
  {
   "cell_type": "code",
   "execution_count": 24,
   "id": "98618e31",
   "metadata": {},
   "outputs": [
    {
     "data": {
      "text/plain": [
       "(MBBHMI_EVERYDAY_BANKER_IND\n",
       " 0    0.436548\n",
       " 1    0.563452\n",
       " Name: 1, dtype: float64,\n",
       " MBBHMI_EVERYDAY_BANKER_IND\n",
       " 0    0.1133\n",
       " 1    0.8867\n",
       " Name: 0, dtype: float64)"
      ]
     },
     "execution_count": 24,
     "metadata": {},
     "output_type": "execute_result"
    }
   ],
   "source": [
    "profiler.get_distribution(colname, categorical=True)"
   ]
  },
  {
   "cell_type": "markdown",
   "id": "96f6b50c",
   "metadata": {},
   "source": [
    "### Multiclass"
   ]
  },
  {
   "cell_type": "code",
   "execution_count": 25,
   "id": "c66b82c5",
   "metadata": {},
   "outputs": [
    {
     "data": {
      "text/html": [
       "<div>\n",
       "<style scoped>\n",
       "    .dataframe tbody tr th:only-of-type {\n",
       "        vertical-align: middle;\n",
       "    }\n",
       "\n",
       "    .dataframe tbody tr th {\n",
       "        vertical-align: top;\n",
       "    }\n",
       "\n",
       "    .dataframe thead th {\n",
       "        text-align: right;\n",
       "    }\n",
       "</style>\n",
       "<table border=\"1\" class=\"dataframe\">\n",
       "  <thead>\n",
       "    <tr style=\"text-align: right;\">\n",
       "      <th></th>\n",
       "      <th>sex</th>\n",
       "      <th>length</th>\n",
       "      <th>diameter</th>\n",
       "      <th>height</th>\n",
       "      <th>whole_wt</th>\n",
       "      <th>shucked_wt</th>\n",
       "      <th>viscera_wt</th>\n",
       "      <th>shell_wt</th>\n",
       "      <th>rings</th>\n",
       "    </tr>\n",
       "  </thead>\n",
       "  <tbody>\n",
       "    <tr>\n",
       "      <th>0</th>\n",
       "      <td>M</td>\n",
       "      <td>0.455</td>\n",
       "      <td>0.365</td>\n",
       "      <td>0.095</td>\n",
       "      <td>0.5140</td>\n",
       "      <td>0.2245</td>\n",
       "      <td>0.1010</td>\n",
       "      <td>0.150</td>\n",
       "      <td>15</td>\n",
       "    </tr>\n",
       "    <tr>\n",
       "      <th>1</th>\n",
       "      <td>M</td>\n",
       "      <td>0.350</td>\n",
       "      <td>0.265</td>\n",
       "      <td>0.090</td>\n",
       "      <td>0.2255</td>\n",
       "      <td>0.0995</td>\n",
       "      <td>0.0485</td>\n",
       "      <td>0.070</td>\n",
       "      <td>7</td>\n",
       "    </tr>\n",
       "    <tr>\n",
       "      <th>2</th>\n",
       "      <td>F</td>\n",
       "      <td>0.530</td>\n",
       "      <td>0.420</td>\n",
       "      <td>0.135</td>\n",
       "      <td>0.6770</td>\n",
       "      <td>0.2565</td>\n",
       "      <td>0.1415</td>\n",
       "      <td>0.210</td>\n",
       "      <td>9</td>\n",
       "    </tr>\n",
       "    <tr>\n",
       "      <th>3</th>\n",
       "      <td>M</td>\n",
       "      <td>0.440</td>\n",
       "      <td>0.365</td>\n",
       "      <td>0.125</td>\n",
       "      <td>0.5160</td>\n",
       "      <td>0.2155</td>\n",
       "      <td>0.1140</td>\n",
       "      <td>0.155</td>\n",
       "      <td>10</td>\n",
       "    </tr>\n",
       "    <tr>\n",
       "      <th>4</th>\n",
       "      <td>I</td>\n",
       "      <td>0.330</td>\n",
       "      <td>0.255</td>\n",
       "      <td>0.080</td>\n",
       "      <td>0.2050</td>\n",
       "      <td>0.0895</td>\n",
       "      <td>0.0395</td>\n",
       "      <td>0.055</td>\n",
       "      <td>7</td>\n",
       "    </tr>\n",
       "  </tbody>\n",
       "</table>\n",
       "</div>"
      ],
      "text/plain": [
       "  sex  length  diameter  height  whole_wt  shucked_wt  viscera_wt  shell_wt  \\\n",
       "0   M   0.455     0.365   0.095    0.5140      0.2245      0.1010     0.150   \n",
       "1   M   0.350     0.265   0.090    0.2255      0.0995      0.0485     0.070   \n",
       "2   F   0.530     0.420   0.135    0.6770      0.2565      0.1415     0.210   \n",
       "3   M   0.440     0.365   0.125    0.5160      0.2155      0.1140     0.155   \n",
       "4   I   0.330     0.255   0.080    0.2050      0.0895      0.0395     0.055   \n",
       "\n",
       "   rings  \n",
       "0     15  \n",
       "1      7  \n",
       "2      9  \n",
       "3     10  \n",
       "4      7  "
      ]
     },
     "execution_count": 25,
     "metadata": {},
     "output_type": "execute_result"
    }
   ],
   "source": [
    "data_file = \"/home/fra/Project/pyProj/mlib/data/abalone.csv\"\n",
    "\n",
    "sdf = pd.read_csv(data_file)\n",
    "sdf.head()"
   ]
  },
  {
   "cell_type": "code",
   "execution_count": 33,
   "id": "f89d6527",
   "metadata": {},
   "outputs": [],
   "source": [
    "abalone_profiler = Profiler(sdf, 'sex', num_bins=5)"
   ]
  },
  {
   "cell_type": "code",
   "execution_count": 34,
   "id": "dbf764f8",
   "metadata": {},
   "outputs": [
    {
     "data": {
      "text/plain": [
       "{'sex': 3,\n",
       " 'length': 134,\n",
       " 'diameter': 111,\n",
       " 'height': 51,\n",
       " 'whole_wt': 2429,\n",
       " 'shucked_wt': 1515,\n",
       " 'viscera_wt': 880,\n",
       " 'shell_wt': 926,\n",
       " 'rings': 28}"
      ]
     },
     "execution_count": 34,
     "metadata": {},
     "output_type": "execute_result"
    }
   ],
   "source": [
    "abalone_profiler.count_unique_values()"
   ]
  },
  {
   "cell_type": "code",
   "execution_count": 35,
   "id": "070a5d1c",
   "metadata": {},
   "outputs": [
    {
     "data": {
      "text/plain": [
       "['sex']"
      ]
     },
     "execution_count": 35,
     "metadata": {},
     "output_type": "execute_result"
    }
   ],
   "source": [
    "abalone_profiler.get_categorical_column()"
   ]
  },
  {
   "cell_type": "code",
   "execution_count": 36,
   "id": "49b888e6",
   "metadata": {},
   "outputs": [
    {
     "data": {
      "text/html": [
       "<div>\n",
       "<style scoped>\n",
       "    .dataframe tbody tr th:only-of-type {\n",
       "        vertical-align: middle;\n",
       "    }\n",
       "\n",
       "    .dataframe tbody tr th {\n",
       "        vertical-align: top;\n",
       "    }\n",
       "\n",
       "    .dataframe thead th {\n",
       "        text-align: right;\n",
       "    }\n",
       "</style>\n",
       "<table border=\"1\" class=\"dataframe\">\n",
       "  <thead>\n",
       "    <tr style=\"text-align: right;\">\n",
       "      <th></th>\n",
       "      <th>iv</th>\n",
       "    </tr>\n",
       "  </thead>\n",
       "  <tbody>\n",
       "    <tr>\n",
       "      <th>viscera_wt</th>\n",
       "      <td>1.564450</td>\n",
       "    </tr>\n",
       "    <tr>\n",
       "      <th>whole_wt</th>\n",
       "      <td>1.552015</td>\n",
       "    </tr>\n",
       "    <tr>\n",
       "      <th>shell_wt</th>\n",
       "      <td>1.493847</td>\n",
       "    </tr>\n",
       "    <tr>\n",
       "      <th>diameter</th>\n",
       "      <td>1.420521</td>\n",
       "    </tr>\n",
       "    <tr>\n",
       "      <th>shucked_wt</th>\n",
       "      <td>1.327561</td>\n",
       "    </tr>\n",
       "    <tr>\n",
       "      <th>length</th>\n",
       "      <td>1.301804</td>\n",
       "    </tr>\n",
       "    <tr>\n",
       "      <th>height</th>\n",
       "      <td>1.301370</td>\n",
       "    </tr>\n",
       "    <tr>\n",
       "      <th>rings</th>\n",
       "      <td>0.974642</td>\n",
       "    </tr>\n",
       "  </tbody>\n",
       "</table>\n",
       "</div>"
      ],
      "text/plain": [
       "                  iv\n",
       "viscera_wt  1.564450\n",
       "whole_wt    1.552015\n",
       "shell_wt    1.493847\n",
       "diameter    1.420521\n",
       "shucked_wt  1.327561\n",
       "length      1.301804\n",
       "height      1.301370\n",
       "rings       0.974642"
      ]
     },
     "execution_count": 36,
     "metadata": {},
     "output_type": "execute_result"
    }
   ],
   "source": [
    "abalone_profiler.iv_ranking()"
   ]
  },
  {
   "cell_type": "code",
   "execution_count": 37,
   "id": "3db1ae5c",
   "metadata": {},
   "outputs": [],
   "source": [
    "colname = 'shell_wt'"
   ]
  },
  {
   "cell_type": "code",
   "execution_count": 38,
   "id": "6a52606c",
   "metadata": {},
   "outputs": [
    {
     "data": {
      "text/plain": [
       "(        GRP_0     GRP_1     GRP_2     GRP_3     GRP_4\n",
       " sex                                                  \n",
       " F    0.039021  0.151492  0.223412  0.270849  0.315226\n",
       " I    0.480626  0.301788  0.155738  0.047690  0.014158\n",
       " M    0.091623  0.152487  0.232330  0.258508  0.265052,\n",
       " GRP_0    0.200144\n",
       " GRP_1    0.200144\n",
       " GRP_2    0.204932\n",
       " GRP_3    0.194637\n",
       " GRP_4    0.200144\n",
       " dtype: float64)"
      ]
     },
     "execution_count": 38,
     "metadata": {},
     "output_type": "execute_result"
    }
   ],
   "source": [
    "abalone_profiler.get_distribution(colname, categorical=False)"
   ]
  },
  {
   "cell_type": "code",
   "execution_count": 39,
   "id": "7924a1df",
   "metadata": {},
   "outputs": [
    {
     "data": {
      "text/html": [
       "<div>\n",
       "<style scoped>\n",
       "    .dataframe tbody tr th:only-of-type {\n",
       "        vertical-align: middle;\n",
       "    }\n",
       "\n",
       "    .dataframe tbody tr th {\n",
       "        vertical-align: top;\n",
       "    }\n",
       "\n",
       "    .dataframe thead th {\n",
       "        text-align: right;\n",
       "    }\n",
       "</style>\n",
       "<table border=\"1\" class=\"dataframe\">\n",
       "  <thead>\n",
       "    <tr style=\"text-align: right;\">\n",
       "      <th></th>\n",
       "      <th>GRP_0</th>\n",
       "      <th>GRP_1</th>\n",
       "      <th>GRP_2</th>\n",
       "      <th>GRP_3</th>\n",
       "      <th>GRP_4</th>\n",
       "    </tr>\n",
       "    <tr>\n",
       "      <th>sex</th>\n",
       "      <th></th>\n",
       "      <th></th>\n",
       "      <th></th>\n",
       "      <th></th>\n",
       "      <th></th>\n",
       "    </tr>\n",
       "  </thead>\n",
       "  <tbody>\n",
       "    <tr>\n",
       "      <th>F</th>\n",
       "      <td>51</td>\n",
       "      <td>198</td>\n",
       "      <td>292</td>\n",
       "      <td>354</td>\n",
       "      <td>412</td>\n",
       "    </tr>\n",
       "    <tr>\n",
       "      <th>I</th>\n",
       "      <td>645</td>\n",
       "      <td>405</td>\n",
       "      <td>209</td>\n",
       "      <td>64</td>\n",
       "      <td>19</td>\n",
       "    </tr>\n",
       "    <tr>\n",
       "      <th>M</th>\n",
       "      <td>140</td>\n",
       "      <td>233</td>\n",
       "      <td>355</td>\n",
       "      <td>395</td>\n",
       "      <td>405</td>\n",
       "    </tr>\n",
       "  </tbody>\n",
       "</table>\n",
       "</div>"
      ],
      "text/plain": [
       "     GRP_0  GRP_1  GRP_2  GRP_3  GRP_4\n",
       "sex                                   \n",
       "F       51    198    292    354    412\n",
       "I      645    405    209     64     19\n",
       "M      140    233    355    395    405"
      ]
     },
     "execution_count": 39,
     "metadata": {},
     "output_type": "execute_result"
    }
   ],
   "source": [
    "abalone_profiler.get_crosstab(colname, categorical=False)"
   ]
  },
  {
   "cell_type": "code",
   "execution_count": 40,
   "id": "92c97d88",
   "metadata": {},
   "outputs": [
    {
     "data": {
      "text/html": [
       "<div>\n",
       "<style scoped>\n",
       "    .dataframe tbody tr th:only-of-type {\n",
       "        vertical-align: middle;\n",
       "    }\n",
       "\n",
       "    .dataframe tbody tr th {\n",
       "        vertical-align: top;\n",
       "    }\n",
       "\n",
       "    .dataframe thead th {\n",
       "        text-align: right;\n",
       "    }\n",
       "</style>\n",
       "<table border=\"1\" class=\"dataframe\">\n",
       "  <thead>\n",
       "    <tr style=\"text-align: right;\">\n",
       "      <th></th>\n",
       "      <th>GRP_0</th>\n",
       "      <th>GRP_1</th>\n",
       "      <th>GRP_2</th>\n",
       "      <th>GRP_3</th>\n",
       "      <th>GRP_4</th>\n",
       "    </tr>\n",
       "    <tr>\n",
       "      <th>sex</th>\n",
       "      <th></th>\n",
       "      <th></th>\n",
       "      <th></th>\n",
       "      <th></th>\n",
       "      <th></th>\n",
       "    </tr>\n",
       "  </thead>\n",
       "  <tbody>\n",
       "    <tr>\n",
       "      <th>F</th>\n",
       "      <td>-1.634944</td>\n",
       "      <td>-0.278503</td>\n",
       "      <td>0.086342</td>\n",
       "      <td>0.330425</td>\n",
       "      <td>0.454254</td>\n",
       "    </tr>\n",
       "    <tr>\n",
       "      <th>I</th>\n",
       "      <td>0.876054</td>\n",
       "      <td>0.410691</td>\n",
       "      <td>-0.274504</td>\n",
       "      <td>-1.406416</td>\n",
       "      <td>-2.648757</td>\n",
       "    </tr>\n",
       "    <tr>\n",
       "      <th>M</th>\n",
       "      <td>-0.781353</td>\n",
       "      <td>-0.271957</td>\n",
       "      <td>0.125481</td>\n",
       "      <td>0.283788</td>\n",
       "      <td>0.280892</td>\n",
       "    </tr>\n",
       "  </tbody>\n",
       "</table>\n",
       "</div>"
      ],
      "text/plain": [
       "        GRP_0     GRP_1     GRP_2     GRP_3     GRP_4\n",
       "sex                                                  \n",
       "F   -1.634944 -0.278503  0.086342  0.330425  0.454254\n",
       "I    0.876054  0.410691 -0.274504 -1.406416 -2.648757\n",
       "M   -0.781353 -0.271957  0.125481  0.283788  0.280892"
      ]
     },
     "execution_count": 40,
     "metadata": {},
     "output_type": "execute_result"
    }
   ],
   "source": [
    "abalone_profiler.get_woe(colname, categorical=False)"
   ]
  },
  {
   "cell_type": "code",
   "execution_count": 41,
   "id": "42863f9d",
   "metadata": {},
   "outputs": [
    {
     "data": {
      "text/plain": [
       "1.4938465530448188"
      ]
     },
     "execution_count": 41,
     "metadata": {},
     "output_type": "execute_result"
    }
   ],
   "source": [
    "abalone_profiler.get_iv(colname, categorical=False)"
   ]
  },
  {
   "cell_type": "code",
   "execution_count": null,
   "id": "01ec5da2",
   "metadata": {},
   "outputs": [],
   "source": []
  },
  {
   "cell_type": "code",
   "execution_count": null,
   "id": "cd845817",
   "metadata": {},
   "outputs": [],
   "source": []
  }
 ],
 "metadata": {
  "kernelspec": {
   "display_name": "Python 3 (ipykernel)",
   "language": "python",
   "name": "python3"
  },
  "language_info": {
   "codemirror_mode": {
    "name": "ipython",
    "version": 3
   },
   "file_extension": ".py",
   "mimetype": "text/x-python",
   "name": "python",
   "nbconvert_exporter": "python",
   "pygments_lexer": "ipython3",
   "version": "3.8.10"
  }
 },
 "nbformat": 4,
 "nbformat_minor": 5
}
