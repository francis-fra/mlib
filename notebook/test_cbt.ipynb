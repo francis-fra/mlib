{
 "cells": [
  {
   "cell_type": "code",
   "execution_count": 3,
   "metadata": {},
   "outputs": [],
   "source": [
    "import pandas as pd\n",
    "import sys\n",
    "mylib = '/home/fra/Project/pyProj/mlib'"
   ]
  },
  {
   "cell_type": "code",
   "execution_count": 4,
   "metadata": {},
   "outputs": [],
   "source": [
    "sys.path.append(mylib)"
   ]
  },
  {
   "cell_type": "code",
   "execution_count": 1,
   "metadata": {},
   "outputs": [],
   "source": [
    "data_folder = \"/home/fra/DataMart/datacentre/olddata/\"\n",
    "train_filename = 'ccbt_train.csv'"
   ]
  },
  {
   "cell_type": "code",
   "execution_count": 6,
   "metadata": {},
   "outputs": [
    {
     "data": {
      "text/html": [
       "<div>\n",
       "<style scoped>\n",
       "    .dataframe tbody tr th:only-of-type {\n",
       "        vertical-align: middle;\n",
       "    }\n",
       "\n",
       "    .dataframe tbody tr th {\n",
       "        vertical-align: top;\n",
       "    }\n",
       "\n",
       "    .dataframe thead th {\n",
       "        text-align: right;\n",
       "    }\n",
       "</style>\n",
       "<table border=\"1\" class=\"dataframe\">\n",
       "  <thead>\n",
       "    <tr style=\"text-align: right;\">\n",
       "      <th></th>\n",
       "      <th>target_f</th>\n",
       "      <th>GCIS_KEY</th>\n",
       "      <th>DATA_DT</th>\n",
       "      <th>CUNCZZ_AGE_YEARS</th>\n",
       "      <th>CUBCZZ_PERSONAL_CUST_IND</th>\n",
       "      <th>CUBCZZ_ALLOW_ADVERT_MAIL</th>\n",
       "      <th>CUBCZZ_ALLOW_PHONE_CONTACT</th>\n",
       "      <th>CUBCZZ_REL_MGT_IND</th>\n",
       "      <th>CUNCZZ_CUST_TENURE</th>\n",
       "      <th>CUCCZZ_CUST_GENDER</th>\n",
       "      <th>...</th>\n",
       "      <th>AFBCZZ_LOAN_OFFSET_IND</th>\n",
       "      <th>AFBCZZ_TD_IND</th>\n",
       "      <th>AFNCZZ_TD_BAL_AMT</th>\n",
       "      <th>AFBCZZ_TD_MATURE_IN_1M</th>\n",
       "      <th>AFBCZZ_TD_MATURE_IN_3M</th>\n",
       "      <th>AFBCZZ_TD_MATURE_IN_6M</th>\n",
       "      <th>AFBCZZ_FR_LOAN_MATURE_IN_3M</th>\n",
       "      <th>AFBCZZ_FR_LOAN_MATURE_IN_6M</th>\n",
       "      <th>AFBCZZ_FR_LOAN_MATURE_IN_12M</th>\n",
       "      <th>PROCESS_DTTM</th>\n",
       "    </tr>\n",
       "  </thead>\n",
       "  <tbody>\n",
       "    <tr>\n",
       "      <th>0</th>\n",
       "      <td>0</td>\n",
       "      <td>55349465</td>\n",
       "      <td>31/10/2017</td>\n",
       "      <td>0</td>\n",
       "      <td>0</td>\n",
       "      <td>0</td>\n",
       "      <td>0</td>\n",
       "      <td>1</td>\n",
       "      <td>1.0</td>\n",
       "      <td></td>\n",
       "      <td>...</td>\n",
       "      <td>0</td>\n",
       "      <td>0</td>\n",
       "      <td>0.0</td>\n",
       "      <td>0</td>\n",
       "      <td>0</td>\n",
       "      <td>0</td>\n",
       "      <td>0</td>\n",
       "      <td>0</td>\n",
       "      <td>0</td>\n",
       "      <td>27:01.4</td>\n",
       "    </tr>\n",
       "    <tr>\n",
       "      <th>1</th>\n",
       "      <td>1</td>\n",
       "      <td>55510132</td>\n",
       "      <td>30/11/2017</td>\n",
       "      <td>33</td>\n",
       "      <td>1</td>\n",
       "      <td>0</td>\n",
       "      <td>0</td>\n",
       "      <td>0</td>\n",
       "      <td>1.0</td>\n",
       "      <td>F</td>\n",
       "      <td>...</td>\n",
       "      <td>1</td>\n",
       "      <td>0</td>\n",
       "      <td>0.0</td>\n",
       "      <td>0</td>\n",
       "      <td>0</td>\n",
       "      <td>0</td>\n",
       "      <td>0</td>\n",
       "      <td>0</td>\n",
       "      <td>0</td>\n",
       "      <td>37:10.8</td>\n",
       "    </tr>\n",
       "    <tr>\n",
       "      <th>2</th>\n",
       "      <td>0</td>\n",
       "      <td>50260882</td>\n",
       "      <td>30/11/2017</td>\n",
       "      <td>58</td>\n",
       "      <td>1</td>\n",
       "      <td>0</td>\n",
       "      <td>0</td>\n",
       "      <td>0</td>\n",
       "      <td>18.0</td>\n",
       "      <td>F</td>\n",
       "      <td>...</td>\n",
       "      <td>0</td>\n",
       "      <td>0</td>\n",
       "      <td>0.0</td>\n",
       "      <td>0</td>\n",
       "      <td>0</td>\n",
       "      <td>0</td>\n",
       "      <td>0</td>\n",
       "      <td>0</td>\n",
       "      <td>0</td>\n",
       "      <td>37:10.8</td>\n",
       "    </tr>\n",
       "    <tr>\n",
       "      <th>3</th>\n",
       "      <td>0</td>\n",
       "      <td>52934020</td>\n",
       "      <td>31/07/2017</td>\n",
       "      <td>46</td>\n",
       "      <td>1</td>\n",
       "      <td>1</td>\n",
       "      <td>1</td>\n",
       "      <td>0</td>\n",
       "      <td>9.0</td>\n",
       "      <td>F</td>\n",
       "      <td>...</td>\n",
       "      <td>0</td>\n",
       "      <td>0</td>\n",
       "      <td>0.0</td>\n",
       "      <td>0</td>\n",
       "      <td>0</td>\n",
       "      <td>0</td>\n",
       "      <td>0</td>\n",
       "      <td>0</td>\n",
       "      <td>0</td>\n",
       "      <td>07:09.2</td>\n",
       "    </tr>\n",
       "    <tr>\n",
       "      <th>4</th>\n",
       "      <td>0</td>\n",
       "      <td>54700818</td>\n",
       "      <td>31/05/2018</td>\n",
       "      <td>0</td>\n",
       "      <td>0</td>\n",
       "      <td>0</td>\n",
       "      <td>0</td>\n",
       "      <td>1</td>\n",
       "      <td>4.0</td>\n",
       "      <td></td>\n",
       "      <td>...</td>\n",
       "      <td>0</td>\n",
       "      <td>0</td>\n",
       "      <td>0.0</td>\n",
       "      <td>0</td>\n",
       "      <td>0</td>\n",
       "      <td>0</td>\n",
       "      <td>0</td>\n",
       "      <td>0</td>\n",
       "      <td>1</td>\n",
       "      <td>07:24.8</td>\n",
       "    </tr>\n",
       "  </tbody>\n",
       "</table>\n",
       "<p>5 rows × 365 columns</p>\n",
       "</div>"
      ],
      "text/plain": [
       "   target_f  GCIS_KEY     DATA_DT  CUNCZZ_AGE_YEARS  CUBCZZ_PERSONAL_CUST_IND  \\\n",
       "0         0  55349465  31/10/2017                 0                         0   \n",
       "1         1  55510132  30/11/2017                33                         1   \n",
       "2         0  50260882  30/11/2017                58                         1   \n",
       "3         0  52934020  31/07/2017                46                         1   \n",
       "4         0  54700818  31/05/2018                 0                         0   \n",
       "\n",
       "   CUBCZZ_ALLOW_ADVERT_MAIL  CUBCZZ_ALLOW_PHONE_CONTACT  CUBCZZ_REL_MGT_IND  \\\n",
       "0                         0                           0                   1   \n",
       "1                         0                           0                   0   \n",
       "2                         0                           0                   0   \n",
       "3                         1                           1                   0   \n",
       "4                         0                           0                   1   \n",
       "\n",
       "   CUNCZZ_CUST_TENURE CUCCZZ_CUST_GENDER  ... AFBCZZ_LOAN_OFFSET_IND  \\\n",
       "0                 1.0                     ...                      0   \n",
       "1                 1.0                  F  ...                      1   \n",
       "2                18.0                  F  ...                      0   \n",
       "3                 9.0                  F  ...                      0   \n",
       "4                 4.0                     ...                      0   \n",
       "\n",
       "  AFBCZZ_TD_IND AFNCZZ_TD_BAL_AMT AFBCZZ_TD_MATURE_IN_1M  \\\n",
       "0             0               0.0                      0   \n",
       "1             0               0.0                      0   \n",
       "2             0               0.0                      0   \n",
       "3             0               0.0                      0   \n",
       "4             0               0.0                      0   \n",
       "\n",
       "   AFBCZZ_TD_MATURE_IN_3M AFBCZZ_TD_MATURE_IN_6M AFBCZZ_FR_LOAN_MATURE_IN_3M  \\\n",
       "0                       0                      0                           0   \n",
       "1                       0                      0                           0   \n",
       "2                       0                      0                           0   \n",
       "3                       0                      0                           0   \n",
       "4                       0                      0                           0   \n",
       "\n",
       "  AFBCZZ_FR_LOAN_MATURE_IN_6M AFBCZZ_FR_LOAN_MATURE_IN_12M  PROCESS_DTTM  \n",
       "0                           0                            0       27:01.4  \n",
       "1                           0                            0       37:10.8  \n",
       "2                           0                            0       37:10.8  \n",
       "3                           0                            0       07:09.2  \n",
       "4                           0                            1       07:24.8  \n",
       "\n",
       "[5 rows x 365 columns]"
      ]
     },
     "execution_count": 6,
     "metadata": {},
     "output_type": "execute_result"
    }
   ],
   "source": [
    "df = pd.read_csv(data_folder + train_filename)\n",
    "df.head()"
   ]
  },
  {
   "cell_type": "code",
   "execution_count": 30,
   "metadata": {},
   "outputs": [
    {
     "data": {
      "text/plain": [
       "(40675, 365)"
      ]
     },
     "execution_count": 30,
     "metadata": {},
     "output_type": "execute_result"
    }
   ],
   "source": [
    "df.shape"
   ]
  },
  {
   "cell_type": "code",
   "execution_count": 18,
   "metadata": {},
   "outputs": [],
   "source": [
    "import utility as util\n",
    "import explore as ex\n",
    "import pipeline as pl\n",
    "import transform as trf"
   ]
  },
  {
   "cell_type": "code",
   "execution_count": 9,
   "metadata": {},
   "outputs": [
    {
     "data": {
      "text/html": [
       "<div>\n",
       "<style scoped>\n",
       "    .dataframe tbody tr th:only-of-type {\n",
       "        vertical-align: middle;\n",
       "    }\n",
       "\n",
       "    .dataframe tbody tr th {\n",
       "        vertical-align: top;\n",
       "    }\n",
       "\n",
       "    .dataframe thead th {\n",
       "        text-align: right;\n",
       "    }\n",
       "</style>\n",
       "<table border=\"1\" class=\"dataframe\">\n",
       "  <thead>\n",
       "    <tr style=\"text-align: right;\">\n",
       "      <th></th>\n",
       "      <th>unique_values</th>\n",
       "      <th>num_missing</th>\n",
       "      <th>numerical</th>\n",
       "      <th>categorical</th>\n",
       "      <th>binary</th>\n",
       "    </tr>\n",
       "  </thead>\n",
       "  <tbody>\n",
       "    <tr>\n",
       "      <th>target_f</th>\n",
       "      <td>2</td>\n",
       "      <td>0</td>\n",
       "      <td>False</td>\n",
       "      <td>False</td>\n",
       "      <td>True</td>\n",
       "    </tr>\n",
       "    <tr>\n",
       "      <th>GCIS_KEY</th>\n",
       "      <td>40675</td>\n",
       "      <td>0</td>\n",
       "      <td>True</td>\n",
       "      <td>False</td>\n",
       "      <td>False</td>\n",
       "    </tr>\n",
       "    <tr>\n",
       "      <th>DATA_DT</th>\n",
       "      <td>11</td>\n",
       "      <td>0</td>\n",
       "      <td>False</td>\n",
       "      <td>True</td>\n",
       "      <td>False</td>\n",
       "    </tr>\n",
       "    <tr>\n",
       "      <th>CUNCZZ_AGE_YEARS</th>\n",
       "      <td>98</td>\n",
       "      <td>0</td>\n",
       "      <td>True</td>\n",
       "      <td>False</td>\n",
       "      <td>False</td>\n",
       "    </tr>\n",
       "    <tr>\n",
       "      <th>CUBCZZ_PERSONAL_CUST_IND</th>\n",
       "      <td>2</td>\n",
       "      <td>0</td>\n",
       "      <td>False</td>\n",
       "      <td>False</td>\n",
       "      <td>True</td>\n",
       "    </tr>\n",
       "    <tr>\n",
       "      <th>...</th>\n",
       "      <td>...</td>\n",
       "      <td>...</td>\n",
       "      <td>...</td>\n",
       "      <td>...</td>\n",
       "      <td>...</td>\n",
       "    </tr>\n",
       "    <tr>\n",
       "      <th>AFBCZZ_TD_MATURE_IN_6M</th>\n",
       "      <td>2</td>\n",
       "      <td>0</td>\n",
       "      <td>False</td>\n",
       "      <td>False</td>\n",
       "      <td>True</td>\n",
       "    </tr>\n",
       "    <tr>\n",
       "      <th>AFBCZZ_FR_LOAN_MATURE_IN_3M</th>\n",
       "      <td>2</td>\n",
       "      <td>0</td>\n",
       "      <td>False</td>\n",
       "      <td>False</td>\n",
       "      <td>True</td>\n",
       "    </tr>\n",
       "    <tr>\n",
       "      <th>AFBCZZ_FR_LOAN_MATURE_IN_6M</th>\n",
       "      <td>2</td>\n",
       "      <td>0</td>\n",
       "      <td>False</td>\n",
       "      <td>False</td>\n",
       "      <td>True</td>\n",
       "    </tr>\n",
       "    <tr>\n",
       "      <th>AFBCZZ_FR_LOAN_MATURE_IN_12M</th>\n",
       "      <td>2</td>\n",
       "      <td>0</td>\n",
       "      <td>False</td>\n",
       "      <td>False</td>\n",
       "      <td>True</td>\n",
       "    </tr>\n",
       "    <tr>\n",
       "      <th>PROCESS_DTTM</th>\n",
       "      <td>11</td>\n",
       "      <td>0</td>\n",
       "      <td>False</td>\n",
       "      <td>True</td>\n",
       "      <td>False</td>\n",
       "    </tr>\n",
       "  </tbody>\n",
       "</table>\n",
       "<p>365 rows × 5 columns</p>\n",
       "</div>"
      ],
      "text/plain": [
       "                              unique_values  num_missing  numerical  \\\n",
       "target_f                                  2            0      False   \n",
       "GCIS_KEY                              40675            0       True   \n",
       "DATA_DT                                  11            0      False   \n",
       "CUNCZZ_AGE_YEARS                         98            0       True   \n",
       "CUBCZZ_PERSONAL_CUST_IND                  2            0      False   \n",
       "...                                     ...          ...        ...   \n",
       "AFBCZZ_TD_MATURE_IN_6M                    2            0      False   \n",
       "AFBCZZ_FR_LOAN_MATURE_IN_3M               2            0      False   \n",
       "AFBCZZ_FR_LOAN_MATURE_IN_6M               2            0      False   \n",
       "AFBCZZ_FR_LOAN_MATURE_IN_12M              2            0      False   \n",
       "PROCESS_DTTM                             11            0      False   \n",
       "\n",
       "                              categorical  binary  \n",
       "target_f                            False    True  \n",
       "GCIS_KEY                            False   False  \n",
       "DATA_DT                              True   False  \n",
       "CUNCZZ_AGE_YEARS                    False   False  \n",
       "CUBCZZ_PERSONAL_CUST_IND            False    True  \n",
       "...                                   ...     ...  \n",
       "AFBCZZ_TD_MATURE_IN_6M              False    True  \n",
       "AFBCZZ_FR_LOAN_MATURE_IN_3M         False    True  \n",
       "AFBCZZ_FR_LOAN_MATURE_IN_6M         False    True  \n",
       "AFBCZZ_FR_LOAN_MATURE_IN_12M        False    True  \n",
       "PROCESS_DTTM                         True   False  \n",
       "\n",
       "[365 rows x 5 columns]"
      ]
     },
     "execution_count": 9,
     "metadata": {},
     "output_type": "execute_result"
    }
   ],
   "source": [
    "ex.summary(df)"
   ]
  },
  {
   "cell_type": "code",
   "execution_count": 22,
   "metadata": {},
   "outputs": [],
   "source": [
    "target_col = 'TARGET_F'"
   ]
  },
  {
   "cell_type": "code",
   "execution_count": 19,
   "metadata": {},
   "outputs": [
    {
     "data": {
      "text/plain": [
       "<module 'transform' from '/home/fra/Project/pyProj/mlib/transform.py'>"
      ]
     },
     "execution_count": 19,
     "metadata": {},
     "output_type": "execute_result"
    }
   ],
   "source": [
    "from imp import reload\n",
    "reload(pl)\n",
    "reload(trf)"
   ]
  },
  {
   "cell_type": "code",
   "execution_count": 25,
   "metadata": {},
   "outputs": [
    {
     "data": {
      "text/plain": [
       "<module 'pipeline' from '/home/fra/Project/pyProj/mlib/pipeline.py'>"
      ]
     },
     "execution_count": 25,
     "metadata": {},
     "output_type": "execute_result"
    }
   ],
   "source": [
    "reload(pl)"
   ]
  },
  {
   "cell_type": "code",
   "execution_count": 26,
   "metadata": {},
   "outputs": [
    {
     "name": "stderr",
     "output_type": "stream",
     "text": [
      "/home/fra/Project/pyProj/pyml/pymlenv/lib/python3.6/site-packages/sklearn/preprocessing/_label.py:235: DataConversionWarning: A column-vector y was passed when a 1d array was expected. Please change the shape of y to (n_samples, ), for example using ravel().\n",
      "  y = column_or_1d(y, warn=True)\n",
      "/home/fra/Project/pyProj/pyml/pymlenv/lib/python3.6/site-packages/sklearn/preprocessing/_label.py:268: DataConversionWarning: A column-vector y was passed when a 1d array was expected. Please change the shape of y to (n_samples, ), for example using ravel().\n",
      "  y = column_or_1d(y, warn=True)\n"
     ]
    }
   ],
   "source": [
    "(X, y, features) = pl.preprocessing(df, target_col=target_col, exclusions=['DATA_DT', 'PROCESS_DTTM', 'GCIS_KEY'])"
   ]
  },
  {
   "cell_type": "code",
   "execution_count": 27,
   "metadata": {},
   "outputs": [
    {
     "data": {
      "text/plain": [
       "((40675, 2763), (40675,))"
      ]
     },
     "execution_count": 27,
     "metadata": {},
     "output_type": "execute_result"
    }
   ],
   "source": [
    "X.shape, y.shape"
   ]
  },
  {
   "cell_type": "code",
   "execution_count": 28,
   "metadata": {},
   "outputs": [
    {
     "data": {
      "text/plain": [
       "Index(['TRNCZZ_TOT_TRAN_AMT', 'MBNCZZ_TD_SPOT_BAL_AMT', 'CFNCZZ_ORIG_LVR',\n",
       "       'CUNCZZ_CUST_TENURE', 'CPNCZZ_CCARD_AVG_WAB_AMT', 'TRNCZZ_AVG_TRAN_AMT',\n",
       "       'CPNCZZ_LOAN_TO_BORROWED_RATIO', 'CBNCZZ_EF_LIMIT_OFFER_AMT',\n",
       "       'CBNCZZ_WORST_DELQ_STATUS', 'CBNCZZ_BUS_EXPOSURE_AMT',\n",
       "       ...\n",
       "       'CUCCZZ_OCCUPATION_CODE_8300', 'CUCCZZ_OCCUPATION_CODE_8310',\n",
       "       'CBCCZZ_CC_PA_NPA_OFFER_1-PA', 'CBCCZZ_CC_PA_NPA_OFFER_2-NPA',\n",
       "       'CBCCZZ_CC_PA_NPA_OFFER_3-Oth', 'CBCCZZ_CC_PA_NPA_OFFER_Unknown',\n",
       "       'CBNCZZ_MERCHANT_FACILITY_BAL_0.0',\n",
       "       'CBNCZZ_MERCHANT_FACILITY_BAL_Unknown', 'CBNCZZ_LENDING_BAL_AMT_0.0',\n",
       "       'CBNCZZ_LENDING_BAL_AMT_Unknown'],\n",
       "      dtype='object', length=2763)"
      ]
     },
     "execution_count": 28,
     "metadata": {},
     "output_type": "execute_result"
    }
   ],
   "source": [
    "features"
   ]
  },
  {
   "cell_type": "markdown",
   "metadata": {},
   "source": [
    "### Modelling"
   ]
  },
  {
   "cell_type": "code",
   "execution_count": 31,
   "metadata": {},
   "outputs": [],
   "source": [
    "# split train / test\n",
    "from sklearn.model_selection import train_test_split\n",
    "# features = df.columns\n",
    "X_train, X_test, y_train, y_test = train_test_split(X, y, test_size=0.3)"
   ]
  },
  {
   "cell_type": "code",
   "execution_count": 32,
   "metadata": {},
   "outputs": [],
   "source": [
    "import xgboost as xgb\n",
    "model = xgb.XGBClassifier().fit(X_train, y_train)"
   ]
  },
  {
   "cell_type": "code",
   "execution_count": 29,
   "metadata": {},
   "outputs": [],
   "source": [
    "# TODO: get top features"
   ]
  },
  {
   "cell_type": "code",
   "execution_count": 33,
   "metadata": {},
   "outputs": [],
   "source": [
    "def print_model_performance(model, X_test, y_test):\n",
    "    predictions = model.predict(X_test)\n",
    "    pred_prob = model.predict_proba(X_test)\n",
    "\n",
    "    print(\"Accuracy: %f\" % accuracy_score(y_test, predictions))\n",
    "    print(\"Confustion Matrix: \")\n",
    "    print(confusion_matrix(y_true=y_test, y_pred=predictions))\n",
    "    print(\"AUC Score: %f\" % roc_auc_score(y_test, pred_prob[:,1]))\n",
    "    print(\"GINI Coefficient: %f\" % (roc_auc_score(y_test, pred_prob[:,1])*2-1))\n"
   ]
  },
  {
   "cell_type": "code",
   "execution_count": 36,
   "metadata": {},
   "outputs": [],
   "source": [
    "from sklearn.metrics import accuracy_score\n",
    "from sklearn.metrics import roc_auc_score\n",
    "from sklearn.metrics import roc_curve\n",
    "from sklearn.metrics import confusion_matrix"
   ]
  },
  {
   "cell_type": "code",
   "execution_count": 38,
   "metadata": {},
   "outputs": [
    {
     "name": "stdout",
     "output_type": "stream",
     "text": [
      "Accuracy: 0.666885\n",
      "Confustion Matrix: \n",
      "[[4356 2010]\n",
      " [2055 3782]]\n",
      "AUC Score: 0.731727\n",
      "GINI Coefficient: 0.463454\n"
     ]
    }
   ],
   "source": [
    "print_model_performance(model, X_test, y_test)"
   ]
  },
  {
   "cell_type": "markdown",
   "metadata": {},
   "source": [
    "### Model package"
   ]
  },
  {
   "cell_type": "code",
   "execution_count": null,
   "metadata": {},
   "outputs": [],
   "source": []
  }
 ],
 "metadata": {
  "kernelspec": {
   "display_name": "Python 3",
   "language": "python",
   "name": "python3"
  },
  "language_info": {
   "codemirror_mode": {
    "name": "ipython",
    "version": 3
   },
   "file_extension": ".py",
   "mimetype": "text/x-python",
   "name": "python",
   "nbconvert_exporter": "python",
   "pygments_lexer": "ipython3",
   "version": "3.6.9"
  }
 },
 "nbformat": 4,
 "nbformat_minor": 4
}
