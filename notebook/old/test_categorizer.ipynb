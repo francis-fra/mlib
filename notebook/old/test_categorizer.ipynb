{
 "cells": [
  {
   "cell_type": "code",
   "execution_count": 1,
   "metadata": {},
   "outputs": [],
   "source": [
    "import os, sys\n",
    "import pandas as pd"
   ]
  },
  {
   "cell_type": "code",
   "execution_count": 2,
   "metadata": {},
   "outputs": [],
   "source": [
    "sys.path.append('..')"
   ]
  },
  {
   "cell_type": "code",
   "execution_count": 3,
   "metadata": {},
   "outputs": [
    {
     "data": {
      "text/html": [
       "<div>\n",
       "<style scoped>\n",
       "    .dataframe tbody tr th:only-of-type {\n",
       "        vertical-align: middle;\n",
       "    }\n",
       "\n",
       "    .dataframe tbody tr th {\n",
       "        vertical-align: top;\n",
       "    }\n",
       "\n",
       "    .dataframe thead th {\n",
       "        text-align: right;\n",
       "    }\n",
       "</style>\n",
       "<table border=\"1\" class=\"dataframe\">\n",
       "  <thead>\n",
       "    <tr style=\"text-align: right;\">\n",
       "      <th></th>\n",
       "      <th>sex</th>\n",
       "      <th>length</th>\n",
       "      <th>diameter</th>\n",
       "      <th>height</th>\n",
       "      <th>whole_wt</th>\n",
       "      <th>shucked_wt</th>\n",
       "      <th>viscera_wt</th>\n",
       "      <th>shell_wt</th>\n",
       "      <th>rings</th>\n",
       "    </tr>\n",
       "  </thead>\n",
       "  <tbody>\n",
       "    <tr>\n",
       "      <th>0</th>\n",
       "      <td>M</td>\n",
       "      <td>0.455</td>\n",
       "      <td>0.365</td>\n",
       "      <td>0.095</td>\n",
       "      <td>0.5140</td>\n",
       "      <td>0.2245</td>\n",
       "      <td>0.1010</td>\n",
       "      <td>0.150</td>\n",
       "      <td>15</td>\n",
       "    </tr>\n",
       "    <tr>\n",
       "      <th>1</th>\n",
       "      <td>M</td>\n",
       "      <td>0.350</td>\n",
       "      <td>0.265</td>\n",
       "      <td>0.090</td>\n",
       "      <td>0.2255</td>\n",
       "      <td>0.0995</td>\n",
       "      <td>0.0485</td>\n",
       "      <td>0.070</td>\n",
       "      <td>7</td>\n",
       "    </tr>\n",
       "    <tr>\n",
       "      <th>2</th>\n",
       "      <td>F</td>\n",
       "      <td>0.530</td>\n",
       "      <td>0.420</td>\n",
       "      <td>0.135</td>\n",
       "      <td>0.6770</td>\n",
       "      <td>0.2565</td>\n",
       "      <td>0.1415</td>\n",
       "      <td>0.210</td>\n",
       "      <td>9</td>\n",
       "    </tr>\n",
       "    <tr>\n",
       "      <th>3</th>\n",
       "      <td>M</td>\n",
       "      <td>0.440</td>\n",
       "      <td>0.365</td>\n",
       "      <td>0.125</td>\n",
       "      <td>0.5160</td>\n",
       "      <td>0.2155</td>\n",
       "      <td>0.1140</td>\n",
       "      <td>0.155</td>\n",
       "      <td>10</td>\n",
       "    </tr>\n",
       "    <tr>\n",
       "      <th>4</th>\n",
       "      <td>I</td>\n",
       "      <td>0.330</td>\n",
       "      <td>0.255</td>\n",
       "      <td>0.080</td>\n",
       "      <td>0.2050</td>\n",
       "      <td>0.0895</td>\n",
       "      <td>0.0395</td>\n",
       "      <td>0.055</td>\n",
       "      <td>7</td>\n",
       "    </tr>\n",
       "  </tbody>\n",
       "</table>\n",
       "</div>"
      ],
      "text/plain": [
       "  sex  length  diameter  height  whole_wt  shucked_wt  viscera_wt  shell_wt  \\\n",
       "0   M   0.455     0.365   0.095    0.5140      0.2245      0.1010     0.150   \n",
       "1   M   0.350     0.265   0.090    0.2255      0.0995      0.0485     0.070   \n",
       "2   F   0.530     0.420   0.135    0.6770      0.2565      0.1415     0.210   \n",
       "3   M   0.440     0.365   0.125    0.5160      0.2155      0.1140     0.155   \n",
       "4   I   0.330     0.255   0.080    0.2050      0.0895      0.0395     0.055   \n",
       "\n",
       "   rings  \n",
       "0     15  \n",
       "1      7  \n",
       "2      9  \n",
       "3     10  \n",
       "4      7  "
      ]
     },
     "execution_count": 3,
     "metadata": {},
     "output_type": "execute_result"
    }
   ],
   "source": [
    "data_file = \"abalone.csv\"\n",
    "df = pd.read_csv(\"../data/\"+data_file)\n",
    "df.head()"
   ]
  },
  {
   "cell_type": "code",
   "execution_count": 37,
   "metadata": {},
   "outputs": [],
   "source": [
    "from imp import reload"
   ]
  },
  {
   "cell_type": "code",
   "execution_count": 4,
   "metadata": {},
   "outputs": [],
   "source": [
    "import categorize as ct"
   ]
  },
  {
   "cell_type": "code",
   "execution_count": 38,
   "metadata": {},
   "outputs": [
    {
     "data": {
      "text/plain": [
       "<module 'categorize' from '../categorize.py'>"
      ]
     },
     "execution_count": 38,
     "metadata": {},
     "output_type": "execute_result"
    }
   ],
   "source": [
    "reload(ct)"
   ]
  },
  {
   "cell_type": "code",
   "execution_count": 48,
   "metadata": {},
   "outputs": [],
   "source": [
    "categorize = ct.Categorizer(df, 'SEX')"
   ]
  },
  {
   "cell_type": "code",
   "execution_count": 40,
   "metadata": {},
   "outputs": [
    {
     "data": {
      "text/plain": [
       "{'SEX': 3,\n",
       " 'LENGTH': 134,\n",
       " 'DIAMETER': 111,\n",
       " 'HEIGHT': 51,\n",
       " 'WHOLE_WT': 2429,\n",
       " 'SHUCKED_WT': 1515,\n",
       " 'VISCERA_WT': 880,\n",
       " 'SHELL_WT': 926,\n",
       " 'RINGS': 28}"
      ]
     },
     "execution_count": 40,
     "metadata": {},
     "output_type": "execute_result"
    }
   ],
   "source": [
    "categorize.count_unique_values()"
   ]
  },
  {
   "cell_type": "code",
   "execution_count": 41,
   "metadata": {},
   "outputs": [
    {
     "data": {
      "text/plain": [
       "{'SEX': 3}"
      ]
     },
     "execution_count": 41,
     "metadata": {},
     "output_type": "execute_result"
    }
   ],
   "source": [
    "categorize.count_unique_values(subset='SEX')"
   ]
  },
  {
   "cell_type": "code",
   "execution_count": 42,
   "metadata": {},
   "outputs": [
    {
     "data": {
      "text/plain": [
       "{'SEX': 3, 'LENGTH': 134}"
      ]
     },
     "execution_count": 42,
     "metadata": {},
     "output_type": "execute_result"
    }
   ],
   "source": [
    "categorize.count_unique_values(subset=['SEX','LENGTH'])"
   ]
  },
  {
   "cell_type": "code",
   "execution_count": 29,
   "metadata": {},
   "outputs": [
    {
     "data": {
      "text/html": [
       "<div>\n",
       "<style scoped>\n",
       "    .dataframe tbody tr th:only-of-type {\n",
       "        vertical-align: middle;\n",
       "    }\n",
       "\n",
       "    .dataframe tbody tr th {\n",
       "        vertical-align: top;\n",
       "    }\n",
       "\n",
       "    .dataframe thead th {\n",
       "        text-align: right;\n",
       "    }\n",
       "</style>\n",
       "<table border=\"1\" class=\"dataframe\">\n",
       "  <thead>\n",
       "    <tr style=\"text-align: right;\">\n",
       "      <th></th>\n",
       "      <th>SEX</th>\n",
       "      <th>LENGTH</th>\n",
       "      <th>DIAMETER</th>\n",
       "      <th>HEIGHT</th>\n",
       "      <th>WHOLE_WT</th>\n",
       "      <th>SHUCKED_WT</th>\n",
       "      <th>VISCERA_WT</th>\n",
       "      <th>SHELL_WT</th>\n",
       "      <th>RINGS</th>\n",
       "    </tr>\n",
       "  </thead>\n",
       "  <tbody>\n",
       "    <tr>\n",
       "      <th>0</th>\n",
       "      <td>M</td>\n",
       "      <td>0.455</td>\n",
       "      <td>0.365</td>\n",
       "      <td>0.095</td>\n",
       "      <td>0.5140</td>\n",
       "      <td>0.2245</td>\n",
       "      <td>0.1010</td>\n",
       "      <td>0.1500</td>\n",
       "      <td>15</td>\n",
       "    </tr>\n",
       "    <tr>\n",
       "      <th>1</th>\n",
       "      <td>M</td>\n",
       "      <td>0.350</td>\n",
       "      <td>0.265</td>\n",
       "      <td>0.090</td>\n",
       "      <td>0.2255</td>\n",
       "      <td>0.0995</td>\n",
       "      <td>0.0485</td>\n",
       "      <td>0.0700</td>\n",
       "      <td>7</td>\n",
       "    </tr>\n",
       "    <tr>\n",
       "      <th>2</th>\n",
       "      <td>F</td>\n",
       "      <td>0.530</td>\n",
       "      <td>0.420</td>\n",
       "      <td>0.135</td>\n",
       "      <td>0.6770</td>\n",
       "      <td>0.2565</td>\n",
       "      <td>0.1415</td>\n",
       "      <td>0.2100</td>\n",
       "      <td>9</td>\n",
       "    </tr>\n",
       "    <tr>\n",
       "      <th>3</th>\n",
       "      <td>M</td>\n",
       "      <td>0.440</td>\n",
       "      <td>0.365</td>\n",
       "      <td>0.125</td>\n",
       "      <td>0.5160</td>\n",
       "      <td>0.2155</td>\n",
       "      <td>0.1140</td>\n",
       "      <td>0.1550</td>\n",
       "      <td>10</td>\n",
       "    </tr>\n",
       "    <tr>\n",
       "      <th>4</th>\n",
       "      <td>I</td>\n",
       "      <td>0.330</td>\n",
       "      <td>0.255</td>\n",
       "      <td>0.080</td>\n",
       "      <td>0.2050</td>\n",
       "      <td>0.0895</td>\n",
       "      <td>0.0395</td>\n",
       "      <td>0.0550</td>\n",
       "      <td>7</td>\n",
       "    </tr>\n",
       "    <tr>\n",
       "      <th>...</th>\n",
       "      <td>...</td>\n",
       "      <td>...</td>\n",
       "      <td>...</td>\n",
       "      <td>...</td>\n",
       "      <td>...</td>\n",
       "      <td>...</td>\n",
       "      <td>...</td>\n",
       "      <td>...</td>\n",
       "      <td>...</td>\n",
       "    </tr>\n",
       "    <tr>\n",
       "      <th>4172</th>\n",
       "      <td>F</td>\n",
       "      <td>0.565</td>\n",
       "      <td>0.450</td>\n",
       "      <td>0.165</td>\n",
       "      <td>0.8870</td>\n",
       "      <td>0.3700</td>\n",
       "      <td>0.2390</td>\n",
       "      <td>0.2490</td>\n",
       "      <td>11</td>\n",
       "    </tr>\n",
       "    <tr>\n",
       "      <th>4173</th>\n",
       "      <td>M</td>\n",
       "      <td>0.590</td>\n",
       "      <td>0.440</td>\n",
       "      <td>0.135</td>\n",
       "      <td>0.9660</td>\n",
       "      <td>0.4390</td>\n",
       "      <td>0.2145</td>\n",
       "      <td>0.2605</td>\n",
       "      <td>10</td>\n",
       "    </tr>\n",
       "    <tr>\n",
       "      <th>4174</th>\n",
       "      <td>M</td>\n",
       "      <td>0.600</td>\n",
       "      <td>0.475</td>\n",
       "      <td>0.205</td>\n",
       "      <td>1.1760</td>\n",
       "      <td>0.5255</td>\n",
       "      <td>0.2875</td>\n",
       "      <td>0.3080</td>\n",
       "      <td>9</td>\n",
       "    </tr>\n",
       "    <tr>\n",
       "      <th>4175</th>\n",
       "      <td>F</td>\n",
       "      <td>0.625</td>\n",
       "      <td>0.485</td>\n",
       "      <td>0.150</td>\n",
       "      <td>1.0945</td>\n",
       "      <td>0.5310</td>\n",
       "      <td>0.2610</td>\n",
       "      <td>0.2960</td>\n",
       "      <td>10</td>\n",
       "    </tr>\n",
       "    <tr>\n",
       "      <th>4176</th>\n",
       "      <td>M</td>\n",
       "      <td>0.710</td>\n",
       "      <td>0.555</td>\n",
       "      <td>0.195</td>\n",
       "      <td>1.9485</td>\n",
       "      <td>0.9455</td>\n",
       "      <td>0.3765</td>\n",
       "      <td>0.4950</td>\n",
       "      <td>12</td>\n",
       "    </tr>\n",
       "  </tbody>\n",
       "</table>\n",
       "<p>4177 rows × 9 columns</p>\n",
       "</div>"
      ],
      "text/plain": [
       "     SEX  LENGTH  DIAMETER  HEIGHT  WHOLE_WT  SHUCKED_WT  VISCERA_WT  \\\n",
       "0      M   0.455     0.365   0.095    0.5140      0.2245      0.1010   \n",
       "1      M   0.350     0.265   0.090    0.2255      0.0995      0.0485   \n",
       "2      F   0.530     0.420   0.135    0.6770      0.2565      0.1415   \n",
       "3      M   0.440     0.365   0.125    0.5160      0.2155      0.1140   \n",
       "4      I   0.330     0.255   0.080    0.2050      0.0895      0.0395   \n",
       "...   ..     ...       ...     ...       ...         ...         ...   \n",
       "4172   F   0.565     0.450   0.165    0.8870      0.3700      0.2390   \n",
       "4173   M   0.590     0.440   0.135    0.9660      0.4390      0.2145   \n",
       "4174   M   0.600     0.475   0.205    1.1760      0.5255      0.2875   \n",
       "4175   F   0.625     0.485   0.150    1.0945      0.5310      0.2610   \n",
       "4176   M   0.710     0.555   0.195    1.9485      0.9455      0.3765   \n",
       "\n",
       "      SHELL_WT  RINGS  \n",
       "0       0.1500     15  \n",
       "1       0.0700      7  \n",
       "2       0.2100      9  \n",
       "3       0.1550     10  \n",
       "4       0.0550      7  \n",
       "...        ...    ...  \n",
       "4172    0.2490     11  \n",
       "4173    0.2605     10  \n",
       "4174    0.3080      9  \n",
       "4175    0.2960     10  \n",
       "4176    0.4950     12  \n",
       "\n",
       "[4177 rows x 9 columns]"
      ]
     },
     "execution_count": 29,
     "metadata": {},
     "output_type": "execute_result"
    }
   ],
   "source": [
    "categorize.df"
   ]
  },
  {
   "cell_type": "code",
   "execution_count": 43,
   "metadata": {},
   "outputs": [
    {
     "data": {
      "text/plain": [
       "Index(['SEX', 'LENGTH', 'DIAMETER', 'HEIGHT', 'WHOLE_WT', 'SHUCKED_WT',\n",
       "       'VISCERA_WT', 'SHELL_WT', 'RINGS'],\n",
       "      dtype='object')"
      ]
     },
     "execution_count": 43,
     "metadata": {},
     "output_type": "execute_result"
    }
   ],
   "source": [
    "categorize.df.columns"
   ]
  },
  {
   "cell_type": "code",
   "execution_count": 44,
   "metadata": {},
   "outputs": [
    {
     "data": {
      "text/html": [
       "<div>\n",
       "<style scoped>\n",
       "    .dataframe tbody tr th:only-of-type {\n",
       "        vertical-align: middle;\n",
       "    }\n",
       "\n",
       "    .dataframe tbody tr th {\n",
       "        vertical-align: top;\n",
       "    }\n",
       "\n",
       "    .dataframe thead th {\n",
       "        text-align: right;\n",
       "    }\n",
       "</style>\n",
       "<table border=\"1\" class=\"dataframe\">\n",
       "  <thead>\n",
       "    <tr style=\"text-align: right;\">\n",
       "      <th></th>\n",
       "      <th>lower</th>\n",
       "      <th>low</th>\n",
       "      <th>mid</th>\n",
       "      <th>high</th>\n",
       "      <th>higher</th>\n",
       "    </tr>\n",
       "    <tr>\n",
       "      <th>SEX</th>\n",
       "      <th></th>\n",
       "      <th></th>\n",
       "      <th></th>\n",
       "      <th></th>\n",
       "      <th></th>\n",
       "    </tr>\n",
       "  </thead>\n",
       "  <tbody>\n",
       "    <tr>\n",
       "      <th>F</th>\n",
       "      <td>64</td>\n",
       "      <td>360</td>\n",
       "      <td>248</td>\n",
       "      <td>328</td>\n",
       "      <td>307</td>\n",
       "    </tr>\n",
       "    <tr>\n",
       "      <th>I</th>\n",
       "      <td>648</td>\n",
       "      <td>447</td>\n",
       "      <td>92</td>\n",
       "      <td>83</td>\n",
       "      <td>72</td>\n",
       "    </tr>\n",
       "    <tr>\n",
       "      <th>M</th>\n",
       "      <td>127</td>\n",
       "      <td>450</td>\n",
       "      <td>294</td>\n",
       "      <td>343</td>\n",
       "      <td>314</td>\n",
       "    </tr>\n",
       "  </tbody>\n",
       "</table>\n",
       "</div>"
      ],
      "text/plain": [
       "     lower  low  mid  high  higher\n",
       "SEX                               \n",
       "F       64  360  248   328     307\n",
       "I      648  447   92    83      72\n",
       "M      127  450  294   343     314"
      ]
     },
     "execution_count": 44,
     "metadata": {},
     "output_type": "execute_result"
    }
   ],
   "source": [
    "categorize.get_crosstab('RINGS')"
   ]
  },
  {
   "cell_type": "code",
   "execution_count": 45,
   "metadata": {},
   "outputs": [
    {
     "data": {
      "text/html": [
       "<div>\n",
       "<style scoped>\n",
       "    .dataframe tbody tr th:only-of-type {\n",
       "        vertical-align: middle;\n",
       "    }\n",
       "\n",
       "    .dataframe tbody tr th {\n",
       "        vertical-align: top;\n",
       "    }\n",
       "\n",
       "    .dataframe thead th {\n",
       "        text-align: right;\n",
       "    }\n",
       "</style>\n",
       "<table border=\"1\" class=\"dataframe\">\n",
       "  <thead>\n",
       "    <tr style=\"text-align: right;\">\n",
       "      <th>SEX</th>\n",
       "      <th>F</th>\n",
       "      <th>I</th>\n",
       "      <th>M</th>\n",
       "    </tr>\n",
       "    <tr>\n",
       "      <th>SEX</th>\n",
       "      <th></th>\n",
       "      <th></th>\n",
       "      <th></th>\n",
       "    </tr>\n",
       "  </thead>\n",
       "  <tbody>\n",
       "    <tr>\n",
       "      <th>F</th>\n",
       "      <td>1307</td>\n",
       "      <td>0</td>\n",
       "      <td>0</td>\n",
       "    </tr>\n",
       "    <tr>\n",
       "      <th>I</th>\n",
       "      <td>0</td>\n",
       "      <td>1342</td>\n",
       "      <td>0</td>\n",
       "    </tr>\n",
       "    <tr>\n",
       "      <th>M</th>\n",
       "      <td>0</td>\n",
       "      <td>0</td>\n",
       "      <td>1528</td>\n",
       "    </tr>\n",
       "  </tbody>\n",
       "</table>\n",
       "</div>"
      ],
      "text/plain": [
       "SEX     F     I     M\n",
       "SEX                  \n",
       "F    1307     0     0\n",
       "I       0  1342     0\n",
       "M       0     0  1528"
      ]
     },
     "execution_count": 45,
     "metadata": {},
     "output_type": "execute_result"
    }
   ],
   "source": [
    "categorize.get_crosstab('SEX', categorical=True)"
   ]
  },
  {
   "cell_type": "code",
   "execution_count": 64,
   "metadata": {},
   "outputs": [],
   "source": [
    "reload(ct)\n",
    "categorize = ct.Categorizer(df, 'SEX')"
   ]
  },
  {
   "cell_type": "code",
   "execution_count": 60,
   "metadata": {},
   "outputs": [
    {
     "data": {
      "text/plain": [
       "['SEX']"
      ]
     },
     "execution_count": 60,
     "metadata": {},
     "output_type": "execute_result"
    }
   ],
   "source": [
    "categorize.get_categorical_column()"
   ]
  },
  {
   "cell_type": "code",
   "execution_count": 61,
   "metadata": {},
   "outputs": [
    {
     "data": {
      "text/plain": [
       "['SEX']"
      ]
     },
     "execution_count": 61,
     "metadata": {},
     "output_type": "execute_result"
    }
   ],
   "source": [
    "categorize.get_non_numerical_column()"
   ]
  },
  {
   "cell_type": "code",
   "execution_count": 62,
   "metadata": {},
   "outputs": [
    {
     "data": {
      "text/plain": [
       "{'binary': [],\n",
       " 'categorical': ['SEX'],\n",
       " 'numerical': ['VISCERA_WT',\n",
       "  'WHOLE_WT',\n",
       "  'SHUCKED_WT',\n",
       "  'DIAMETER',\n",
       "  'HEIGHT',\n",
       "  'RINGS',\n",
       "  'LENGTH',\n",
       "  'SHELL_WT']}"
      ]
     },
     "execution_count": 62,
     "metadata": {},
     "output_type": "execute_result"
    }
   ],
   "source": [
    "categorize.get_df_column_type()"
   ]
  },
  {
   "cell_type": "code",
   "execution_count": 56,
   "metadata": {},
   "outputs": [
    {
     "data": {
      "text/html": [
       "<div>\n",
       "<style scoped>\n",
       "    .dataframe tbody tr th:only-of-type {\n",
       "        vertical-align: middle;\n",
       "    }\n",
       "\n",
       "    .dataframe tbody tr th {\n",
       "        vertical-align: top;\n",
       "    }\n",
       "\n",
       "    .dataframe thead th {\n",
       "        text-align: right;\n",
       "    }\n",
       "</style>\n",
       "<table border=\"1\" class=\"dataframe\">\n",
       "  <thead>\n",
       "    <tr style=\"text-align: right;\">\n",
       "      <th></th>\n",
       "      <th>lower</th>\n",
       "      <th>low</th>\n",
       "      <th>mid</th>\n",
       "      <th>high</th>\n",
       "      <th>higher</th>\n",
       "    </tr>\n",
       "  </thead>\n",
       "  <tbody>\n",
       "    <tr>\n",
       "      <th>RINGS</th>\n",
       "      <td>1.403948</td>\n",
       "      <td>0.106838</td>\n",
       "      <td>-0.548341</td>\n",
       "      <td>-0.657375</td>\n",
       "      <td>-0.676621</td>\n",
       "    </tr>\n",
       "  </tbody>\n",
       "</table>\n",
       "</div>"
      ],
      "text/plain": [
       "          lower       low       mid      high    higher\n",
       "RINGS  1.403948  0.106838 -0.548341 -0.657375 -0.676621"
      ]
     },
     "execution_count": 56,
     "metadata": {},
     "output_type": "execute_result"
    }
   ],
   "source": [
    "categorize.get_likelihood('RINGS')"
   ]
  },
  {
   "cell_type": "code",
   "execution_count": 57,
   "metadata": {},
   "outputs": [
    {
     "data": {
      "text/html": [
       "<div>\n",
       "<style scoped>\n",
       "    .dataframe tbody tr th:only-of-type {\n",
       "        vertical-align: middle;\n",
       "    }\n",
       "\n",
       "    .dataframe tbody tr th {\n",
       "        vertical-align: top;\n",
       "    }\n",
       "\n",
       "    .dataframe thead th {\n",
       "        text-align: right;\n",
       "    }\n",
       "</style>\n",
       "<table border=\"1\" class=\"dataframe\">\n",
       "  <thead>\n",
       "    <tr style=\"text-align: right;\">\n",
       "      <th></th>\n",
       "      <th>lower</th>\n",
       "      <th>low</th>\n",
       "      <th>mid</th>\n",
       "      <th>high</th>\n",
       "      <th>higher</th>\n",
       "    </tr>\n",
       "  </thead>\n",
       "  <tbody>\n",
       "    <tr>\n",
       "      <th>DIAMETER</th>\n",
       "      <td>1.301028</td>\n",
       "      <td>0.480344</td>\n",
       "      <td>-0.185638</td>\n",
       "      <td>-0.748053</td>\n",
       "      <td>-0.948716</td>\n",
       "    </tr>\n",
       "  </tbody>\n",
       "</table>\n",
       "</div>"
      ],
      "text/plain": [
       "             lower       low       mid      high    higher\n",
       "DIAMETER  1.301028  0.480344 -0.185638 -0.748053 -0.948716"
      ]
     },
     "execution_count": 57,
     "metadata": {},
     "output_type": "execute_result"
    }
   ],
   "source": [
    "categorize.get_likelihood('DIAMETER')"
   ]
  },
  {
   "cell_type": "code",
   "execution_count": 65,
   "metadata": {},
   "outputs": [
    {
     "data": {
      "text/html": [
       "<div>\n",
       "<style scoped>\n",
       "    .dataframe tbody tr th:only-of-type {\n",
       "        vertical-align: middle;\n",
       "    }\n",
       "\n",
       "    .dataframe tbody tr th {\n",
       "        vertical-align: top;\n",
       "    }\n",
       "\n",
       "    .dataframe thead th {\n",
       "        text-align: right;\n",
       "    }\n",
       "</style>\n",
       "<table border=\"1\" class=\"dataframe\">\n",
       "  <thead>\n",
       "    <tr style=\"text-align: right;\">\n",
       "      <th></th>\n",
       "      <th>SEX</th>\n",
       "      <th>LENGTH</th>\n",
       "      <th>DIAMETER</th>\n",
       "      <th>HEIGHT</th>\n",
       "      <th>WHOLE_WT</th>\n",
       "      <th>SHUCKED_WT</th>\n",
       "      <th>VISCERA_WT</th>\n",
       "      <th>SHELL_WT</th>\n",
       "      <th>RINGS</th>\n",
       "    </tr>\n",
       "  </thead>\n",
       "  <tbody>\n",
       "    <tr>\n",
       "      <th>0</th>\n",
       "      <td>M</td>\n",
       "      <td>low</td>\n",
       "      <td>low</td>\n",
       "      <td>lower</td>\n",
       "      <td>low</td>\n",
       "      <td>low</td>\n",
       "      <td>low</td>\n",
       "      <td>low</td>\n",
       "      <td>higher</td>\n",
       "    </tr>\n",
       "    <tr>\n",
       "      <th>1</th>\n",
       "      <td>M</td>\n",
       "      <td>lower</td>\n",
       "      <td>lower</td>\n",
       "      <td>lower</td>\n",
       "      <td>lower</td>\n",
       "      <td>lower</td>\n",
       "      <td>lower</td>\n",
       "      <td>lower</td>\n",
       "      <td>lower</td>\n",
       "    </tr>\n",
       "    <tr>\n",
       "      <th>2</th>\n",
       "      <td>F</td>\n",
       "      <td>mid</td>\n",
       "      <td>mid</td>\n",
       "      <td>mid</td>\n",
       "      <td>mid</td>\n",
       "      <td>low</td>\n",
       "      <td>mid</td>\n",
       "      <td>mid</td>\n",
       "      <td>low</td>\n",
       "    </tr>\n",
       "    <tr>\n",
       "      <th>3</th>\n",
       "      <td>M</td>\n",
       "      <td>low</td>\n",
       "      <td>low</td>\n",
       "      <td>low</td>\n",
       "      <td>low</td>\n",
       "      <td>low</td>\n",
       "      <td>low</td>\n",
       "      <td>low</td>\n",
       "      <td>mid</td>\n",
       "    </tr>\n",
       "    <tr>\n",
       "      <th>4</th>\n",
       "      <td>I</td>\n",
       "      <td>lower</td>\n",
       "      <td>lower</td>\n",
       "      <td>lower</td>\n",
       "      <td>lower</td>\n",
       "      <td>lower</td>\n",
       "      <td>lower</td>\n",
       "      <td>lower</td>\n",
       "      <td>lower</td>\n",
       "    </tr>\n",
       "    <tr>\n",
       "      <th>...</th>\n",
       "      <td>...</td>\n",
       "      <td>...</td>\n",
       "      <td>...</td>\n",
       "      <td>...</td>\n",
       "      <td>...</td>\n",
       "      <td>...</td>\n",
       "      <td>...</td>\n",
       "      <td>...</td>\n",
       "      <td>...</td>\n",
       "    </tr>\n",
       "    <tr>\n",
       "      <th>4172</th>\n",
       "      <td>F</td>\n",
       "      <td>mid</td>\n",
       "      <td>mid</td>\n",
       "      <td>high</td>\n",
       "      <td>mid</td>\n",
       "      <td>mid</td>\n",
       "      <td>high</td>\n",
       "      <td>mid</td>\n",
       "      <td>high</td>\n",
       "    </tr>\n",
       "    <tr>\n",
       "      <th>4173</th>\n",
       "      <td>M</td>\n",
       "      <td>high</td>\n",
       "      <td>mid</td>\n",
       "      <td>mid</td>\n",
       "      <td>high</td>\n",
       "      <td>high</td>\n",
       "      <td>high</td>\n",
       "      <td>mid</td>\n",
       "      <td>mid</td>\n",
       "    </tr>\n",
       "    <tr>\n",
       "      <th>4174</th>\n",
       "      <td>M</td>\n",
       "      <td>high</td>\n",
       "      <td>high</td>\n",
       "      <td>higher</td>\n",
       "      <td>high</td>\n",
       "      <td>high</td>\n",
       "      <td>higher</td>\n",
       "      <td>high</td>\n",
       "      <td>low</td>\n",
       "    </tr>\n",
       "    <tr>\n",
       "      <th>4175</th>\n",
       "      <td>F</td>\n",
       "      <td>high</td>\n",
       "      <td>high</td>\n",
       "      <td>mid</td>\n",
       "      <td>high</td>\n",
       "      <td>high</td>\n",
       "      <td>high</td>\n",
       "      <td>high</td>\n",
       "      <td>mid</td>\n",
       "    </tr>\n",
       "    <tr>\n",
       "      <th>4176</th>\n",
       "      <td>M</td>\n",
       "      <td>higher</td>\n",
       "      <td>higher</td>\n",
       "      <td>higher</td>\n",
       "      <td>higher</td>\n",
       "      <td>higher</td>\n",
       "      <td>higher</td>\n",
       "      <td>higher</td>\n",
       "      <td>high</td>\n",
       "    </tr>\n",
       "  </tbody>\n",
       "</table>\n",
       "<p>4177 rows × 9 columns</p>\n",
       "</div>"
      ],
      "text/plain": [
       "     SEX  LENGTH DIAMETER  HEIGHT WHOLE_WT SHUCKED_WT VISCERA_WT SHELL_WT  \\\n",
       "0      M     low      low   lower      low        low        low      low   \n",
       "1      M   lower    lower   lower    lower      lower      lower    lower   \n",
       "2      F     mid      mid     mid      mid        low        mid      mid   \n",
       "3      M     low      low     low      low        low        low      low   \n",
       "4      I   lower    lower   lower    lower      lower      lower    lower   \n",
       "...   ..     ...      ...     ...      ...        ...        ...      ...   \n",
       "4172   F     mid      mid    high      mid        mid       high      mid   \n",
       "4173   M    high      mid     mid     high       high       high      mid   \n",
       "4174   M    high     high  higher     high       high     higher     high   \n",
       "4175   F    high     high     mid     high       high       high     high   \n",
       "4176   M  higher   higher  higher   higher     higher     higher   higher   \n",
       "\n",
       "       RINGS  \n",
       "0     higher  \n",
       "1      lower  \n",
       "2        low  \n",
       "3        mid  \n",
       "4      lower  \n",
       "...      ...  \n",
       "4172    high  \n",
       "4173     mid  \n",
       "4174     low  \n",
       "4175     mid  \n",
       "4176    high  \n",
       "\n",
       "[4177 rows x 9 columns]"
      ]
     },
     "execution_count": 65,
     "metadata": {},
     "output_type": "execute_result"
    }
   ],
   "source": [
    "categorize.categorize()"
   ]
  },
  {
   "cell_type": "code",
   "execution_count": 67,
   "metadata": {},
   "outputs": [
    {
     "data": {
      "text/html": [
       "<div>\n",
       "<style scoped>\n",
       "    .dataframe tbody tr th:only-of-type {\n",
       "        vertical-align: middle;\n",
       "    }\n",
       "\n",
       "    .dataframe tbody tr th {\n",
       "        vertical-align: top;\n",
       "    }\n",
       "\n",
       "    .dataframe thead th {\n",
       "        text-align: right;\n",
       "    }\n",
       "</style>\n",
       "<table border=\"1\" class=\"dataframe\">\n",
       "  <thead>\n",
       "    <tr style=\"text-align: right;\">\n",
       "      <th></th>\n",
       "      <th>lower</th>\n",
       "      <th>low</th>\n",
       "      <th>mid</th>\n",
       "      <th>high</th>\n",
       "      <th>higher</th>\n",
       "    </tr>\n",
       "    <tr>\n",
       "      <th>SEX</th>\n",
       "      <th></th>\n",
       "      <th></th>\n",
       "      <th></th>\n",
       "      <th></th>\n",
       "      <th></th>\n",
       "    </tr>\n",
       "  </thead>\n",
       "  <tbody>\n",
       "    <tr>\n",
       "      <th>F</th>\n",
       "      <td>58</td>\n",
       "      <td>198</td>\n",
       "      <td>274</td>\n",
       "      <td>372</td>\n",
       "      <td>405</td>\n",
       "    </tr>\n",
       "    <tr>\n",
       "      <th>I</th>\n",
       "      <td>635</td>\n",
       "      <td>423</td>\n",
       "      <td>213</td>\n",
       "      <td>55</td>\n",
       "      <td>16</td>\n",
       "    </tr>\n",
       "    <tr>\n",
       "      <th>M</th>\n",
       "      <td>144</td>\n",
       "      <td>213</td>\n",
       "      <td>350</td>\n",
       "      <td>406</td>\n",
       "      <td>415</td>\n",
       "    </tr>\n",
       "  </tbody>\n",
       "</table>\n",
       "</div>"
      ],
      "text/plain": [
       "     lower  low  mid  high  higher\n",
       "SEX                               \n",
       "F       58  198  274   372     405\n",
       "I      635  423  213    55      16\n",
       "M      144  213  350   406     415"
      ]
     },
     "execution_count": 67,
     "metadata": {},
     "output_type": "execute_result"
    }
   ],
   "source": [
    "categorize.get_crosstab('WHOLE_WT', categorical=False)"
   ]
  },
  {
   "cell_type": "code",
   "execution_count": 88,
   "metadata": {},
   "outputs": [],
   "source": [
    "reload(ct)\n",
    "categorize = ct.Categorizer(df, 'SEX')"
   ]
  },
  {
   "cell_type": "code",
   "execution_count": 89,
   "metadata": {},
   "outputs": [],
   "source": [
    "results = categorize.crosstab_all()"
   ]
  },
  {
   "cell_type": "code",
   "execution_count": 90,
   "metadata": {},
   "outputs": [
    {
     "data": {
      "text/plain": [
       "defaultdict(None,\n",
       "            {'VISCERA_WT': '{\"lower\":{\"F\":55,\"I\":639,\"M\":146},\"low\":{\"F\":195,\"I\":429,\"M\":212},\"mid\":{\"F\":286,\"I\":197,\"M\":351},\"high\":{\"F\":359,\"I\":62,\"M\":413},\"higher\":{\"F\":412,\"I\":15,\"M\":406}}',\n",
       "             'WHOLE_WT': '{\"lower\":{\"F\":58,\"I\":635,\"M\":144},\"low\":{\"F\":198,\"I\":423,\"M\":213},\"mid\":{\"F\":274,\"I\":213,\"M\":350},\"high\":{\"F\":372,\"I\":55,\"M\":406},\"higher\":{\"F\":405,\"I\":16,\"M\":415}}',\n",
       "             'SHUCKED_WT': '{\"lower\":{\"F\":73,\"I\":609,\"M\":156},\"low\":{\"F\":205,\"I\":411,\"M\":222},\"mid\":{\"F\":278,\"I\":233,\"M\":319},\"high\":{\"F\":366,\"I\":69,\"M\":400},\"higher\":{\"F\":385,\"I\":20,\"M\":431}}',\n",
       "             'DIAMETER': '{\"lower\":{\"F\":69,\"I\":638,\"M\":156},\"low\":{\"F\":196,\"I\":390,\"M\":234},\"mid\":{\"F\":308,\"I\":236,\"M\":358},\"high\":{\"F\":341,\"I\":65,\"M\":397},\"higher\":{\"F\":393,\"I\":13,\"M\":383}}',\n",
       "             'HEIGHT': '{\"lower\":{\"F\":62,\"I\":664,\"M\":162},\"low\":{\"F\":197,\"I\":368,\"M\":243},\"mid\":{\"F\":298,\"I\":215,\"M\":345},\"high\":{\"F\":445,\"I\":74,\"M\":467},\"higher\":{\"F\":305,\"I\":21,\"M\":311}}',\n",
       "             'RINGS': '{\"lower\":{\"F\":64,\"I\":648,\"M\":127},\"low\":{\"F\":360,\"I\":447,\"M\":450},\"mid\":{\"F\":248,\"I\":92,\"M\":294},\"high\":{\"F\":328,\"I\":83,\"M\":343},\"higher\":{\"F\":307,\"I\":72,\"M\":314}}',\n",
       "             'LENGTH': '{\"lower\":{\"F\":69,\"I\":624,\"M\":160},\"low\":{\"F\":212,\"I\":385,\"M\":244},\"mid\":{\"F\":293,\"I\":245,\"M\":349},\"high\":{\"F\":329,\"I\":69,\"M\":368},\"higher\":{\"F\":404,\"I\":19,\"M\":407}}',\n",
       "             'SHELL_WT': '{\"lower\":{\"F\":51,\"I\":645,\"M\":140},\"low\":{\"F\":198,\"I\":405,\"M\":233},\"mid\":{\"F\":292,\"I\":209,\"M\":355},\"high\":{\"F\":354,\"I\":64,\"M\":395},\"higher\":{\"F\":412,\"I\":19,\"M\":405}}'})"
      ]
     },
     "execution_count": 90,
     "metadata": {},
     "output_type": "execute_result"
    }
   ],
   "source": [
    "results"
   ]
  },
  {
   "cell_type": "code",
   "execution_count": 91,
   "metadata": {},
   "outputs": [
    {
     "data": {
      "text/plain": [
       "dict_keys(['VISCERA_WT', 'WHOLE_WT', 'SHUCKED_WT', 'DIAMETER', 'HEIGHT', 'RINGS', 'LENGTH', 'SHELL_WT'])"
      ]
     },
     "execution_count": 91,
     "metadata": {},
     "output_type": "execute_result"
    }
   ],
   "source": [
    "results.keys()"
   ]
  },
  {
   "cell_type": "code",
   "execution_count": 92,
   "metadata": {},
   "outputs": [
    {
     "data": {
      "text/plain": [
       "'{\"lower\":{\"F\":58,\"I\":635,\"M\":144},\"low\":{\"F\":198,\"I\":423,\"M\":213},\"mid\":{\"F\":274,\"I\":213,\"M\":350},\"high\":{\"F\":372,\"I\":55,\"M\":406},\"higher\":{\"F\":405,\"I\":16,\"M\":415}}'"
      ]
     },
     "execution_count": 92,
     "metadata": {},
     "output_type": "execute_result"
    }
   ],
   "source": [
    "results['WHOLE_WT']"
   ]
  },
  {
   "cell_type": "code",
   "execution_count": 93,
   "metadata": {},
   "outputs": [
    {
     "data": {
      "text/html": [
       "<div>\n",
       "<style scoped>\n",
       "    .dataframe tbody tr th:only-of-type {\n",
       "        vertical-align: middle;\n",
       "    }\n",
       "\n",
       "    .dataframe tbody tr th {\n",
       "        vertical-align: top;\n",
       "    }\n",
       "\n",
       "    .dataframe thead th {\n",
       "        text-align: right;\n",
       "    }\n",
       "</style>\n",
       "<table border=\"1\" class=\"dataframe\">\n",
       "  <thead>\n",
       "    <tr style=\"text-align: right;\">\n",
       "      <th></th>\n",
       "      <th>lower</th>\n",
       "      <th>low</th>\n",
       "      <th>mid</th>\n",
       "      <th>high</th>\n",
       "      <th>higher</th>\n",
       "    </tr>\n",
       "  </thead>\n",
       "  <tbody>\n",
       "    <tr>\n",
       "      <th>F</th>\n",
       "      <td>58</td>\n",
       "      <td>198</td>\n",
       "      <td>274</td>\n",
       "      <td>372</td>\n",
       "      <td>405</td>\n",
       "    </tr>\n",
       "    <tr>\n",
       "      <th>I</th>\n",
       "      <td>635</td>\n",
       "      <td>423</td>\n",
       "      <td>213</td>\n",
       "      <td>55</td>\n",
       "      <td>16</td>\n",
       "    </tr>\n",
       "    <tr>\n",
       "      <th>M</th>\n",
       "      <td>144</td>\n",
       "      <td>213</td>\n",
       "      <td>350</td>\n",
       "      <td>406</td>\n",
       "      <td>415</td>\n",
       "    </tr>\n",
       "  </tbody>\n",
       "</table>\n",
       "</div>"
      ],
      "text/plain": [
       "   lower  low  mid  high  higher\n",
       "F     58  198  274   372     405\n",
       "I    635  423  213    55      16\n",
       "M    144  213  350   406     415"
      ]
     },
     "execution_count": 93,
     "metadata": {},
     "output_type": "execute_result"
    }
   ],
   "source": [
    "pd.read_json(results['WHOLE_WT'])"
   ]
  },
  {
   "cell_type": "code",
   "execution_count": null,
   "metadata": {},
   "outputs": [],
   "source": []
  },
  {
   "cell_type": "code",
   "execution_count": null,
   "metadata": {},
   "outputs": [],
   "source": []
  },
  {
   "cell_type": "markdown",
   "metadata": {},
   "source": [
    "### DEBUG"
   ]
  },
  {
   "cell_type": "code",
   "execution_count": null,
   "metadata": {},
   "outputs": [],
   "source": []
  }
 ],
 "metadata": {
  "kernelspec": {
   "display_name": "Python 3",
   "language": "python",
   "name": "python3"
  },
  "language_info": {
   "codemirror_mode": {
    "name": "ipython",
    "version": 3
   },
   "file_extension": ".py",
   "mimetype": "text/x-python",
   "name": "python",
   "nbconvert_exporter": "python",
   "pygments_lexer": "ipython3",
   "version": "3.6.9"
  }
 },
 "nbformat": 4,
 "nbformat_minor": 4
}
