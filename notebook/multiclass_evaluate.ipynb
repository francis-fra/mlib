{
 "cells": [
  {
   "cell_type": "code",
   "execution_count": 1,
   "metadata": {},
   "outputs": [],
   "source": [
    "import pandas as pd\n",
    "import sys\n",
    "mylib = '/home/fra/Project/pyProj/mlib'"
   ]
  },
  {
   "cell_type": "code",
   "execution_count": 2,
   "metadata": {},
   "outputs": [],
   "source": [
    "sys.path.append(mylib)"
   ]
  },
  {
   "cell_type": "code",
   "execution_count": 3,
   "metadata": {},
   "outputs": [],
   "source": [
    "data_folder = \"../data/\"\n",
    "train_filename = 'abalone.csv'"
   ]
  },
  {
   "cell_type": "code",
   "execution_count": 4,
   "metadata": {},
   "outputs": [
    {
     "data": {
      "text/html": [
       "<div>\n",
       "<style scoped>\n",
       "    .dataframe tbody tr th:only-of-type {\n",
       "        vertical-align: middle;\n",
       "    }\n",
       "\n",
       "    .dataframe tbody tr th {\n",
       "        vertical-align: top;\n",
       "    }\n",
       "\n",
       "    .dataframe thead th {\n",
       "        text-align: right;\n",
       "    }\n",
       "</style>\n",
       "<table border=\"1\" class=\"dataframe\">\n",
       "  <thead>\n",
       "    <tr style=\"text-align: right;\">\n",
       "      <th></th>\n",
       "      <th>sex</th>\n",
       "      <th>length</th>\n",
       "      <th>diameter</th>\n",
       "      <th>height</th>\n",
       "      <th>whole_wt</th>\n",
       "      <th>shucked_wt</th>\n",
       "      <th>viscera_wt</th>\n",
       "      <th>shell_wt</th>\n",
       "      <th>rings</th>\n",
       "    </tr>\n",
       "  </thead>\n",
       "  <tbody>\n",
       "    <tr>\n",
       "      <th>0</th>\n",
       "      <td>M</td>\n",
       "      <td>0.455</td>\n",
       "      <td>0.365</td>\n",
       "      <td>0.095</td>\n",
       "      <td>0.5140</td>\n",
       "      <td>0.2245</td>\n",
       "      <td>0.1010</td>\n",
       "      <td>0.150</td>\n",
       "      <td>15</td>\n",
       "    </tr>\n",
       "    <tr>\n",
       "      <th>1</th>\n",
       "      <td>M</td>\n",
       "      <td>0.350</td>\n",
       "      <td>0.265</td>\n",
       "      <td>0.090</td>\n",
       "      <td>0.2255</td>\n",
       "      <td>0.0995</td>\n",
       "      <td>0.0485</td>\n",
       "      <td>0.070</td>\n",
       "      <td>7</td>\n",
       "    </tr>\n",
       "    <tr>\n",
       "      <th>2</th>\n",
       "      <td>F</td>\n",
       "      <td>0.530</td>\n",
       "      <td>0.420</td>\n",
       "      <td>0.135</td>\n",
       "      <td>0.6770</td>\n",
       "      <td>0.2565</td>\n",
       "      <td>0.1415</td>\n",
       "      <td>0.210</td>\n",
       "      <td>9</td>\n",
       "    </tr>\n",
       "    <tr>\n",
       "      <th>3</th>\n",
       "      <td>M</td>\n",
       "      <td>0.440</td>\n",
       "      <td>0.365</td>\n",
       "      <td>0.125</td>\n",
       "      <td>0.5160</td>\n",
       "      <td>0.2155</td>\n",
       "      <td>0.1140</td>\n",
       "      <td>0.155</td>\n",
       "      <td>10</td>\n",
       "    </tr>\n",
       "    <tr>\n",
       "      <th>4</th>\n",
       "      <td>I</td>\n",
       "      <td>0.330</td>\n",
       "      <td>0.255</td>\n",
       "      <td>0.080</td>\n",
       "      <td>0.2050</td>\n",
       "      <td>0.0895</td>\n",
       "      <td>0.0395</td>\n",
       "      <td>0.055</td>\n",
       "      <td>7</td>\n",
       "    </tr>\n",
       "  </tbody>\n",
       "</table>\n",
       "</div>"
      ],
      "text/plain": [
       "  sex  length  diameter  height  whole_wt  shucked_wt  viscera_wt  shell_wt  \\\n",
       "0   M   0.455     0.365   0.095    0.5140      0.2245      0.1010     0.150   \n",
       "1   M   0.350     0.265   0.090    0.2255      0.0995      0.0485     0.070   \n",
       "2   F   0.530     0.420   0.135    0.6770      0.2565      0.1415     0.210   \n",
       "3   M   0.440     0.365   0.125    0.5160      0.2155      0.1140     0.155   \n",
       "4   I   0.330     0.255   0.080    0.2050      0.0895      0.0395     0.055   \n",
       "\n",
       "   rings  \n",
       "0     15  \n",
       "1      7  \n",
       "2      9  \n",
       "3     10  \n",
       "4      7  "
      ]
     },
     "execution_count": 4,
     "metadata": {},
     "output_type": "execute_result"
    }
   ],
   "source": [
    "df = pd.read_csv(data_folder + train_filename, skipinitialspace=True)\n",
    "df.head()"
   ]
  },
  {
   "cell_type": "code",
   "execution_count": 24,
   "metadata": {},
   "outputs": [],
   "source": [
    "mapping = {'M':0, 'F':1, 'I':2}"
   ]
  },
  {
   "cell_type": "code",
   "execution_count": 6,
   "metadata": {},
   "outputs": [],
   "source": [
    "import utility as util\n",
    "import explore as ex\n",
    "import pipeline as pl\n",
    "import transform as trf\n",
    "from imp import reload"
   ]
  },
  {
   "cell_type": "code",
   "execution_count": 9,
   "metadata": {},
   "outputs": [],
   "source": [
    "target_col = 'SEX'\n",
    "exclusions=[]"
   ]
  },
  {
   "cell_type": "code",
   "execution_count": 8,
   "metadata": {},
   "outputs": [
    {
     "data": {
      "text/plain": [
       "<module 'pipeline' from '/home/fra/Project/pyProj/mlib/pipeline.py'>"
      ]
     },
     "execution_count": 8,
     "metadata": {},
     "output_type": "execute_result"
    }
   ],
   "source": [
    "reload(pl)"
   ]
  },
  {
   "cell_type": "code",
   "execution_count": 13,
   "metadata": {},
   "outputs": [],
   "source": [
    "from sklearn.preprocessing import StandardScaler, OrdinalEncoder"
   ]
  },
  {
   "cell_type": "code",
   "execution_count": 25,
   "metadata": {},
   "outputs": [],
   "source": [
    "ntransformer = StandardScaler\n",
    "ctransformer = OrdinalEncoder\n",
    "(X, y, features, py, px) = pl.standard_feature_preprocess(df, target_col, ntransformer, ctransformer, exclusions, mapping)"
   ]
  },
  {
   "cell_type": "code",
   "execution_count": 26,
   "metadata": {},
   "outputs": [
    {
     "data": {
      "text/plain": [
       "((4177, 8), (4177,), (8,), (4177, 9))"
      ]
     },
     "execution_count": 26,
     "metadata": {},
     "output_type": "execute_result"
    }
   ],
   "source": [
    "X.shape, y.shape, features.shape, df.shape"
   ]
  },
  {
   "cell_type": "code",
   "execution_count": 27,
   "metadata": {},
   "outputs": [
    {
     "data": {
      "text/plain": [
       "0    1528\n",
       "2    1342\n",
       "1    1307\n",
       "dtype: int64"
      ]
     },
     "execution_count": 27,
     "metadata": {},
     "output_type": "execute_result"
    }
   ],
   "source": [
    "pd.Series(y).value_counts()"
   ]
  },
  {
   "cell_type": "code",
   "execution_count": 28,
   "metadata": {},
   "outputs": [
    {
     "data": {
      "text/plain": [
       "{'sex': [('F', 1307), ('I', 1342), ('M', 1528)]}"
      ]
     },
     "execution_count": 28,
     "metadata": {},
     "output_type": "execute_result"
    }
   ],
   "source": [
    "ex.count_levels(df, 'sex')"
   ]
  },
  {
   "cell_type": "markdown",
   "metadata": {},
   "source": [
    "### OUt of sample: standard"
   ]
  },
  {
   "cell_type": "code",
   "execution_count": 29,
   "metadata": {},
   "outputs": [],
   "source": [
    "from sklearn.model_selection import train_test_split\n",
    "(traindf, testdf) = train_test_split(df, test_size=0.3)"
   ]
  },
  {
   "cell_type": "code",
   "execution_count": 30,
   "metadata": {},
   "outputs": [],
   "source": [
    "(dX, dy, dfeatures, dpy, dpx) = pl.standard_feature_preprocess(traindf, target_col, ntransformer, ctransformer, exclusions, mapping)"
   ]
  },
  {
   "cell_type": "code",
   "execution_count": 31,
   "metadata": {},
   "outputs": [],
   "source": [
    "import xgboost as xgb\n",
    "model = xgb.XGBClassifier().fit(dX, dy)"
   ]
  },
  {
   "cell_type": "code",
   "execution_count": 32,
   "metadata": {},
   "outputs": [],
   "source": [
    "ytest = dpy.transform(testdf)\n",
    "Xtest = dpx.transform(testdf)"
   ]
  },
  {
   "cell_type": "code",
   "execution_count": 33,
   "metadata": {},
   "outputs": [],
   "source": [
    "probas = model.predict_proba(Xtest)"
   ]
  },
  {
   "cell_type": "code",
   "execution_count": 38,
   "metadata": {},
   "outputs": [],
   "source": [
    "from sklearn.metrics import roc_curve, auc"
   ]
  },
  {
   "cell_type": "code",
   "execution_count": 37,
   "metadata": {},
   "outputs": [],
   "source": [
    "male_idx = 0\n",
    "fpr, tpr, thresholds = roc_curve(ytest, probas[:, male_idx], pos_label=male_idx)"
   ]
  },
  {
   "cell_type": "code",
   "execution_count": 39,
   "metadata": {},
   "outputs": [
    {
     "data": {
      "text/plain": [
       "0.6504884932696484"
      ]
     },
     "execution_count": 39,
     "metadata": {},
     "output_type": "execute_result"
    }
   ],
   "source": [
    "auc(fpr, tpr)"
   ]
  },
  {
   "cell_type": "code",
   "execution_count": 40,
   "metadata": {},
   "outputs": [
    {
     "data": {
      "text/plain": [
       "0.6968191778604468"
      ]
     },
     "execution_count": 40,
     "metadata": {},
     "output_type": "execute_result"
    }
   ],
   "source": [
    "female_idx = 1\n",
    "fpr, tpr, thresholds = roc_curve(ytest, probas[:, female_idx], pos_label=female_idx)\n",
    "auc(fpr, tpr)"
   ]
  },
  {
   "cell_type": "code",
   "execution_count": 42,
   "metadata": {},
   "outputs": [
    {
     "data": {
      "text/plain": [
       "0.8760806073912522"
      ]
     },
     "execution_count": 42,
     "metadata": {},
     "output_type": "execute_result"
    }
   ],
   "source": [
    "child_idx = 2\n",
    "fpr, tpr, thresholds = roc_curve(ytest, probas[:, child_idx], pos_label=child_idx)\n",
    "auc(fpr, tpr)"
   ]
  },
  {
   "cell_type": "markdown",
   "metadata": {},
   "source": [
    "### Multiclass evaluate"
   ]
  },
  {
   "cell_type": "code",
   "execution_count": 43,
   "metadata": {},
   "outputs": [
    {
     "name": "stderr",
     "output_type": "stream",
     "text": [
      "/home/fra/Project/pyProj/pyml/pymlenv/lib/python3.6/site-packages/sklearn/externals/six.py:31: FutureWarning: The module is deprecated in version 0.21 and will be removed in version 0.23 since we've dropped support for Python 2.7. Please rely on the official version of six (https://pypi.org/project/six/).\n",
      "  \"(https://pypi.org/project/six/).\", FutureWarning)\n"
     ]
    }
   ],
   "source": [
    "import evaluate as ev"
   ]
  },
  {
   "cell_type": "code",
   "execution_count": 44,
   "metadata": {},
   "outputs": [],
   "source": [
    "estimator = xgb.XGBClassifier()"
   ]
  },
  {
   "cell_type": "code",
   "execution_count": 45,
   "metadata": {},
   "outputs": [],
   "source": [
    "id =''"
   ]
  },
  {
   "cell_type": "code",
   "execution_count": 49,
   "metadata": {},
   "outputs": [
    {
     "data": {
      "text/html": [
       "<div>\n",
       "<style scoped>\n",
       "    .dataframe tbody tr th:only-of-type {\n",
       "        vertical-align: middle;\n",
       "    }\n",
       "\n",
       "    .dataframe tbody tr th {\n",
       "        vertical-align: top;\n",
       "    }\n",
       "\n",
       "    .dataframe thead th {\n",
       "        text-align: right;\n",
       "    }\n",
       "</style>\n",
       "<table border=\"1\" class=\"dataframe\">\n",
       "  <thead>\n",
       "    <tr style=\"text-align: right;\">\n",
       "      <th></th>\n",
       "      <th>LENGTH</th>\n",
       "      <th>DIAMETER</th>\n",
       "      <th>HEIGHT</th>\n",
       "      <th>WHOLE_WT</th>\n",
       "      <th>SHUCKED_WT</th>\n",
       "      <th>VISCERA_WT</th>\n",
       "      <th>SHELL_WT</th>\n",
       "      <th>RINGS</th>\n",
       "    </tr>\n",
       "  </thead>\n",
       "  <tbody>\n",
       "    <tr>\n",
       "      <th>744</th>\n",
       "      <td>0.064195</td>\n",
       "      <td>0.081565</td>\n",
       "      <td>-0.196752</td>\n",
       "      <td>0.045911</td>\n",
       "      <td>-0.363613</td>\n",
       "      <td>0.142791</td>\n",
       "      <td>0.209734</td>\n",
       "      <td>3.106146</td>\n",
       "    </tr>\n",
       "    <tr>\n",
       "      <th>1567</th>\n",
       "      <td>-0.468650</td>\n",
       "      <td>-0.617289</td>\n",
       "      <td>-0.605749</td>\n",
       "      <td>-0.887699</td>\n",
       "      <td>-0.788809</td>\n",
       "      <td>-0.972586</td>\n",
       "      <td>-0.859174</td>\n",
       "      <td>-0.597307</td>\n",
       "    </tr>\n",
       "    <tr>\n",
       "      <th>1580</th>\n",
       "      <td>-0.181733</td>\n",
       "      <td>-0.068190</td>\n",
       "      <td>-0.401251</td>\n",
       "      <td>-0.424529</td>\n",
       "      <td>-0.427967</td>\n",
       "      <td>-0.331936</td>\n",
       "      <td>-0.317348</td>\n",
       "      <td>-0.597307</td>\n",
       "    </tr>\n",
       "    <tr>\n",
       "      <th>1319</th>\n",
       "      <td>0.269136</td>\n",
       "      <td>0.181401</td>\n",
       "      <td>0.109995</td>\n",
       "      <td>-0.062093</td>\n",
       "      <td>-0.025755</td>\n",
       "      <td>-0.023133</td>\n",
       "      <td>-0.085137</td>\n",
       "      <td>-0.288686</td>\n",
       "    </tr>\n",
       "    <tr>\n",
       "      <th>2500</th>\n",
       "      <td>-0.345686</td>\n",
       "      <td>-0.168026</td>\n",
       "      <td>-0.299001</td>\n",
       "      <td>-0.269793</td>\n",
       "      <td>-0.621029</td>\n",
       "      <td>-0.221320</td>\n",
       "      <td>-0.269432</td>\n",
       "      <td>0.637177</td>\n",
       "    </tr>\n",
       "    <tr>\n",
       "      <th>...</th>\n",
       "      <td>...</td>\n",
       "      <td>...</td>\n",
       "      <td>...</td>\n",
       "      <td>...</td>\n",
       "      <td>...</td>\n",
       "      <td>...</td>\n",
       "      <td>...</td>\n",
       "      <td>...</td>\n",
       "    </tr>\n",
       "    <tr>\n",
       "      <th>1104</th>\n",
       "      <td>-0.099757</td>\n",
       "      <td>-0.018271</td>\n",
       "      <td>-0.299001</td>\n",
       "      <td>-0.292640</td>\n",
       "      <td>-0.034948</td>\n",
       "      <td>-0.364199</td>\n",
       "      <td>-0.402124</td>\n",
       "      <td>-0.597307</td>\n",
       "    </tr>\n",
       "    <tr>\n",
       "      <th>2371</th>\n",
       "      <td>-2.804971</td>\n",
       "      <td>-2.813686</td>\n",
       "      <td>-1.832739</td>\n",
       "      <td>-1.656188</td>\n",
       "      <td>-1.588637</td>\n",
       "      <td>-1.599409</td>\n",
       "      <td>-1.670070</td>\n",
       "      <td>-2.140413</td>\n",
       "    </tr>\n",
       "    <tr>\n",
       "      <th>3113</th>\n",
       "      <td>-0.796555</td>\n",
       "      <td>-0.816961</td>\n",
       "      <td>-0.707998</td>\n",
       "      <td>-0.878353</td>\n",
       "      <td>-0.793406</td>\n",
       "      <td>-0.903451</td>\n",
       "      <td>-0.877604</td>\n",
       "      <td>-0.905929</td>\n",
       "    </tr>\n",
       "    <tr>\n",
       "      <th>4026</th>\n",
       "      <td>-1.288412</td>\n",
       "      <td>-1.266224</td>\n",
       "      <td>-1.014746</td>\n",
       "      <td>-1.296867</td>\n",
       "      <td>-1.230093</td>\n",
       "      <td>-1.318261</td>\n",
       "      <td>-1.297795</td>\n",
       "      <td>-0.905929</td>\n",
       "    </tr>\n",
       "    <tr>\n",
       "      <th>1129</th>\n",
       "      <td>0.310124</td>\n",
       "      <td>0.081565</td>\n",
       "      <td>0.109995</td>\n",
       "      <td>0.065642</td>\n",
       "      <td>0.348877</td>\n",
       "      <td>0.087483</td>\n",
       "      <td>-0.232573</td>\n",
       "      <td>-0.597307</td>\n",
       "    </tr>\n",
       "  </tbody>\n",
       "</table>\n",
       "<p>1254 rows × 8 columns</p>\n",
       "</div>"
      ],
      "text/plain": [
       "        LENGTH  DIAMETER    HEIGHT  WHOLE_WT  SHUCKED_WT  VISCERA_WT  \\\n",
       "744   0.064195  0.081565 -0.196752  0.045911   -0.363613    0.142791   \n",
       "1567 -0.468650 -0.617289 -0.605749 -0.887699   -0.788809   -0.972586   \n",
       "1580 -0.181733 -0.068190 -0.401251 -0.424529   -0.427967   -0.331936   \n",
       "1319  0.269136  0.181401  0.109995 -0.062093   -0.025755   -0.023133   \n",
       "2500 -0.345686 -0.168026 -0.299001 -0.269793   -0.621029   -0.221320   \n",
       "...        ...       ...       ...       ...         ...         ...   \n",
       "1104 -0.099757 -0.018271 -0.299001 -0.292640   -0.034948   -0.364199   \n",
       "2371 -2.804971 -2.813686 -1.832739 -1.656188   -1.588637   -1.599409   \n",
       "3113 -0.796555 -0.816961 -0.707998 -0.878353   -0.793406   -0.903451   \n",
       "4026 -1.288412 -1.266224 -1.014746 -1.296867   -1.230093   -1.318261   \n",
       "1129  0.310124  0.081565  0.109995  0.065642    0.348877    0.087483   \n",
       "\n",
       "      SHELL_WT     RINGS  \n",
       "744   0.209734  3.106146  \n",
       "1567 -0.859174 -0.597307  \n",
       "1580 -0.317348 -0.597307  \n",
       "1319 -0.085137 -0.288686  \n",
       "2500 -0.269432  0.637177  \n",
       "...        ...       ...  \n",
       "1104 -0.402124 -0.597307  \n",
       "2371 -1.670070 -2.140413  \n",
       "3113 -0.877604 -0.905929  \n",
       "4026 -1.297795 -0.905929  \n",
       "1129 -0.232573 -0.597307  \n",
       "\n",
       "[1254 rows x 8 columns]"
      ]
     },
     "execution_count": 49,
     "metadata": {},
     "output_type": "execute_result"
    }
   ],
   "source": [
    "Xtest"
   ]
  },
  {
   "cell_type": "code",
   "execution_count": 52,
   "metadata": {},
   "outputs": [
    {
     "data": {
      "text/plain": [
       "[('upper_case', UpperCaseColumn()),\n",
       " ('encoder', TargetEncoder(colname='SEX', mapping=None))]"
      ]
     },
     "execution_count": 52,
     "metadata": {},
     "output_type": "execute_result"
    }
   ],
   "source": [
    "dpy.steps"
   ]
  },
  {
   "cell_type": "code",
   "execution_count": 56,
   "metadata": {},
   "outputs": [],
   "source": [
    "# label encoder"
   ]
  },
  {
   "cell_type": "code",
   "execution_count": 55,
   "metadata": {},
   "outputs": [
    {
     "data": {
      "text/plain": [
       "LabelEncoder()"
      ]
     },
     "execution_count": 55,
     "metadata": {},
     "output_type": "execute_result"
    }
   ],
   "source": [
    "dpy.steps[1][1].encoder"
   ]
  },
  {
   "cell_type": "code",
   "execution_count": 61,
   "metadata": {},
   "outputs": [],
   "source": [
    "# evaluator = ev.MultiClassEvaluator(estimator, dX, dy, Xtest.to_numpy(), ytest, id, dfeatures, cv=3, target_f = 0, target_column = 'SEX', label_encoder = dpy.steps[1][1].encoder)"
   ]
  },
  {
   "cell_type": "code",
   "execution_count": null,
   "metadata": {},
   "outputs": [],
   "source": []
  }
 ],
 "metadata": {
  "kernelspec": {
   "display_name": "Python 3",
   "language": "python",
   "name": "python3"
  },
  "language_info": {
   "codemirror_mode": {
    "name": "ipython",
    "version": 3
   },
   "file_extension": ".py",
   "mimetype": "text/x-python",
   "name": "python",
   "nbconvert_exporter": "python",
   "pygments_lexer": "ipython3",
   "version": "3.6.9"
  }
 },
 "nbformat": 4,
 "nbformat_minor": 4
}
