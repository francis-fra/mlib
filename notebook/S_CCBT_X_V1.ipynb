{
 "cells": [
  {
   "cell_type": "code",
   "execution_count": 1,
   "metadata": {},
   "outputs": [],
   "source": [
    "import wpy as hp\n",
    "import os\n",
    "import pandas as pd"
   ]
  },
  {
   "cell_type": "code",
   "execution_count": 2,
   "metadata": {},
   "outputs": [],
   "source": [
    "# parameters\n",
    "model_name = 'S_CCBT_X'\n",
    "cust_id_column_name = 'GCIS_KEY'\n",
    "build_month = '201902'\n",
    "modeller = 'Francis'\n",
    "num_features_to_keep = 100"
   ]
  },
  {
   "cell_type": "code",
   "execution_count": 3,
   "metadata": {},
   "outputs": [],
   "source": [
    "# TD cohort table for modelling\n",
    "td_model_cohort_table = \"C4USTPMK.S_CCBT_X_cohort\"\n",
    "# TD table containing socring population: cust id and data_dt\n",
    "td_score_population_name = \"C4USTPMK.s_ccbt_x_score_population\"\n",
    "# feature table to be created for scoring\n",
    "td_score_table_name = \"C4USTPMK.S_CCBT_X_score_population_features\"\n",
    "# sql script to create the above \"td_score_table_name\"\n",
    "score_sql_file_name = \"scoring_population.sql\""
   ]
  },
  {
   "cell_type": "code",
   "execution_count": 4,
   "metadata": {},
   "outputs": [],
   "source": [
    "cnxn = hp.connect_td(os.environ['TDPASS'])\n",
    "query = 'sel * from {{COHORT_TABLE}}'.replace(\"{{COHORT_TABLE}}\", td_model_cohort_table)\n",
    "data = pd.read_sql(query, cnxn)\n",
    "data = hp.col_upper_case(data)\n",
    "\n",
    "target = hp.get_single_column(data, 'TARGET_F')"
   ]
  },
  {
   "cell_type": "code",
   "execution_count": 5,
   "metadata": {},
   "outputs": [],
   "source": [
    "from sklearn.pipeline import Pipeline\n",
    "pipeline = Pipeline([\n",
    "                     ('Var Dropper', hp.VarDropper()),\n",
    "                     ('Imputer', hp.Imputer()),\n",
    "                     ('Encoder', hp.Encoder())])"
   ]
  },
  {
   "cell_type": "code",
   "execution_count": 6,
   "metadata": {},
   "outputs": [],
   "source": [
    "# feature reduction\n",
    "df = pipeline.transform(data)"
   ]
  },
  {
   "cell_type": "code",
   "execution_count": 7,
   "metadata": {},
   "outputs": [],
   "source": [
    "# split train / test\n",
    "from sklearn.model_selection import train_test_split\n",
    "features = df.columns\n",
    "X_train, X_test, y_train, y_test = train_test_split(df, target, test_size=0.3)"
   ]
  },
  {
   "cell_type": "code",
   "execution_count": 8,
   "metadata": {},
   "outputs": [],
   "source": [
    "import xgboost as xgb\n",
    "model = xgb.XGBClassifier().fit(X_train, y_train)"
   ]
  },
  {
   "cell_type": "code",
   "execution_count": 9,
   "metadata": {},
   "outputs": [],
   "source": [
    "top_features = hp.get_var_importance(model, features, num_features_to_keep)"
   ]
  },
  {
   "cell_type": "code",
   "execution_count": 10,
   "metadata": {},
   "outputs": [],
   "source": [
    "# finalize model\n",
    "dfx = pipeline.transform(data[list(top_features.index)])\n",
    "# features_final = dfx.columns\n",
    "X_train_final, X_test_final, y_train_final, y_test_final = train_test_split(dfx, target, test_size=0.3)"
   ]
  },
  {
   "cell_type": "code",
   "execution_count": 11,
   "metadata": {},
   "outputs": [
    {
     "data": {
      "text/plain": [
       "XGBClassifier(base_score=0.5, booster='gbtree', colsample_bylevel=1,\n",
       "       colsample_bytree=1, gamma=0, learning_rate=0.1, max_delta_step=0,\n",
       "       max_depth=3, min_child_weight=1, missing=None, n_estimators=100,\n",
       "       n_jobs=1, nthread=None, objective='binary:logistic', random_state=0,\n",
       "       reg_alpha=0, reg_lambda=1, scale_pos_weight=1, seed=None,\n",
       "       silent=True, subsample=1)"
      ]
     },
     "execution_count": 11,
     "metadata": {},
     "output_type": "execute_result"
    }
   ],
   "source": [
    "model_final = xgb.XGBClassifier().fit(X_train, y_train)\n",
    "model_final.fit(X_train_final, y_train_final)"
   ]
  },
  {
   "cell_type": "code",
   "execution_count": 12,
   "metadata": {},
   "outputs": [
    {
     "name": "stdout",
     "output_type": "stream",
     "text": [
      "Accuracy: 0.664263\n",
      "Confustion Matrix: \n",
      "[[4269 2022]\n",
      " [2075 3837]]\n",
      "AUC Score: 0.731547\n",
      "GINI Coefficient: 0.463094\n"
     ]
    }
   ],
   "source": [
    "# model vaidation\n",
    "probas = model_final.predict_proba(X_test_final)\n",
    "hp.print_model_performance(model_final, X_test_final, y_test_final)"
   ]
  },
  {
   "cell_type": "code",
   "execution_count": 13,
   "metadata": {},
   "outputs": [
    {
     "data": {
      "image/png": "[encoded data removed]",
      "text/plain": [
       "<matplotlib.figure.Figure at 0xac46f98>"
      ]
     },
     "metadata": {},
     "output_type": "display_data"
    }
   ],
   "source": [
    "hp.plot_roc(model=model_final, model_label='XGB', X_test=X_test_final, y_test=y_test_final)"
   ]
  },
  {
   "cell_type": "code",
   "execution_count": 14,
   "metadata": {},
   "outputs": [],
   "source": [
    "# store trained model\n",
    "model_pack = hp.ModelWrapper(\n",
    "        model=model_final, features=list(top_features.index), pipeline=pipeline, prob_train=0.5, prob_prior=0.5,\n",
    "        algorithm='XGB', model_name=model_name, cust_key=[cust_id_column_name],\n",
    "        version='1.0', build_month=build_month, built_by=modeller)\n",
    "\n",
    "import pickle\n",
    "model_file_name = model_name + '.pkl'\n",
    "pickle.dump(model_pack, open(model_file_name, 'wb'))"
   ]
  },
  {
   "cell_type": "code",
   "execution_count": 15,
   "metadata": {},
   "outputs": [],
   "source": [
    "hp.write_scoring_sql(top_features, td_score_population_name, td_score_table_name, score_sql_file_name)"
   ]
  },
  {
   "cell_type": "code",
   "execution_count": null,
   "metadata": {},
   "outputs": [],
   "source": []
  }
 ],
 "metadata": {
  "kernelspec": {
   "display_name": "Python 3",
   "language": "python",
   "name": "python3"
  },
  "language_info": {
   "codemirror_mode": {
    "name": "ipython",
    "version": 3
   },
   "file_extension": ".py",
   "mimetype": "text/x-python",
   "name": "python",
   "nbconvert_exporter": "python",
   "pygments_lexer": "ipython3",
   "version": "3.6.9"
  }
 },
 "nbformat": 4,
 "nbformat_minor": 2
}
